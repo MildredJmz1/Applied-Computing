{
  "nbformat": 4,
  "nbformat_minor": 0,
  "metadata": {
    "colab": {
      "name": "Q2_ExamenFinal_Applied Computing.ipynb",
      "provenance": [],
      "collapsed_sections": [],
      "mount_file_id": "16k93t30E8e9t7LvW_gD2ZGXDGgwZox5i",
      "authorship_tag": "ABX9TyPVbwcpLaisY3eIDH/J2Z56",
      "include_colab_link": true
    },
    "kernelspec": {
      "name": "python3",
      "display_name": "Python 3"
    }
  },
  "cells": [
    {
      "cell_type": "markdown",
      "metadata": {
        "id": "view-in-github",
        "colab_type": "text"
      },
      "source": [
        "<a href=\"https://colab.research.google.com/github/MildredJmz1/Applied-Computing/blob/main/Q2_ExFinal_AppliedComputing_MGJR.ipynb\" target=\"_parent\"><img src=\"https://colab.research.google.com/assets/colab-badge.svg\" alt=\"Open In Colab\"/></a>"
      ]
    },
    {
      "cell_type": "markdown",
      "metadata": {
        "id": "BuwhOq3Zuoxj"
      },
      "source": [
        "Mildred Jiménez (A01631207)"
      ]
    },
    {
      "cell_type": "markdown",
      "metadata": {
        "id": "IMN0t9YvutcZ"
      },
      "source": [
        "## **QUESTION 2**"
      ]
    },
    {
      "cell_type": "markdown",
      "metadata": {
        "id": "hK08rI_AumZj"
      },
      "source": [
        "![image.png](data:image/png;base64,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)"
      ]
    },
    {
      "cell_type": "markdown",
      "metadata": {
        "id": "APimUKhhbN89"
      },
      "source": [
        "The main objective is to perform a PCA analysis in order to determine which are the most significant variables of the dataset, as well as to calculate an appropriate number of components that are capable to explain an acceptable percentage of the dataset."
      ]
    },
    {
      "cell_type": "markdown",
      "metadata": {
        "id": "2rt5SPCuoy3o"
      },
      "source": [
        "First, the necessary libraries were imported to the notebook. "
      ]
    },
    {
      "cell_type": "code",
      "metadata": {
        "id": "zJh6sRv9PBY6"
      },
      "source": [
        "import numpy as np\n",
        "import pandas as pd\n",
        "import matplotlib.pyplot as plt\n",
        "import seaborn as sns; sns.set()\n",
        "%matplotlib inline\n",
        "plt.style.use('ggplot')"
      ],
      "execution_count": 1,
      "outputs": []
    },
    {
      "cell_type": "code",
      "metadata": {
        "colab": {
          "base_uri": "https://localhost:8080/"
        },
        "id": "WaPe9mGnPQhS",
        "outputId": "f1a818d7-d20e-4b10-ffaa-3129c2e51bf9"
      },
      "source": [
        "from google.colab import drive\n",
        "drive.mount('/content/drive')"
      ],
      "execution_count": 2,
      "outputs": [
        {
          "output_type": "stream",
          "text": [
            "Drive already mounted at /content/drive; to attempt to forcibly remount, call drive.mount(\"/content/drive\", force_remount=True).\n"
          ],
          "name": "stdout"
        }
      ]
    },
    {
      "cell_type": "markdown",
      "metadata": {
        "id": "J54hPzkKo7qX"
      },
      "source": [
        "Afterwards, the corresponding file was loaded. A thorough analysis of the dataset is necessary to properly build the PCA."
      ]
    },
    {
      "cell_type": "code",
      "metadata": {
        "colab": {
          "base_uri": "https://localhost:8080/",
          "height": 439
        },
        "id": "8t4i6HnxPUy9",
        "outputId": "33eac191-6e07-4f11-8b0a-e3fb4e0e7005"
      },
      "source": [
        "df_pca=pd.read_csv('/content/drive/MyDrive/pca-bank.csv',sep=\";\")\n",
        "df_pca=pd.DataFrame(df_pca)\n",
        "display(df_pca)"
      ],
      "execution_count": 3,
      "outputs": [
        {
          "output_type": "display_data",
          "data": {
            "text/html": [
              "<div>\n",
              "<style scoped>\n",
              "    .dataframe tbody tr th:only-of-type {\n",
              "        vertical-align: middle;\n",
              "    }\n",
              "\n",
              "    .dataframe tbody tr th {\n",
              "        vertical-align: top;\n",
              "    }\n",
              "\n",
              "    .dataframe thead th {\n",
              "        text-align: right;\n",
              "    }\n",
              "</style>\n",
              "<table border=\"1\" class=\"dataframe\">\n",
              "  <thead>\n",
              "    <tr style=\"text-align: right;\">\n",
              "      <th></th>\n",
              "      <th>age</th>\n",
              "      <th>job</th>\n",
              "      <th>marital</th>\n",
              "      <th>education</th>\n",
              "      <th>default</th>\n",
              "      <th>housing</th>\n",
              "      <th>loan</th>\n",
              "      <th>contact</th>\n",
              "      <th>month</th>\n",
              "      <th>day_of_week</th>\n",
              "      <th>duration</th>\n",
              "      <th>campaign</th>\n",
              "      <th>pdays</th>\n",
              "      <th>previous</th>\n",
              "      <th>poutcome</th>\n",
              "      <th>emp.var.rate</th>\n",
              "      <th>cons.price.idx</th>\n",
              "      <th>cons.conf.idx</th>\n",
              "      <th>euribor3m</th>\n",
              "      <th>nr.employed</th>\n",
              "      <th>y</th>\n",
              "    </tr>\n",
              "  </thead>\n",
              "  <tbody>\n",
              "    <tr>\n",
              "      <th>0</th>\n",
              "      <td>30</td>\n",
              "      <td>blue-collar</td>\n",
              "      <td>married</td>\n",
              "      <td>basic.9y</td>\n",
              "      <td>no</td>\n",
              "      <td>yes</td>\n",
              "      <td>no</td>\n",
              "      <td>cellular</td>\n",
              "      <td>may</td>\n",
              "      <td>fri</td>\n",
              "      <td>487</td>\n",
              "      <td>2</td>\n",
              "      <td>999</td>\n",
              "      <td>0</td>\n",
              "      <td>nonexistent</td>\n",
              "      <td>-1.8</td>\n",
              "      <td>92.893</td>\n",
              "      <td>-46.2</td>\n",
              "      <td>1.313</td>\n",
              "      <td>5099.1</td>\n",
              "      <td>no</td>\n",
              "    </tr>\n",
              "    <tr>\n",
              "      <th>1</th>\n",
              "      <td>39</td>\n",
              "      <td>services</td>\n",
              "      <td>single</td>\n",
              "      <td>high.school</td>\n",
              "      <td>no</td>\n",
              "      <td>no</td>\n",
              "      <td>no</td>\n",
              "      <td>telephone</td>\n",
              "      <td>may</td>\n",
              "      <td>fri</td>\n",
              "      <td>346</td>\n",
              "      <td>4</td>\n",
              "      <td>999</td>\n",
              "      <td>0</td>\n",
              "      <td>nonexistent</td>\n",
              "      <td>1.1</td>\n",
              "      <td>93.994</td>\n",
              "      <td>-36.4</td>\n",
              "      <td>4.855</td>\n",
              "      <td>5191.0</td>\n",
              "      <td>no</td>\n",
              "    </tr>\n",
              "    <tr>\n",
              "      <th>2</th>\n",
              "      <td>25</td>\n",
              "      <td>services</td>\n",
              "      <td>married</td>\n",
              "      <td>high.school</td>\n",
              "      <td>no</td>\n",
              "      <td>yes</td>\n",
              "      <td>no</td>\n",
              "      <td>telephone</td>\n",
              "      <td>jun</td>\n",
              "      <td>wed</td>\n",
              "      <td>227</td>\n",
              "      <td>1</td>\n",
              "      <td>999</td>\n",
              "      <td>0</td>\n",
              "      <td>nonexistent</td>\n",
              "      <td>1.4</td>\n",
              "      <td>94.465</td>\n",
              "      <td>-41.8</td>\n",
              "      <td>4.962</td>\n",
              "      <td>5228.1</td>\n",
              "      <td>no</td>\n",
              "    </tr>\n",
              "    <tr>\n",
              "      <th>3</th>\n",
              "      <td>38</td>\n",
              "      <td>services</td>\n",
              "      <td>married</td>\n",
              "      <td>basic.9y</td>\n",
              "      <td>no</td>\n",
              "      <td>unknown</td>\n",
              "      <td>unknown</td>\n",
              "      <td>telephone</td>\n",
              "      <td>jun</td>\n",
              "      <td>fri</td>\n",
              "      <td>17</td>\n",
              "      <td>3</td>\n",
              "      <td>999</td>\n",
              "      <td>0</td>\n",
              "      <td>nonexistent</td>\n",
              "      <td>1.4</td>\n",
              "      <td>94.465</td>\n",
              "      <td>-41.8</td>\n",
              "      <td>4.959</td>\n",
              "      <td>5228.1</td>\n",
              "      <td>no</td>\n",
              "    </tr>\n",
              "    <tr>\n",
              "      <th>4</th>\n",
              "      <td>47</td>\n",
              "      <td>admin.</td>\n",
              "      <td>married</td>\n",
              "      <td>university.degree</td>\n",
              "      <td>no</td>\n",
              "      <td>yes</td>\n",
              "      <td>no</td>\n",
              "      <td>cellular</td>\n",
              "      <td>nov</td>\n",
              "      <td>mon</td>\n",
              "      <td>58</td>\n",
              "      <td>1</td>\n",
              "      <td>999</td>\n",
              "      <td>0</td>\n",
              "      <td>nonexistent</td>\n",
              "      <td>-0.1</td>\n",
              "      <td>93.200</td>\n",
              "      <td>-42.0</td>\n",
              "      <td>4.191</td>\n",
              "      <td>5195.8</td>\n",
              "      <td>no</td>\n",
              "    </tr>\n",
              "    <tr>\n",
              "      <th>...</th>\n",
              "      <td>...</td>\n",
              "      <td>...</td>\n",
              "      <td>...</td>\n",
              "      <td>...</td>\n",
              "      <td>...</td>\n",
              "      <td>...</td>\n",
              "      <td>...</td>\n",
              "      <td>...</td>\n",
              "      <td>...</td>\n",
              "      <td>...</td>\n",
              "      <td>...</td>\n",
              "      <td>...</td>\n",
              "      <td>...</td>\n",
              "      <td>...</td>\n",
              "      <td>...</td>\n",
              "      <td>...</td>\n",
              "      <td>...</td>\n",
              "      <td>...</td>\n",
              "      <td>...</td>\n",
              "      <td>...</td>\n",
              "      <td>...</td>\n",
              "    </tr>\n",
              "    <tr>\n",
              "      <th>4114</th>\n",
              "      <td>30</td>\n",
              "      <td>admin.</td>\n",
              "      <td>married</td>\n",
              "      <td>basic.6y</td>\n",
              "      <td>no</td>\n",
              "      <td>yes</td>\n",
              "      <td>yes</td>\n",
              "      <td>cellular</td>\n",
              "      <td>jul</td>\n",
              "      <td>thu</td>\n",
              "      <td>53</td>\n",
              "      <td>1</td>\n",
              "      <td>999</td>\n",
              "      <td>0</td>\n",
              "      <td>nonexistent</td>\n",
              "      <td>1.4</td>\n",
              "      <td>93.918</td>\n",
              "      <td>-42.7</td>\n",
              "      <td>4.958</td>\n",
              "      <td>5228.1</td>\n",
              "      <td>no</td>\n",
              "    </tr>\n",
              "    <tr>\n",
              "      <th>4115</th>\n",
              "      <td>39</td>\n",
              "      <td>admin.</td>\n",
              "      <td>married</td>\n",
              "      <td>high.school</td>\n",
              "      <td>no</td>\n",
              "      <td>yes</td>\n",
              "      <td>no</td>\n",
              "      <td>telephone</td>\n",
              "      <td>jul</td>\n",
              "      <td>fri</td>\n",
              "      <td>219</td>\n",
              "      <td>1</td>\n",
              "      <td>999</td>\n",
              "      <td>0</td>\n",
              "      <td>nonexistent</td>\n",
              "      <td>1.4</td>\n",
              "      <td>93.918</td>\n",
              "      <td>-42.7</td>\n",
              "      <td>4.959</td>\n",
              "      <td>5228.1</td>\n",
              "      <td>no</td>\n",
              "    </tr>\n",
              "    <tr>\n",
              "      <th>4116</th>\n",
              "      <td>27</td>\n",
              "      <td>student</td>\n",
              "      <td>single</td>\n",
              "      <td>high.school</td>\n",
              "      <td>no</td>\n",
              "      <td>no</td>\n",
              "      <td>no</td>\n",
              "      <td>cellular</td>\n",
              "      <td>may</td>\n",
              "      <td>mon</td>\n",
              "      <td>64</td>\n",
              "      <td>2</td>\n",
              "      <td>999</td>\n",
              "      <td>1</td>\n",
              "      <td>failure</td>\n",
              "      <td>-1.8</td>\n",
              "      <td>92.893</td>\n",
              "      <td>-46.2</td>\n",
              "      <td>1.354</td>\n",
              "      <td>5099.1</td>\n",
              "      <td>no</td>\n",
              "    </tr>\n",
              "    <tr>\n",
              "      <th>4117</th>\n",
              "      <td>58</td>\n",
              "      <td>admin.</td>\n",
              "      <td>married</td>\n",
              "      <td>high.school</td>\n",
              "      <td>no</td>\n",
              "      <td>no</td>\n",
              "      <td>no</td>\n",
              "      <td>cellular</td>\n",
              "      <td>aug</td>\n",
              "      <td>fri</td>\n",
              "      <td>528</td>\n",
              "      <td>1</td>\n",
              "      <td>999</td>\n",
              "      <td>0</td>\n",
              "      <td>nonexistent</td>\n",
              "      <td>1.4</td>\n",
              "      <td>93.444</td>\n",
              "      <td>-36.1</td>\n",
              "      <td>4.966</td>\n",
              "      <td>5228.1</td>\n",
              "      <td>no</td>\n",
              "    </tr>\n",
              "    <tr>\n",
              "      <th>4118</th>\n",
              "      <td>34</td>\n",
              "      <td>management</td>\n",
              "      <td>single</td>\n",
              "      <td>high.school</td>\n",
              "      <td>no</td>\n",
              "      <td>yes</td>\n",
              "      <td>no</td>\n",
              "      <td>cellular</td>\n",
              "      <td>nov</td>\n",
              "      <td>wed</td>\n",
              "      <td>175</td>\n",
              "      <td>1</td>\n",
              "      <td>999</td>\n",
              "      <td>0</td>\n",
              "      <td>nonexistent</td>\n",
              "      <td>-0.1</td>\n",
              "      <td>93.200</td>\n",
              "      <td>-42.0</td>\n",
              "      <td>4.120</td>\n",
              "      <td>5195.8</td>\n",
              "      <td>no</td>\n",
              "    </tr>\n",
              "  </tbody>\n",
              "</table>\n",
              "<p>4119 rows × 21 columns</p>\n",
              "</div>"
            ],
            "text/plain": [
              "      age          job  marital  ... euribor3m nr.employed   y\n",
              "0      30  blue-collar  married  ...     1.313      5099.1  no\n",
              "1      39     services   single  ...     4.855      5191.0  no\n",
              "2      25     services  married  ...     4.962      5228.1  no\n",
              "3      38     services  married  ...     4.959      5228.1  no\n",
              "4      47       admin.  married  ...     4.191      5195.8  no\n",
              "...   ...          ...      ...  ...       ...         ...  ..\n",
              "4114   30       admin.  married  ...     4.958      5228.1  no\n",
              "4115   39       admin.  married  ...     4.959      5228.1  no\n",
              "4116   27      student   single  ...     1.354      5099.1  no\n",
              "4117   58       admin.  married  ...     4.966      5228.1  no\n",
              "4118   34   management   single  ...     4.120      5195.8  no\n",
              "\n",
              "[4119 rows x 21 columns]"
            ]
          },
          "metadata": {
            "tags": []
          }
        }
      ]
    },
    {
      "cell_type": "markdown",
      "metadata": {
        "id": "aWbZBtIhpVEf"
      },
      "source": [
        "The first step to analyze the data was to make sure that it didn´t contain missing values. "
      ]
    },
    {
      "cell_type": "code",
      "metadata": {
        "colab": {
          "base_uri": "https://localhost:8080/"
        },
        "id": "xs8id4l76vKH",
        "outputId": "013d3e8d-dc3b-4ed8-f416-3a3af34acba7"
      },
      "source": [
        "print(df_pca.isnull().sum())"
      ],
      "execution_count": 4,
      "outputs": [
        {
          "output_type": "stream",
          "text": [
            "age               0\n",
            "job               0\n",
            "marital           0\n",
            "education         0\n",
            "default           0\n",
            "housing           0\n",
            "loan              0\n",
            "contact           0\n",
            "month             0\n",
            "day_of_week       0\n",
            "duration          0\n",
            "campaign          0\n",
            "pdays             0\n",
            "previous          0\n",
            "poutcome          0\n",
            "emp.var.rate      0\n",
            "cons.price.idx    0\n",
            "cons.conf.idx     0\n",
            "euribor3m         0\n",
            "nr.employed       0\n",
            "y                 0\n",
            "dtype: int64\n"
          ],
          "name": "stdout"
        }
      ]
    },
    {
      "cell_type": "markdown",
      "metadata": {
        "id": "ZpmLsWwRm3YE"
      },
      "source": [
        "Once it was determined that the dataset did not contain any null values, it was necessary to check all the different data types that the dataset contains."
      ]
    },
    {
      "cell_type": "code",
      "metadata": {
        "colab": {
          "base_uri": "https://localhost:8080/"
        },
        "id": "ScuFKyM_m6gg",
        "outputId": "ab8d86e7-c4c8-46c2-a677-7eded67076ed"
      },
      "source": [
        "df_pca.dtypes"
      ],
      "execution_count": 5,
      "outputs": [
        {
          "output_type": "execute_result",
          "data": {
            "text/plain": [
              "age                 int64\n",
              "job                object\n",
              "marital            object\n",
              "education          object\n",
              "default            object\n",
              "housing            object\n",
              "loan               object\n",
              "contact            object\n",
              "month              object\n",
              "day_of_week        object\n",
              "duration            int64\n",
              "campaign            int64\n",
              "pdays               int64\n",
              "previous            int64\n",
              "poutcome           object\n",
              "emp.var.rate      float64\n",
              "cons.price.idx    float64\n",
              "cons.conf.idx     float64\n",
              "euribor3m         float64\n",
              "nr.employed       float64\n",
              "y                  object\n",
              "dtype: object"
            ]
          },
          "metadata": {
            "tags": []
          },
          "execution_count": 5
        }
      ]
    },
    {
      "cell_type": "markdown",
      "metadata": {
        "id": "Mr3GTtPrncx2"
      },
      "source": [
        "Now we are going to find out how many different categories are contained in each \"object type\" so we can better understand our data and represent them with numerical values. "
      ]
    },
    {
      "cell_type": "code",
      "metadata": {
        "colab": {
          "base_uri": "https://localhost:8080/"
        },
        "id": "pTB5WIqknhGn",
        "outputId": "5afae561-9b8e-4734-b00d-0cdea4c5590e"
      },
      "source": [
        "job_counts = df_pca[\"job\"].value_counts()\n",
        "print(job_counts)\n"
      ],
      "execution_count": 6,
      "outputs": [
        {
          "output_type": "stream",
          "text": [
            "admin.           1012\n",
            "blue-collar       884\n",
            "technician        691\n",
            "services          393\n",
            "management        324\n",
            "retired           166\n",
            "self-employed     159\n",
            "entrepreneur      148\n",
            "unemployed        111\n",
            "housemaid         110\n",
            "student            82\n",
            "unknown            39\n",
            "Name: job, dtype: int64\n"
          ],
          "name": "stdout"
        }
      ]
    },
    {
      "cell_type": "code",
      "metadata": {
        "colab": {
          "base_uri": "https://localhost:8080/"
        },
        "id": "K-LJUZH7pG_n",
        "outputId": "f663432f-9329-49d3-f157-3640fea2af6d"
      },
      "source": [
        "marital_counts = df_pca[\"marital\"].value_counts()\n",
        "print(marital_counts)"
      ],
      "execution_count": 7,
      "outputs": [
        {
          "output_type": "stream",
          "text": [
            "married     2509\n",
            "single      1153\n",
            "divorced     446\n",
            "unknown       11\n",
            "Name: marital, dtype: int64\n"
          ],
          "name": "stdout"
        }
      ]
    },
    {
      "cell_type": "code",
      "metadata": {
        "colab": {
          "base_uri": "https://localhost:8080/"
        },
        "id": "NWXboHptpLhF",
        "outputId": "20f0662c-b8df-449c-b606-e0f6dacd83c5"
      },
      "source": [
        "education_counts = df_pca[\"education\"].value_counts()\n",
        "print(education_counts)"
      ],
      "execution_count": 8,
      "outputs": [
        {
          "output_type": "stream",
          "text": [
            "university.degree      1264\n",
            "high.school             921\n",
            "basic.9y                574\n",
            "professional.course     535\n",
            "basic.4y                429\n",
            "basic.6y                228\n",
            "unknown                 167\n",
            "illiterate                1\n",
            "Name: education, dtype: int64\n"
          ],
          "name": "stdout"
        }
      ]
    },
    {
      "cell_type": "code",
      "metadata": {
        "colab": {
          "base_uri": "https://localhost:8080/"
        },
        "id": "ZyG8zUYgpTqG",
        "outputId": "9df4814e-2bfc-47a3-98e3-5c4c2801b08b"
      },
      "source": [
        "default_counts = df_pca[\"default\"].value_counts()\n",
        "print(default_counts)"
      ],
      "execution_count": 9,
      "outputs": [
        {
          "output_type": "stream",
          "text": [
            "no         3315\n",
            "unknown     803\n",
            "yes           1\n",
            "Name: default, dtype: int64\n"
          ],
          "name": "stdout"
        }
      ]
    },
    {
      "cell_type": "code",
      "metadata": {
        "colab": {
          "base_uri": "https://localhost:8080/"
        },
        "id": "eanYOfDkpZMP",
        "outputId": "e0777400-3479-4859-b28f-3e976421c4c0"
      },
      "source": [
        "housing_counts = df_pca[\"housing\"].value_counts()\n",
        "print(housing_counts)"
      ],
      "execution_count": 10,
      "outputs": [
        {
          "output_type": "stream",
          "text": [
            "yes        2175\n",
            "no         1839\n",
            "unknown     105\n",
            "Name: housing, dtype: int64\n"
          ],
          "name": "stdout"
        }
      ]
    },
    {
      "cell_type": "code",
      "metadata": {
        "colab": {
          "base_uri": "https://localhost:8080/"
        },
        "id": "MiM-mvzLpgt0",
        "outputId": "d2ab7a5e-0900-4cb9-e52f-8f04e7420347"
      },
      "source": [
        "loan_counts = df_pca[\"loan\"].value_counts()\n",
        "print(loan_counts)"
      ],
      "execution_count": 11,
      "outputs": [
        {
          "output_type": "stream",
          "text": [
            "no         3349\n",
            "yes         665\n",
            "unknown     105\n",
            "Name: loan, dtype: int64\n"
          ],
          "name": "stdout"
        }
      ]
    },
    {
      "cell_type": "code",
      "metadata": {
        "colab": {
          "base_uri": "https://localhost:8080/"
        },
        "id": "dJxoCoUjpmeF",
        "outputId": "f5407a65-4af9-4155-a37a-50efcc7c7fcd"
      },
      "source": [
        "contact_counts = df_pca[\"contact\"].value_counts()\n",
        "print(contact_counts)"
      ],
      "execution_count": 12,
      "outputs": [
        {
          "output_type": "stream",
          "text": [
            "cellular     2652\n",
            "telephone    1467\n",
            "Name: contact, dtype: int64\n"
          ],
          "name": "stdout"
        }
      ]
    },
    {
      "cell_type": "code",
      "metadata": {
        "colab": {
          "base_uri": "https://localhost:8080/"
        },
        "id": "0ao_0W0apvRR",
        "outputId": "b59ff69e-2709-4cbe-a3d5-a291334d4127"
      },
      "source": [
        "month_counts = df_pca[\"month\"].value_counts()\n",
        "print(month_counts)"
      ],
      "execution_count": 13,
      "outputs": [
        {
          "output_type": "stream",
          "text": [
            "may    1378\n",
            "jul     711\n",
            "aug     636\n",
            "jun     530\n",
            "nov     446\n",
            "apr     215\n",
            "oct      69\n",
            "sep      64\n",
            "mar      48\n",
            "dec      22\n",
            "Name: month, dtype: int64\n"
          ],
          "name": "stdout"
        }
      ]
    },
    {
      "cell_type": "code",
      "metadata": {
        "colab": {
          "base_uri": "https://localhost:8080/"
        },
        "id": "qgoZXCTOp0GI",
        "outputId": "cfee007c-ca7f-44ab-a518-44201a82f778"
      },
      "source": [
        "dayofweek_counts = df_pca[\"day_of_week\"].value_counts()\n",
        "print(dayofweek_counts)"
      ],
      "execution_count": 14,
      "outputs": [
        {
          "output_type": "stream",
          "text": [
            "thu    860\n",
            "mon    855\n",
            "tue    841\n",
            "wed    795\n",
            "fri    768\n",
            "Name: day_of_week, dtype: int64\n"
          ],
          "name": "stdout"
        }
      ]
    },
    {
      "cell_type": "code",
      "metadata": {
        "colab": {
          "base_uri": "https://localhost:8080/"
        },
        "id": "336mVL0zqA38",
        "outputId": "e1a9558e-9078-49eb-ae12-1abbfa5fcd51"
      },
      "source": [
        "poutcome_counts = df_pca[\"poutcome\"].value_counts()\n",
        "print(poutcome_counts)"
      ],
      "execution_count": 15,
      "outputs": [
        {
          "output_type": "stream",
          "text": [
            "nonexistent    3523\n",
            "failure         454\n",
            "success         142\n",
            "Name: poutcome, dtype: int64\n"
          ],
          "name": "stdout"
        }
      ]
    },
    {
      "cell_type": "code",
      "metadata": {
        "colab": {
          "base_uri": "https://localhost:8080/"
        },
        "id": "7ARZMajYqJFh",
        "outputId": "100cf7a1-f639-4e35-a76f-9264a7142a76"
      },
      "source": [
        "y_counts = df_pca[\"y\"].value_counts()\n",
        "print(y_counts)"
      ],
      "execution_count": 16,
      "outputs": [
        {
          "output_type": "stream",
          "text": [
            "no     3668\n",
            "yes     451\n",
            "Name: y, dtype: int64\n"
          ],
          "name": "stdout"
        }
      ]
    },
    {
      "cell_type": "markdown",
      "metadata": {
        "id": "sdQJLYq6p_MU"
      },
      "source": [
        "The following algorithm was performed to assign a numerical value to the categorical data in order for it to be suitable to perform a PCA."
      ]
    },
    {
      "cell_type": "code",
      "metadata": {
        "id": "IO_epeZ72YQ6"
      },
      "source": [
        "from sklearn import preprocessing"
      ],
      "execution_count": 17,
      "outputs": []
    },
    {
      "cell_type": "code",
      "metadata": {
        "colab": {
          "base_uri": "https://localhost:8080/",
          "height": 439
        },
        "id": "RPo_4nTg19_B",
        "outputId": "78461f2f-2c88-431f-fa66-276a6a031bfb"
      },
      "source": [
        "le = preprocessing.LabelEncoder() #vuelvo las variables categóricas a numéricas\n",
        "for v in ['job', 'marital', 'education', 'default', 'housing', 'loan',\n",
        "       'contact', 'month', 'day_of_week', 'duration', 'poutcome', 'y']:\n",
        "    x=df_pca[v]\n",
        "    d=pd.crosstab(index=x, columns='count')\n",
        "    ind=d.index\n",
        "    ind=ind[0:len(ind)]\n",
        "    ind=ind.astype('category')\n",
        "    le.fit(ind)\n",
        "    df_pca[v]=le.transform(x)\n",
        "\n",
        "df2PCA=pd.DataFrame(df_pca) #nuevo dataframe\n",
        "display(df2PCA)"
      ],
      "execution_count": 18,
      "outputs": [
        {
          "output_type": "display_data",
          "data": {
            "text/html": [
              "<div>\n",
              "<style scoped>\n",
              "    .dataframe tbody tr th:only-of-type {\n",
              "        vertical-align: middle;\n",
              "    }\n",
              "\n",
              "    .dataframe tbody tr th {\n",
              "        vertical-align: top;\n",
              "    }\n",
              "\n",
              "    .dataframe thead th {\n",
              "        text-align: right;\n",
              "    }\n",
              "</style>\n",
              "<table border=\"1\" class=\"dataframe\">\n",
              "  <thead>\n",
              "    <tr style=\"text-align: right;\">\n",
              "      <th></th>\n",
              "      <th>age</th>\n",
              "      <th>job</th>\n",
              "      <th>marital</th>\n",
              "      <th>education</th>\n",
              "      <th>default</th>\n",
              "      <th>housing</th>\n",
              "      <th>loan</th>\n",
              "      <th>contact</th>\n",
              "      <th>month</th>\n",
              "      <th>day_of_week</th>\n",
              "      <th>duration</th>\n",
              "      <th>campaign</th>\n",
              "      <th>pdays</th>\n",
              "      <th>previous</th>\n",
              "      <th>poutcome</th>\n",
              "      <th>emp.var.rate</th>\n",
              "      <th>cons.price.idx</th>\n",
              "      <th>cons.conf.idx</th>\n",
              "      <th>euribor3m</th>\n",
              "      <th>nr.employed</th>\n",
              "      <th>y</th>\n",
              "    </tr>\n",
              "  </thead>\n",
              "  <tbody>\n",
              "    <tr>\n",
              "      <th>0</th>\n",
              "      <td>30</td>\n",
              "      <td>1</td>\n",
              "      <td>1</td>\n",
              "      <td>2</td>\n",
              "      <td>0</td>\n",
              "      <td>2</td>\n",
              "      <td>0</td>\n",
              "      <td>0</td>\n",
              "      <td>6</td>\n",
              "      <td>0</td>\n",
              "      <td>474</td>\n",
              "      <td>2</td>\n",
              "      <td>999</td>\n",
              "      <td>0</td>\n",
              "      <td>1</td>\n",
              "      <td>-1.8</td>\n",
              "      <td>92.893</td>\n",
              "      <td>-46.2</td>\n",
              "      <td>1.313</td>\n",
              "      <td>5099.1</td>\n",
              "      <td>0</td>\n",
              "    </tr>\n",
              "    <tr>\n",
              "      <th>1</th>\n",
              "      <td>39</td>\n",
              "      <td>7</td>\n",
              "      <td>2</td>\n",
              "      <td>3</td>\n",
              "      <td>0</td>\n",
              "      <td>0</td>\n",
              "      <td>0</td>\n",
              "      <td>1</td>\n",
              "      <td>6</td>\n",
              "      <td>0</td>\n",
              "      <td>343</td>\n",
              "      <td>4</td>\n",
              "      <td>999</td>\n",
              "      <td>0</td>\n",
              "      <td>1</td>\n",
              "      <td>1.1</td>\n",
              "      <td>93.994</td>\n",
              "      <td>-36.4</td>\n",
              "      <td>4.855</td>\n",
              "      <td>5191.0</td>\n",
              "      <td>0</td>\n",
              "    </tr>\n",
              "    <tr>\n",
              "      <th>2</th>\n",
              "      <td>25</td>\n",
              "      <td>7</td>\n",
              "      <td>1</td>\n",
              "      <td>3</td>\n",
              "      <td>0</td>\n",
              "      <td>2</td>\n",
              "      <td>0</td>\n",
              "      <td>1</td>\n",
              "      <td>4</td>\n",
              "      <td>4</td>\n",
              "      <td>224</td>\n",
              "      <td>1</td>\n",
              "      <td>999</td>\n",
              "      <td>0</td>\n",
              "      <td>1</td>\n",
              "      <td>1.4</td>\n",
              "      <td>94.465</td>\n",
              "      <td>-41.8</td>\n",
              "      <td>4.962</td>\n",
              "      <td>5228.1</td>\n",
              "      <td>0</td>\n",
              "    </tr>\n",
              "    <tr>\n",
              "      <th>3</th>\n",
              "      <td>38</td>\n",
              "      <td>7</td>\n",
              "      <td>1</td>\n",
              "      <td>2</td>\n",
              "      <td>0</td>\n",
              "      <td>1</td>\n",
              "      <td>1</td>\n",
              "      <td>1</td>\n",
              "      <td>4</td>\n",
              "      <td>0</td>\n",
              "      <td>14</td>\n",
              "      <td>3</td>\n",
              "      <td>999</td>\n",
              "      <td>0</td>\n",
              "      <td>1</td>\n",
              "      <td>1.4</td>\n",
              "      <td>94.465</td>\n",
              "      <td>-41.8</td>\n",
              "      <td>4.959</td>\n",
              "      <td>5228.1</td>\n",
              "      <td>0</td>\n",
              "    </tr>\n",
              "    <tr>\n",
              "      <th>4</th>\n",
              "      <td>47</td>\n",
              "      <td>0</td>\n",
              "      <td>1</td>\n",
              "      <td>6</td>\n",
              "      <td>0</td>\n",
              "      <td>2</td>\n",
              "      <td>0</td>\n",
              "      <td>0</td>\n",
              "      <td>7</td>\n",
              "      <td>1</td>\n",
              "      <td>55</td>\n",
              "      <td>1</td>\n",
              "      <td>999</td>\n",
              "      <td>0</td>\n",
              "      <td>1</td>\n",
              "      <td>-0.1</td>\n",
              "      <td>93.200</td>\n",
              "      <td>-42.0</td>\n",
              "      <td>4.191</td>\n",
              "      <td>5195.8</td>\n",
              "      <td>0</td>\n",
              "    </tr>\n",
              "    <tr>\n",
              "      <th>...</th>\n",
              "      <td>...</td>\n",
              "      <td>...</td>\n",
              "      <td>...</td>\n",
              "      <td>...</td>\n",
              "      <td>...</td>\n",
              "      <td>...</td>\n",
              "      <td>...</td>\n",
              "      <td>...</td>\n",
              "      <td>...</td>\n",
              "      <td>...</td>\n",
              "      <td>...</td>\n",
              "      <td>...</td>\n",
              "      <td>...</td>\n",
              "      <td>...</td>\n",
              "      <td>...</td>\n",
              "      <td>...</td>\n",
              "      <td>...</td>\n",
              "      <td>...</td>\n",
              "      <td>...</td>\n",
              "      <td>...</td>\n",
              "      <td>...</td>\n",
              "    </tr>\n",
              "    <tr>\n",
              "      <th>4114</th>\n",
              "      <td>30</td>\n",
              "      <td>0</td>\n",
              "      <td>1</td>\n",
              "      <td>1</td>\n",
              "      <td>0</td>\n",
              "      <td>2</td>\n",
              "      <td>2</td>\n",
              "      <td>0</td>\n",
              "      <td>3</td>\n",
              "      <td>2</td>\n",
              "      <td>50</td>\n",
              "      <td>1</td>\n",
              "      <td>999</td>\n",
              "      <td>0</td>\n",
              "      <td>1</td>\n",
              "      <td>1.4</td>\n",
              "      <td>93.918</td>\n",
              "      <td>-42.7</td>\n",
              "      <td>4.958</td>\n",
              "      <td>5228.1</td>\n",
              "      <td>0</td>\n",
              "    </tr>\n",
              "    <tr>\n",
              "      <th>4115</th>\n",
              "      <td>39</td>\n",
              "      <td>0</td>\n",
              "      <td>1</td>\n",
              "      <td>3</td>\n",
              "      <td>0</td>\n",
              "      <td>2</td>\n",
              "      <td>0</td>\n",
              "      <td>1</td>\n",
              "      <td>3</td>\n",
              "      <td>0</td>\n",
              "      <td>216</td>\n",
              "      <td>1</td>\n",
              "      <td>999</td>\n",
              "      <td>0</td>\n",
              "      <td>1</td>\n",
              "      <td>1.4</td>\n",
              "      <td>93.918</td>\n",
              "      <td>-42.7</td>\n",
              "      <td>4.959</td>\n",
              "      <td>5228.1</td>\n",
              "      <td>0</td>\n",
              "    </tr>\n",
              "    <tr>\n",
              "      <th>4116</th>\n",
              "      <td>27</td>\n",
              "      <td>8</td>\n",
              "      <td>2</td>\n",
              "      <td>3</td>\n",
              "      <td>0</td>\n",
              "      <td>0</td>\n",
              "      <td>0</td>\n",
              "      <td>0</td>\n",
              "      <td>6</td>\n",
              "      <td>1</td>\n",
              "      <td>61</td>\n",
              "      <td>2</td>\n",
              "      <td>999</td>\n",
              "      <td>1</td>\n",
              "      <td>0</td>\n",
              "      <td>-1.8</td>\n",
              "      <td>92.893</td>\n",
              "      <td>-46.2</td>\n",
              "      <td>1.354</td>\n",
              "      <td>5099.1</td>\n",
              "      <td>0</td>\n",
              "    </tr>\n",
              "    <tr>\n",
              "      <th>4117</th>\n",
              "      <td>58</td>\n",
              "      <td>0</td>\n",
              "      <td>1</td>\n",
              "      <td>3</td>\n",
              "      <td>0</td>\n",
              "      <td>0</td>\n",
              "      <td>0</td>\n",
              "      <td>0</td>\n",
              "      <td>1</td>\n",
              "      <td>0</td>\n",
              "      <td>510</td>\n",
              "      <td>1</td>\n",
              "      <td>999</td>\n",
              "      <td>0</td>\n",
              "      <td>1</td>\n",
              "      <td>1.4</td>\n",
              "      <td>93.444</td>\n",
              "      <td>-36.1</td>\n",
              "      <td>4.966</td>\n",
              "      <td>5228.1</td>\n",
              "      <td>0</td>\n",
              "    </tr>\n",
              "    <tr>\n",
              "      <th>4118</th>\n",
              "      <td>34</td>\n",
              "      <td>4</td>\n",
              "      <td>2</td>\n",
              "      <td>3</td>\n",
              "      <td>0</td>\n",
              "      <td>2</td>\n",
              "      <td>0</td>\n",
              "      <td>0</td>\n",
              "      <td>7</td>\n",
              "      <td>4</td>\n",
              "      <td>172</td>\n",
              "      <td>1</td>\n",
              "      <td>999</td>\n",
              "      <td>0</td>\n",
              "      <td>1</td>\n",
              "      <td>-0.1</td>\n",
              "      <td>93.200</td>\n",
              "      <td>-42.0</td>\n",
              "      <td>4.120</td>\n",
              "      <td>5195.8</td>\n",
              "      <td>0</td>\n",
              "    </tr>\n",
              "  </tbody>\n",
              "</table>\n",
              "<p>4119 rows × 21 columns</p>\n",
              "</div>"
            ],
            "text/plain": [
              "      age  job  marital  education  ...  cons.conf.idx  euribor3m  nr.employed  y\n",
              "0      30    1        1          2  ...          -46.2      1.313       5099.1  0\n",
              "1      39    7        2          3  ...          -36.4      4.855       5191.0  0\n",
              "2      25    7        1          3  ...          -41.8      4.962       5228.1  0\n",
              "3      38    7        1          2  ...          -41.8      4.959       5228.1  0\n",
              "4      47    0        1          6  ...          -42.0      4.191       5195.8  0\n",
              "...   ...  ...      ...        ...  ...            ...        ...          ... ..\n",
              "4114   30    0        1          1  ...          -42.7      4.958       5228.1  0\n",
              "4115   39    0        1          3  ...          -42.7      4.959       5228.1  0\n",
              "4116   27    8        2          3  ...          -46.2      1.354       5099.1  0\n",
              "4117   58    0        1          3  ...          -36.1      4.966       5228.1  0\n",
              "4118   34    4        2          3  ...          -42.0      4.120       5195.8  0\n",
              "\n",
              "[4119 rows x 21 columns]"
            ]
          },
          "metadata": {
            "tags": []
          }
        }
      ]
    },
    {
      "cell_type": "markdown",
      "metadata": {
        "id": "rLy3okBzqOxU"
      },
      "source": [
        "Afterwards, the data was standarized so that the dataset would contain the same types of data, since some are continuous while others are not, and because there is a lot of range variability between them. Once the data was standarized with the StandardScaler() function, the PCA model was performed on the new standarized dataset. Four components were chosen by default to perform the analysis. "
      ]
    },
    {
      "cell_type": "code",
      "metadata": {
        "id": "NpnYiyxk3MSe"
      },
      "source": [
        "from sklearn.preprocessing import StandardScaler\n",
        "from sklearn.decomposition import PCA"
      ],
      "execution_count": 19,
      "outputs": []
    },
    {
      "cell_type": "code",
      "metadata": {
        "id": "L4VnGTkX3PUP"
      },
      "source": [
        "ss=StandardScaler().fit_transform(df2PCA) #standarizing the data types\n",
        "model=PCA(n_components=4)\n",
        "pca=model.fit_transform(ss)"
      ],
      "execution_count": 20,
      "outputs": []
    },
    {
      "cell_type": "markdown",
      "metadata": {
        "id": "rgV4o_508ggP"
      },
      "source": [
        "The extent of the PCA model was corroborated by using the .shape function."
      ]
    },
    {
      "cell_type": "code",
      "metadata": {
        "colab": {
          "base_uri": "https://localhost:8080/"
        },
        "id": "Q9e_c4si8k1e",
        "outputId": "ccc781b3-5656-424a-e6ab-06c3fad4887a"
      },
      "source": [
        "pca.shape #to make sure that the PCA with 4 components has been carried out properly. "
      ],
      "execution_count": 21,
      "outputs": [
        {
          "output_type": "execute_result",
          "data": {
            "text/plain": [
              "(4119, 4)"
            ]
          },
          "metadata": {
            "tags": []
          },
          "execution_count": 21
        }
      ]
    },
    {
      "cell_type": "markdown",
      "metadata": {
        "id": "atneggRBwoLR"
      },
      "source": [
        "The dataset below was then obtained to evaluate which variables are more significant for the dataset."
      ]
    },
    {
      "cell_type": "code",
      "metadata": {
        "colab": {
          "base_uri": "https://localhost:8080/",
          "height": 700
        },
        "id": "ty4Cj6df3clV",
        "outputId": "bf652819-81c0-4960-a923-559f20acf352"
      },
      "source": [
        "pd.DataFrame(model.components_[0,:], df2PCA.columns)"
      ],
      "execution_count": 22,
      "outputs": [
        {
          "output_type": "execute_result",
          "data": {
            "text/html": [
              "<div>\n",
              "<style scoped>\n",
              "    .dataframe tbody tr th:only-of-type {\n",
              "        vertical-align: middle;\n",
              "    }\n",
              "\n",
              "    .dataframe tbody tr th {\n",
              "        vertical-align: top;\n",
              "    }\n",
              "\n",
              "    .dataframe thead th {\n",
              "        text-align: right;\n",
              "    }\n",
              "</style>\n",
              "<table border=\"1\" class=\"dataframe\">\n",
              "  <thead>\n",
              "    <tr style=\"text-align: right;\">\n",
              "      <th></th>\n",
              "      <th>0</th>\n",
              "    </tr>\n",
              "  </thead>\n",
              "  <tbody>\n",
              "    <tr>\n",
              "      <th>age</th>\n",
              "      <td>0.003045</td>\n",
              "    </tr>\n",
              "    <tr>\n",
              "      <th>job</th>\n",
              "      <td>0.017924</td>\n",
              "    </tr>\n",
              "    <tr>\n",
              "      <th>marital</th>\n",
              "      <td>0.051795</td>\n",
              "    </tr>\n",
              "    <tr>\n",
              "      <th>education</th>\n",
              "      <td>0.054179</td>\n",
              "    </tr>\n",
              "    <tr>\n",
              "      <th>default</th>\n",
              "      <td>-0.121435</td>\n",
              "    </tr>\n",
              "    <tr>\n",
              "      <th>housing</th>\n",
              "      <td>0.037772</td>\n",
              "    </tr>\n",
              "    <tr>\n",
              "      <th>loan</th>\n",
              "      <td>-0.004588</td>\n",
              "    </tr>\n",
              "    <tr>\n",
              "      <th>contact</th>\n",
              "      <td>-0.247196</td>\n",
              "    </tr>\n",
              "    <tr>\n",
              "      <th>month</th>\n",
              "      <td>0.082529</td>\n",
              "    </tr>\n",
              "    <tr>\n",
              "      <th>day_of_week</th>\n",
              "      <td>-0.014636</td>\n",
              "    </tr>\n",
              "    <tr>\n",
              "      <th>duration</th>\n",
              "      <td>0.057145</td>\n",
              "    </tr>\n",
              "    <tr>\n",
              "      <th>campaign</th>\n",
              "      <td>-0.108425</td>\n",
              "    </tr>\n",
              "    <tr>\n",
              "      <th>pdays</th>\n",
              "      <td>-0.203404</td>\n",
              "    </tr>\n",
              "    <tr>\n",
              "      <th>previous</th>\n",
              "      <td>0.288944</td>\n",
              "    </tr>\n",
              "    <tr>\n",
              "      <th>poutcome</th>\n",
              "      <td>-0.101293</td>\n",
              "    </tr>\n",
              "    <tr>\n",
              "      <th>emp.var.rate</th>\n",
              "      <td>-0.452055</td>\n",
              "    </tr>\n",
              "    <tr>\n",
              "      <th>cons.price.idx</th>\n",
              "      <td>-0.338274</td>\n",
              "    </tr>\n",
              "    <tr>\n",
              "      <th>cons.conf.idx</th>\n",
              "      <td>-0.102876</td>\n",
              "    </tr>\n",
              "    <tr>\n",
              "      <th>euribor3m</th>\n",
              "      <td>-0.454558</td>\n",
              "    </tr>\n",
              "    <tr>\n",
              "      <th>nr.employed</th>\n",
              "      <td>-0.431069</td>\n",
              "    </tr>\n",
              "    <tr>\n",
              "      <th>y</th>\n",
              "      <td>0.194352</td>\n",
              "    </tr>\n",
              "  </tbody>\n",
              "</table>\n",
              "</div>"
            ],
            "text/plain": [
              "                       0\n",
              "age             0.003045\n",
              "job             0.017924\n",
              "marital         0.051795\n",
              "education       0.054179\n",
              "default        -0.121435\n",
              "housing         0.037772\n",
              "loan           -0.004588\n",
              "contact        -0.247196\n",
              "month           0.082529\n",
              "day_of_week    -0.014636\n",
              "duration        0.057145\n",
              "campaign       -0.108425\n",
              "pdays          -0.203404\n",
              "previous        0.288944\n",
              "poutcome       -0.101293\n",
              "emp.var.rate   -0.452055\n",
              "cons.price.idx -0.338274\n",
              "cons.conf.idx  -0.102876\n",
              "euribor3m      -0.454558\n",
              "nr.employed    -0.431069\n",
              "y               0.194352"
            ]
          },
          "metadata": {
            "tags": []
          },
          "execution_count": 22
        }
      ]
    },
    {
      "cell_type": "markdown",
      "metadata": {
        "id": "S9qxp8yNrqdF"
      },
      "source": [
        "As it can be observed from the data frame above, **the most significant variables of the dataset are emp.var.rate (-0.452073), euribor3m (-0.454586) and nr.employed (-0.431094)**"
      ]
    },
    {
      "cell_type": "markdown",
      "metadata": {
        "id": "rSf7fYDHrKPj"
      },
      "source": [
        "Once that the PCA was performed, the data was analyzed to understand how useful the number of principal components that were used (four) actually are to explain the information of the dataset, as well as to be able to choose, if necessary, an ideal amount of components for the model. To achieve this, the explained variance ratio was calculated. This measurement corresponds to the percentage of variance that is attributed by each of the selected components. As it can be observed in the figure and dataframe below, this analysis showed that **7 components are necessary to explain 60% of the variance of the data**, 14 to reach 90% and up to 16 for 95%.  "
      ]
    },
    {
      "cell_type": "code",
      "metadata": {
        "colab": {
          "base_uri": "https://localhost:8080/",
          "height": 402
        },
        "id": "ZcuH_mpe4zMm",
        "outputId": "cd77aeeb-a9b2-495b-dbe0-802729aa943d"
      },
      "source": [
        "pca1= PCA().fit(ss)\n",
        "x=np.cumsum(pca1.explained_variance_ratio_)\n",
        "x=x.reshape(1,21)\n",
        "TableComp=pd.DataFrame(x, columns= ['1', '2', '3', '4', '5', '6', '7', '8', '9', '10', '11', '12', '13', '14', '15', '16', '17', '18', '19', '20', '21'])\n",
        "display(TableComp)\n",
        "plt.plot(np.cumsum(pca1.explained_variance_ratio_))\n",
        "plt.title('PCA')\n",
        "plt.xlabel('number of components')\n",
        "plt.ylabel('Cumulative explained variance')"
      ],
      "execution_count": 23,
      "outputs": [
        {
          "output_type": "display_data",
          "data": {
            "text/html": [
              "<div>\n",
              "<style scoped>\n",
              "    .dataframe tbody tr th:only-of-type {\n",
              "        vertical-align: middle;\n",
              "    }\n",
              "\n",
              "    .dataframe tbody tr th {\n",
              "        vertical-align: top;\n",
              "    }\n",
              "\n",
              "    .dataframe thead th {\n",
              "        text-align: right;\n",
              "    }\n",
              "</style>\n",
              "<table border=\"1\" class=\"dataframe\">\n",
              "  <thead>\n",
              "    <tr style=\"text-align: right;\">\n",
              "      <th></th>\n",
              "      <th>1</th>\n",
              "      <th>2</th>\n",
              "      <th>3</th>\n",
              "      <th>4</th>\n",
              "      <th>5</th>\n",
              "      <th>6</th>\n",
              "      <th>7</th>\n",
              "      <th>8</th>\n",
              "      <th>9</th>\n",
              "      <th>10</th>\n",
              "      <th>11</th>\n",
              "      <th>12</th>\n",
              "      <th>13</th>\n",
              "      <th>14</th>\n",
              "      <th>15</th>\n",
              "      <th>16</th>\n",
              "      <th>17</th>\n",
              "      <th>18</th>\n",
              "      <th>19</th>\n",
              "      <th>20</th>\n",
              "      <th>21</th>\n",
              "    </tr>\n",
              "  </thead>\n",
              "  <tbody>\n",
              "    <tr>\n",
              "      <th>0</th>\n",
              "      <td>0.20774</td>\n",
              "      <td>0.295717</td>\n",
              "      <td>0.371466</td>\n",
              "      <td>0.435711</td>\n",
              "      <td>0.49484</td>\n",
              "      <td>0.549114</td>\n",
              "      <td>0.601253</td>\n",
              "      <td>0.650253</td>\n",
              "      <td>0.697723</td>\n",
              "      <td>0.742321</td>\n",
              "      <td>0.785804</td>\n",
              "      <td>0.829083</td>\n",
              "      <td>0.871374</td>\n",
              "      <td>0.905865</td>\n",
              "      <td>0.933583</td>\n",
              "      <td>0.959745</td>\n",
              "      <td>0.982256</td>\n",
              "      <td>0.9947</td>\n",
              "      <td>0.998686</td>\n",
              "      <td>0.999663</td>\n",
              "      <td>1.0</td>\n",
              "    </tr>\n",
              "  </tbody>\n",
              "</table>\n",
              "</div>"
            ],
            "text/plain": [
              "         1         2         3         4  ...      18        19        20   21\n",
              "0  0.20774  0.295717  0.371466  0.435711  ...  0.9947  0.998686  0.999663  1.0\n",
              "\n",
              "[1 rows x 21 columns]"
            ]
          },
          "metadata": {
            "tags": []
          }
        },
        {
          "output_type": "execute_result",
          "data": {
            "text/plain": [
              "Text(0, 0.5, 'Cumulative explained variance')"
            ]
          },
          "metadata": {
            "tags": []
          },
          "execution_count": 23
        },
        {
          "output_type": "display_data",
          "data": {
            "image/png": "[encoded data removed]",
            "text/plain": [
              "<Figure size 432x288 with 1 Axes>"
            ]
          },
          "metadata": {
            "tags": [],
            "needs_background": "light"
          }
        }
      ]
    },
    {
      "cell_type": "markdown",
      "metadata": {
        "id": "iNrsCnzcz25v"
      },
      "source": [
        "The obtained results show that if the number of components from the current PCA are kept, the model will only be able to explain around 43% of the dataset."
      ]
    }
  ]
}