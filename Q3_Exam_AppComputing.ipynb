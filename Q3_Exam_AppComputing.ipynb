{
  "nbformat": 4,
  "nbformat_minor": 0,
  "metadata": {
    "colab": {
      "name": "Q3_Exam_AppComputing.ipynb",
      "provenance": [],
      "mount_file_id": "1a7qIFEIw8MJJCXwupD-kYa-iN003V4Oz",
      "authorship_tag": "ABX9TyPyeFiB6lXbkuUWyQqBc2hR",
      "include_colab_link": true
    },
    "kernelspec": {
      "name": "python3",
      "display_name": "Python 3"
    }
  },
  "cells": [
    {
      "cell_type": "markdown",
      "metadata": {
        "id": "view-in-github",
        "colab_type": "text"
      },
      "source": [
        "<a href=\"https://colab.research.google.com/github/MildredJmz1/Applied-Computing/blob/main/Q3_Exam_AppComputing.ipynb\" target=\"_parent\"><img src=\"https://colab.research.google.com/assets/colab-badge.svg\" alt=\"Open In Colab\"/></a>"
      ]
    },
    {
      "cell_type": "markdown",
      "metadata": {
        "id": "2HkvaGaQj8wr"
      },
      "source": [
        "Mildred Jiménez (A01631207)"
      ]
    },
    {
      "cell_type": "markdown",
      "metadata": {
        "id": "k9z3YQ2bj_yD"
      },
      "source": [
        "## **QUESTION 3**"
      ]
    },
    {
      "cell_type": "markdown",
      "metadata": {
        "id": "UYXfOr9qj5JX"
      },
      "source": [
        "![image.png](data:image/png;base64,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)"
      ]
    },
    {
      "cell_type": "markdown",
      "metadata": {
        "id": "26NE1jUmPTF1"
      },
      "source": [
        "The required libraries were loaded and the dataset was imported."
      ]
    },
    {
      "cell_type": "code",
      "metadata": {
        "id": "WKaQiUdZvSyI"
      },
      "source": [
        "%matplotlib inline\n",
        "import numpy as np\n",
        "import pandas as pd\n",
        "import matplotlib.pyplot as plt\n",
        "import seaborn as sns; sns.set()"
      ],
      "execution_count": 41,
      "outputs": []
    },
    {
      "cell_type": "code",
      "metadata": {
        "colab": {
          "base_uri": "https://localhost:8080/"
        },
        "id": "g-gGrYH6vnmY",
        "outputId": "55a3e849-fd33-467a-c227-0b98674f3eea"
      },
      "source": [
        "from google.colab import drive\n",
        "drive.mount('/content/drive')"
      ],
      "execution_count": 42,
      "outputs": [
        {
          "output_type": "stream",
          "text": [
            "Drive already mounted at /content/drive; to attempt to forcibly remount, call drive.mount(\"/content/drive\", force_remount=True).\n"
          ],
          "name": "stdout"
        }
      ]
    },
    {
      "cell_type": "code",
      "metadata": {
        "colab": {
          "base_uri": "https://localhost:8080/",
          "height": 419
        },
        "id": "Ir35GYhkvzGP",
        "outputId": "0fb0df14-ea8d-430e-99f3-5a238f50bd9f"
      },
      "source": [
        "df=pd.read_csv('/content/drive/MyDrive/sweden.csv')\n",
        "df=pd.DataFrame(df)\n",
        "display(df)"
      ],
      "execution_count": 43,
      "outputs": [
        {
          "output_type": "display_data",
          "data": {
            "text/html": [
              "<div>\n",
              "<style scoped>\n",
              "    .dataframe tbody tr th:only-of-type {\n",
              "        vertical-align: middle;\n",
              "    }\n",
              "\n",
              "    .dataframe tbody tr th {\n",
              "        vertical-align: top;\n",
              "    }\n",
              "\n",
              "    .dataframe thead th {\n",
              "        text-align: right;\n",
              "    }\n",
              "</style>\n",
              "<table border=\"1\" class=\"dataframe\">\n",
              "  <thead>\n",
              "    <tr style=\"text-align: right;\">\n",
              "      <th></th>\n",
              "      <th>Country</th>\n",
              "      <th>League</th>\n",
              "      <th>Season</th>\n",
              "      <th>Date</th>\n",
              "      <th>Time</th>\n",
              "      <th>Home</th>\n",
              "      <th>Away</th>\n",
              "      <th>HG</th>\n",
              "      <th>AG</th>\n",
              "      <th>Res</th>\n",
              "      <th>PH</th>\n",
              "      <th>PD</th>\n",
              "      <th>PA</th>\n",
              "      <th>MaxH</th>\n",
              "      <th>MaxD</th>\n",
              "      <th>MaxA</th>\n",
              "      <th>AvgH</th>\n",
              "      <th>AvgD</th>\n",
              "      <th>AvgA</th>\n",
              "    </tr>\n",
              "  </thead>\n",
              "  <tbody>\n",
              "    <tr>\n",
              "      <th>0</th>\n",
              "      <td>Sweden</td>\n",
              "      <td>Allsvenskan</td>\n",
              "      <td>2012</td>\n",
              "      <td>31/03/2012</td>\n",
              "      <td>15:00</td>\n",
              "      <td>Elfsborg</td>\n",
              "      <td>Djurgarden</td>\n",
              "      <td>2</td>\n",
              "      <td>1</td>\n",
              "      <td>H</td>\n",
              "      <td>1.71</td>\n",
              "      <td>3.98</td>\n",
              "      <td>5.44</td>\n",
              "      <td>1.73</td>\n",
              "      <td>3.98</td>\n",
              "      <td>5.50</td>\n",
              "      <td>1.66</td>\n",
              "      <td>3.68</td>\n",
              "      <td>5.00</td>\n",
              "    </tr>\n",
              "    <tr>\n",
              "      <th>1</th>\n",
              "      <td>Sweden</td>\n",
              "      <td>Allsvenskan</td>\n",
              "      <td>2012</td>\n",
              "      <td>31/03/2012</td>\n",
              "      <td>15:00</td>\n",
              "      <td>GAIS</td>\n",
              "      <td>Hacken</td>\n",
              "      <td>0</td>\n",
              "      <td>0</td>\n",
              "      <td>D</td>\n",
              "      <td>2.21</td>\n",
              "      <td>3.57</td>\n",
              "      <td>3.48</td>\n",
              "      <td>2.50</td>\n",
              "      <td>3.57</td>\n",
              "      <td>3.50</td>\n",
              "      <td>2.25</td>\n",
              "      <td>3.24</td>\n",
              "      <td>3.11</td>\n",
              "    </tr>\n",
              "    <tr>\n",
              "      <th>2</th>\n",
              "      <td>Sweden</td>\n",
              "      <td>Allsvenskan</td>\n",
              "      <td>2012</td>\n",
              "      <td>31/03/2012</td>\n",
              "      <td>15:00</td>\n",
              "      <td>Sundsvall</td>\n",
              "      <td>Kalmar</td>\n",
              "      <td>0</td>\n",
              "      <td>1</td>\n",
              "      <td>A</td>\n",
              "      <td>2.72</td>\n",
              "      <td>2.39</td>\n",
              "      <td>2.80</td>\n",
              "      <td>2.75</td>\n",
              "      <td>3.31</td>\n",
              "      <td>2.82</td>\n",
              "      <td>2.64</td>\n",
              "      <td>3.14</td>\n",
              "      <td>2.62</td>\n",
              "    </tr>\n",
              "    <tr>\n",
              "      <th>3</th>\n",
              "      <td>Sweden</td>\n",
              "      <td>Allsvenskan</td>\n",
              "      <td>2012</td>\n",
              "      <td>01/04/2012</td>\n",
              "      <td>13:00</td>\n",
              "      <td>AIK</td>\n",
              "      <td>Mjallby</td>\n",
              "      <td>0</td>\n",
              "      <td>0</td>\n",
              "      <td>D</td>\n",
              "      <td>1.75</td>\n",
              "      <td>3.63</td>\n",
              "      <td>5.73</td>\n",
              "      <td>1.75</td>\n",
              "      <td>3.63</td>\n",
              "      <td>5.75</td>\n",
              "      <td>1.71</td>\n",
              "      <td>3.43</td>\n",
              "      <td>4.99</td>\n",
              "    </tr>\n",
              "    <tr>\n",
              "      <th>4</th>\n",
              "      <td>Sweden</td>\n",
              "      <td>Allsvenskan</td>\n",
              "      <td>2012</td>\n",
              "      <td>01/04/2012</td>\n",
              "      <td>16:30</td>\n",
              "      <td>Syrianska</td>\n",
              "      <td>Goteborg</td>\n",
              "      <td>2</td>\n",
              "      <td>1</td>\n",
              "      <td>H</td>\n",
              "      <td>5.01</td>\n",
              "      <td>3.49</td>\n",
              "      <td>1.87</td>\n",
              "      <td>5.01</td>\n",
              "      <td>3.65</td>\n",
              "      <td>1.89</td>\n",
              "      <td>4.63</td>\n",
              "      <td>3.41</td>\n",
              "      <td>1.77</td>\n",
              "    </tr>\n",
              "    <tr>\n",
              "      <th>...</th>\n",
              "      <td>...</td>\n",
              "      <td>...</td>\n",
              "      <td>...</td>\n",
              "      <td>...</td>\n",
              "      <td>...</td>\n",
              "      <td>...</td>\n",
              "      <td>...</td>\n",
              "      <td>...</td>\n",
              "      <td>...</td>\n",
              "      <td>...</td>\n",
              "      <td>...</td>\n",
              "      <td>...</td>\n",
              "      <td>...</td>\n",
              "      <td>...</td>\n",
              "      <td>...</td>\n",
              "      <td>...</td>\n",
              "      <td>...</td>\n",
              "      <td>...</td>\n",
              "      <td>...</td>\n",
              "    </tr>\n",
              "    <tr>\n",
              "      <th>1931</th>\n",
              "      <td>Sweden</td>\n",
              "      <td>Allsvenskan</td>\n",
              "      <td>2019</td>\n",
              "      <td>02/11/2019</td>\n",
              "      <td>12:00</td>\n",
              "      <td>Norrkoping</td>\n",
              "      <td>Djurgarden</td>\n",
              "      <td>2</td>\n",
              "      <td>2</td>\n",
              "      <td>D</td>\n",
              "      <td>3.32</td>\n",
              "      <td>3.06</td>\n",
              "      <td>2.46</td>\n",
              "      <td>3.35</td>\n",
              "      <td>3.30</td>\n",
              "      <td>2.50</td>\n",
              "      <td>3.17</td>\n",
              "      <td>3.07</td>\n",
              "      <td>2.39</td>\n",
              "    </tr>\n",
              "    <tr>\n",
              "      <th>1932</th>\n",
              "      <td>Sweden</td>\n",
              "      <td>Allsvenskan</td>\n",
              "      <td>2019</td>\n",
              "      <td>02/11/2019</td>\n",
              "      <td>12:00</td>\n",
              "      <td>Orebro</td>\n",
              "      <td>Malmo FF</td>\n",
              "      <td>0</td>\n",
              "      <td>5</td>\n",
              "      <td>A</td>\n",
              "      <td>15.84</td>\n",
              "      <td>7.53</td>\n",
              "      <td>1.17</td>\n",
              "      <td>17.00</td>\n",
              "      <td>7.60</td>\n",
              "      <td>1.21</td>\n",
              "      <td>13.83</td>\n",
              "      <td>6.96</td>\n",
              "      <td>1.18</td>\n",
              "    </tr>\n",
              "    <tr>\n",
              "      <th>1933</th>\n",
              "      <td>Sweden</td>\n",
              "      <td>Allsvenskan</td>\n",
              "      <td>2019</td>\n",
              "      <td>02/11/2019</td>\n",
              "      <td>12:00</td>\n",
              "      <td>Sirius</td>\n",
              "      <td>Kalmar</td>\n",
              "      <td>3</td>\n",
              "      <td>0</td>\n",
              "      <td>H</td>\n",
              "      <td>5.16</td>\n",
              "      <td>4.11</td>\n",
              "      <td>1.66</td>\n",
              "      <td>5.50</td>\n",
              "      <td>4.11</td>\n",
              "      <td>1.77</td>\n",
              "      <td>4.98</td>\n",
              "      <td>3.83</td>\n",
              "      <td>1.66</td>\n",
              "    </tr>\n",
              "    <tr>\n",
              "      <th>1934</th>\n",
              "      <td>Sweden</td>\n",
              "      <td>Allsvenskan</td>\n",
              "      <td>2019</td>\n",
              "      <td>06/11/2019</td>\n",
              "      <td>18:00</td>\n",
              "      <td>Brage</td>\n",
              "      <td>Kalmar</td>\n",
              "      <td>0</td>\n",
              "      <td>2</td>\n",
              "      <td>A</td>\n",
              "      <td>3.07</td>\n",
              "      <td>3.25</td>\n",
              "      <td>2.49</td>\n",
              "      <td>3.23</td>\n",
              "      <td>3.38</td>\n",
              "      <td>2.55</td>\n",
              "      <td>2.97</td>\n",
              "      <td>3.13</td>\n",
              "      <td>2.43</td>\n",
              "    </tr>\n",
              "    <tr>\n",
              "      <th>1935</th>\n",
              "      <td>Sweden</td>\n",
              "      <td>Allsvenskan</td>\n",
              "      <td>2019</td>\n",
              "      <td>10/11/2019</td>\n",
              "      <td>13:45</td>\n",
              "      <td>Kalmar</td>\n",
              "      <td>Brage</td>\n",
              "      <td>2</td>\n",
              "      <td>2</td>\n",
              "      <td>D</td>\n",
              "      <td>1.75</td>\n",
              "      <td>3.39</td>\n",
              "      <td>5.79</td>\n",
              "      <td>1.80</td>\n",
              "      <td>3.72</td>\n",
              "      <td>5.80</td>\n",
              "      <td>1.72</td>\n",
              "      <td>3.49</td>\n",
              "      <td>5.14</td>\n",
              "    </tr>\n",
              "  </tbody>\n",
              "</table>\n",
              "<p>1936 rows × 19 columns</p>\n",
              "</div>"
            ],
            "text/plain": [
              "     Country       League  Season        Date  ...  MaxA   AvgH  AvgD  AvgA\n",
              "0     Sweden  Allsvenskan    2012  31/03/2012  ...  5.50   1.66  3.68  5.00\n",
              "1     Sweden  Allsvenskan    2012  31/03/2012  ...  3.50   2.25  3.24  3.11\n",
              "2     Sweden  Allsvenskan    2012  31/03/2012  ...  2.82   2.64  3.14  2.62\n",
              "3     Sweden  Allsvenskan    2012  01/04/2012  ...  5.75   1.71  3.43  4.99\n",
              "4     Sweden  Allsvenskan    2012  01/04/2012  ...  1.89   4.63  3.41  1.77\n",
              "...      ...          ...     ...         ...  ...   ...    ...   ...   ...\n",
              "1931  Sweden  Allsvenskan    2019  02/11/2019  ...  2.50   3.17  3.07  2.39\n",
              "1932  Sweden  Allsvenskan    2019  02/11/2019  ...  1.21  13.83  6.96  1.18\n",
              "1933  Sweden  Allsvenskan    2019  02/11/2019  ...  1.77   4.98  3.83  1.66\n",
              "1934  Sweden  Allsvenskan    2019  06/11/2019  ...  2.55   2.97  3.13  2.43\n",
              "1935  Sweden  Allsvenskan    2019  10/11/2019  ...  5.80   1.72  3.49  5.14\n",
              "\n",
              "[1936 rows x 19 columns]"
            ]
          },
          "metadata": {
            "tags": []
          }
        }
      ]
    },
    {
      "cell_type": "markdown",
      "metadata": {
        "id": "MxS5T1XcyqUI"
      },
      "source": [
        "Analysing the sample data prior to building the model is important to understand its behaviour. In this case, the dataset was first explored to find out if there were any missing values and to understand the different types of variables that it contains. "
      ]
    },
    {
      "cell_type": "code",
      "metadata": {
        "colab": {
          "base_uri": "https://localhost:8080/"
        },
        "id": "FMAzhWMUytth",
        "outputId": "b0121cd2-0811-467b-9438-18fa4c0fc57b"
      },
      "source": [
        "print(df.isnull().sum()) #6 values are missing in the dataset"
      ],
      "execution_count": 44,
      "outputs": [
        {
          "output_type": "stream",
          "text": [
            "Country    0\n",
            "League     0\n",
            "Season     0\n",
            "Date       0\n",
            "Time       0\n",
            "Home       0\n",
            "Away       0\n",
            "HG         0\n",
            "AG         0\n",
            "Res        0\n",
            "PH         2\n",
            "PD         2\n",
            "PA         2\n",
            "MaxH       0\n",
            "MaxD       0\n",
            "MaxA       0\n",
            "AvgH       0\n",
            "AvgD       0\n",
            "AvgA       0\n",
            "dtype: int64\n"
          ],
          "name": "stdout"
        }
      ]
    },
    {
      "cell_type": "code",
      "metadata": {
        "colab": {
          "base_uri": "https://localhost:8080/"
        },
        "id": "eMS1bD1Ly56F",
        "outputId": "3a5c0adb-f467-45b0-ce75-3233ace2084d"
      },
      "source": [
        "df.dtypes #the dataset contains three different types of variables."
      ],
      "execution_count": 45,
      "outputs": [
        {
          "output_type": "execute_result",
          "data": {
            "text/plain": [
              "Country     object\n",
              "League      object\n",
              "Season       int64\n",
              "Date        object\n",
              "Time        object\n",
              "Home        object\n",
              "Away        object\n",
              "HG           int64\n",
              "AG           int64\n",
              "Res         object\n",
              "PH         float64\n",
              "PD         float64\n",
              "PA         float64\n",
              "MaxH       float64\n",
              "MaxD       float64\n",
              "MaxA       float64\n",
              "AvgH       float64\n",
              "AvgD       float64\n",
              "AvgA       float64\n",
              "dtype: object"
            ]
          },
          "metadata": {
            "tags": []
          },
          "execution_count": 45
        }
      ]
    },
    {
      "cell_type": "markdown",
      "metadata": {
        "id": "twO6PCpcQWKh"
      },
      "source": [
        "Since the number of missing values was low, these were dropped from the dataset. "
      ]
    },
    {
      "cell_type": "code",
      "metadata": {
        "colab": {
          "base_uri": "https://localhost:8080/"
        },
        "id": "K5sYI19c7IPh",
        "outputId": "e4613d78-48da-4e92-ac3c-f243a0f9db06"
      },
      "source": [
        "df = df.dropna()\n",
        "print(df)"
      ],
      "execution_count": 46,
      "outputs": [
        {
          "output_type": "stream",
          "text": [
            "     Country       League  Season        Date  ...  MaxA   AvgH  AvgD  AvgA\n",
            "0     Sweden  Allsvenskan    2012  31/03/2012  ...  5.50   1.66  3.68  5.00\n",
            "1     Sweden  Allsvenskan    2012  31/03/2012  ...  3.50   2.25  3.24  3.11\n",
            "2     Sweden  Allsvenskan    2012  31/03/2012  ...  2.82   2.64  3.14  2.62\n",
            "3     Sweden  Allsvenskan    2012  01/04/2012  ...  5.75   1.71  3.43  4.99\n",
            "4     Sweden  Allsvenskan    2012  01/04/2012  ...  1.89   4.63  3.41  1.77\n",
            "...      ...          ...     ...         ...  ...   ...    ...   ...   ...\n",
            "1931  Sweden  Allsvenskan    2019  02/11/2019  ...  2.50   3.17  3.07  2.39\n",
            "1932  Sweden  Allsvenskan    2019  02/11/2019  ...  1.21  13.83  6.96  1.18\n",
            "1933  Sweden  Allsvenskan    2019  02/11/2019  ...  1.77   4.98  3.83  1.66\n",
            "1934  Sweden  Allsvenskan    2019  06/11/2019  ...  2.55   2.97  3.13  2.43\n",
            "1935  Sweden  Allsvenskan    2019  10/11/2019  ...  5.80   1.72  3.49  5.14\n",
            "\n",
            "[1934 rows x 19 columns]\n"
          ],
          "name": "stdout"
        }
      ]
    },
    {
      "cell_type": "markdown",
      "metadata": {
        "id": "RsdUkkyHQtEk"
      },
      "source": [
        "A new dataset, whithout the null values, was established:"
      ]
    },
    {
      "cell_type": "code",
      "metadata": {
        "colab": {
          "base_uri": "https://localhost:8080/",
          "height": 419
        },
        "id": "YfkBiYxLz5sV",
        "outputId": "d47b968f-ae3c-4e08-c56f-9e4fbb53102d"
      },
      "source": [
        "df2=df.copy()\n",
        "df2"
      ],
      "execution_count": 47,
      "outputs": [
        {
          "output_type": "execute_result",
          "data": {
            "text/html": [
              "<div>\n",
              "<style scoped>\n",
              "    .dataframe tbody tr th:only-of-type {\n",
              "        vertical-align: middle;\n",
              "    }\n",
              "\n",
              "    .dataframe tbody tr th {\n",
              "        vertical-align: top;\n",
              "    }\n",
              "\n",
              "    .dataframe thead th {\n",
              "        text-align: right;\n",
              "    }\n",
              "</style>\n",
              "<table border=\"1\" class=\"dataframe\">\n",
              "  <thead>\n",
              "    <tr style=\"text-align: right;\">\n",
              "      <th></th>\n",
              "      <th>Country</th>\n",
              "      <th>League</th>\n",
              "      <th>Season</th>\n",
              "      <th>Date</th>\n",
              "      <th>Time</th>\n",
              "      <th>Home</th>\n",
              "      <th>Away</th>\n",
              "      <th>HG</th>\n",
              "      <th>AG</th>\n",
              "      <th>Res</th>\n",
              "      <th>PH</th>\n",
              "      <th>PD</th>\n",
              "      <th>PA</th>\n",
              "      <th>MaxH</th>\n",
              "      <th>MaxD</th>\n",
              "      <th>MaxA</th>\n",
              "      <th>AvgH</th>\n",
              "      <th>AvgD</th>\n",
              "      <th>AvgA</th>\n",
              "    </tr>\n",
              "  </thead>\n",
              "  <tbody>\n",
              "    <tr>\n",
              "      <th>0</th>\n",
              "      <td>Sweden</td>\n",
              "      <td>Allsvenskan</td>\n",
              "      <td>2012</td>\n",
              "      <td>31/03/2012</td>\n",
              "      <td>15:00</td>\n",
              "      <td>Elfsborg</td>\n",
              "      <td>Djurgarden</td>\n",
              "      <td>2</td>\n",
              "      <td>1</td>\n",
              "      <td>H</td>\n",
              "      <td>1.71</td>\n",
              "      <td>3.98</td>\n",
              "      <td>5.44</td>\n",
              "      <td>1.73</td>\n",
              "      <td>3.98</td>\n",
              "      <td>5.50</td>\n",
              "      <td>1.66</td>\n",
              "      <td>3.68</td>\n",
              "      <td>5.00</td>\n",
              "    </tr>\n",
              "    <tr>\n",
              "      <th>1</th>\n",
              "      <td>Sweden</td>\n",
              "      <td>Allsvenskan</td>\n",
              "      <td>2012</td>\n",
              "      <td>31/03/2012</td>\n",
              "      <td>15:00</td>\n",
              "      <td>GAIS</td>\n",
              "      <td>Hacken</td>\n",
              "      <td>0</td>\n",
              "      <td>0</td>\n",
              "      <td>D</td>\n",
              "      <td>2.21</td>\n",
              "      <td>3.57</td>\n",
              "      <td>3.48</td>\n",
              "      <td>2.50</td>\n",
              "      <td>3.57</td>\n",
              "      <td>3.50</td>\n",
              "      <td>2.25</td>\n",
              "      <td>3.24</td>\n",
              "      <td>3.11</td>\n",
              "    </tr>\n",
              "    <tr>\n",
              "      <th>2</th>\n",
              "      <td>Sweden</td>\n",
              "      <td>Allsvenskan</td>\n",
              "      <td>2012</td>\n",
              "      <td>31/03/2012</td>\n",
              "      <td>15:00</td>\n",
              "      <td>Sundsvall</td>\n",
              "      <td>Kalmar</td>\n",
              "      <td>0</td>\n",
              "      <td>1</td>\n",
              "      <td>A</td>\n",
              "      <td>2.72</td>\n",
              "      <td>2.39</td>\n",
              "      <td>2.80</td>\n",
              "      <td>2.75</td>\n",
              "      <td>3.31</td>\n",
              "      <td>2.82</td>\n",
              "      <td>2.64</td>\n",
              "      <td>3.14</td>\n",
              "      <td>2.62</td>\n",
              "    </tr>\n",
              "    <tr>\n",
              "      <th>3</th>\n",
              "      <td>Sweden</td>\n",
              "      <td>Allsvenskan</td>\n",
              "      <td>2012</td>\n",
              "      <td>01/04/2012</td>\n",
              "      <td>13:00</td>\n",
              "      <td>AIK</td>\n",
              "      <td>Mjallby</td>\n",
              "      <td>0</td>\n",
              "      <td>0</td>\n",
              "      <td>D</td>\n",
              "      <td>1.75</td>\n",
              "      <td>3.63</td>\n",
              "      <td>5.73</td>\n",
              "      <td>1.75</td>\n",
              "      <td>3.63</td>\n",
              "      <td>5.75</td>\n",
              "      <td>1.71</td>\n",
              "      <td>3.43</td>\n",
              "      <td>4.99</td>\n",
              "    </tr>\n",
              "    <tr>\n",
              "      <th>4</th>\n",
              "      <td>Sweden</td>\n",
              "      <td>Allsvenskan</td>\n",
              "      <td>2012</td>\n",
              "      <td>01/04/2012</td>\n",
              "      <td>16:30</td>\n",
              "      <td>Syrianska</td>\n",
              "      <td>Goteborg</td>\n",
              "      <td>2</td>\n",
              "      <td>1</td>\n",
              "      <td>H</td>\n",
              "      <td>5.01</td>\n",
              "      <td>3.49</td>\n",
              "      <td>1.87</td>\n",
              "      <td>5.01</td>\n",
              "      <td>3.65</td>\n",
              "      <td>1.89</td>\n",
              "      <td>4.63</td>\n",
              "      <td>3.41</td>\n",
              "      <td>1.77</td>\n",
              "    </tr>\n",
              "    <tr>\n",
              "      <th>...</th>\n",
              "      <td>...</td>\n",
              "      <td>...</td>\n",
              "      <td>...</td>\n",
              "      <td>...</td>\n",
              "      <td>...</td>\n",
              "      <td>...</td>\n",
              "      <td>...</td>\n",
              "      <td>...</td>\n",
              "      <td>...</td>\n",
              "      <td>...</td>\n",
              "      <td>...</td>\n",
              "      <td>...</td>\n",
              "      <td>...</td>\n",
              "      <td>...</td>\n",
              "      <td>...</td>\n",
              "      <td>...</td>\n",
              "      <td>...</td>\n",
              "      <td>...</td>\n",
              "      <td>...</td>\n",
              "    </tr>\n",
              "    <tr>\n",
              "      <th>1931</th>\n",
              "      <td>Sweden</td>\n",
              "      <td>Allsvenskan</td>\n",
              "      <td>2019</td>\n",
              "      <td>02/11/2019</td>\n",
              "      <td>12:00</td>\n",
              "      <td>Norrkoping</td>\n",
              "      <td>Djurgarden</td>\n",
              "      <td>2</td>\n",
              "      <td>2</td>\n",
              "      <td>D</td>\n",
              "      <td>3.32</td>\n",
              "      <td>3.06</td>\n",
              "      <td>2.46</td>\n",
              "      <td>3.35</td>\n",
              "      <td>3.30</td>\n",
              "      <td>2.50</td>\n",
              "      <td>3.17</td>\n",
              "      <td>3.07</td>\n",
              "      <td>2.39</td>\n",
              "    </tr>\n",
              "    <tr>\n",
              "      <th>1932</th>\n",
              "      <td>Sweden</td>\n",
              "      <td>Allsvenskan</td>\n",
              "      <td>2019</td>\n",
              "      <td>02/11/2019</td>\n",
              "      <td>12:00</td>\n",
              "      <td>Orebro</td>\n",
              "      <td>Malmo FF</td>\n",
              "      <td>0</td>\n",
              "      <td>5</td>\n",
              "      <td>A</td>\n",
              "      <td>15.84</td>\n",
              "      <td>7.53</td>\n",
              "      <td>1.17</td>\n",
              "      <td>17.00</td>\n",
              "      <td>7.60</td>\n",
              "      <td>1.21</td>\n",
              "      <td>13.83</td>\n",
              "      <td>6.96</td>\n",
              "      <td>1.18</td>\n",
              "    </tr>\n",
              "    <tr>\n",
              "      <th>1933</th>\n",
              "      <td>Sweden</td>\n",
              "      <td>Allsvenskan</td>\n",
              "      <td>2019</td>\n",
              "      <td>02/11/2019</td>\n",
              "      <td>12:00</td>\n",
              "      <td>Sirius</td>\n",
              "      <td>Kalmar</td>\n",
              "      <td>3</td>\n",
              "      <td>0</td>\n",
              "      <td>H</td>\n",
              "      <td>5.16</td>\n",
              "      <td>4.11</td>\n",
              "      <td>1.66</td>\n",
              "      <td>5.50</td>\n",
              "      <td>4.11</td>\n",
              "      <td>1.77</td>\n",
              "      <td>4.98</td>\n",
              "      <td>3.83</td>\n",
              "      <td>1.66</td>\n",
              "    </tr>\n",
              "    <tr>\n",
              "      <th>1934</th>\n",
              "      <td>Sweden</td>\n",
              "      <td>Allsvenskan</td>\n",
              "      <td>2019</td>\n",
              "      <td>06/11/2019</td>\n",
              "      <td>18:00</td>\n",
              "      <td>Brage</td>\n",
              "      <td>Kalmar</td>\n",
              "      <td>0</td>\n",
              "      <td>2</td>\n",
              "      <td>A</td>\n",
              "      <td>3.07</td>\n",
              "      <td>3.25</td>\n",
              "      <td>2.49</td>\n",
              "      <td>3.23</td>\n",
              "      <td>3.38</td>\n",
              "      <td>2.55</td>\n",
              "      <td>2.97</td>\n",
              "      <td>3.13</td>\n",
              "      <td>2.43</td>\n",
              "    </tr>\n",
              "    <tr>\n",
              "      <th>1935</th>\n",
              "      <td>Sweden</td>\n",
              "      <td>Allsvenskan</td>\n",
              "      <td>2019</td>\n",
              "      <td>10/11/2019</td>\n",
              "      <td>13:45</td>\n",
              "      <td>Kalmar</td>\n",
              "      <td>Brage</td>\n",
              "      <td>2</td>\n",
              "      <td>2</td>\n",
              "      <td>D</td>\n",
              "      <td>1.75</td>\n",
              "      <td>3.39</td>\n",
              "      <td>5.79</td>\n",
              "      <td>1.80</td>\n",
              "      <td>3.72</td>\n",
              "      <td>5.80</td>\n",
              "      <td>1.72</td>\n",
              "      <td>3.49</td>\n",
              "      <td>5.14</td>\n",
              "    </tr>\n",
              "  </tbody>\n",
              "</table>\n",
              "<p>1934 rows × 19 columns</p>\n",
              "</div>"
            ],
            "text/plain": [
              "     Country       League  Season        Date  ...  MaxA   AvgH  AvgD  AvgA\n",
              "0     Sweden  Allsvenskan    2012  31/03/2012  ...  5.50   1.66  3.68  5.00\n",
              "1     Sweden  Allsvenskan    2012  31/03/2012  ...  3.50   2.25  3.24  3.11\n",
              "2     Sweden  Allsvenskan    2012  31/03/2012  ...  2.82   2.64  3.14  2.62\n",
              "3     Sweden  Allsvenskan    2012  01/04/2012  ...  5.75   1.71  3.43  4.99\n",
              "4     Sweden  Allsvenskan    2012  01/04/2012  ...  1.89   4.63  3.41  1.77\n",
              "...      ...          ...     ...         ...  ...   ...    ...   ...   ...\n",
              "1931  Sweden  Allsvenskan    2019  02/11/2019  ...  2.50   3.17  3.07  2.39\n",
              "1932  Sweden  Allsvenskan    2019  02/11/2019  ...  1.21  13.83  6.96  1.18\n",
              "1933  Sweden  Allsvenskan    2019  02/11/2019  ...  1.77   4.98  3.83  1.66\n",
              "1934  Sweden  Allsvenskan    2019  06/11/2019  ...  2.55   2.97  3.13  2.43\n",
              "1935  Sweden  Allsvenskan    2019  10/11/2019  ...  5.80   1.72  3.49  5.14\n",
              "\n",
              "[1934 rows x 19 columns]"
            ]
          },
          "metadata": {
            "tags": []
          },
          "execution_count": 47
        }
      ]
    },
    {
      "cell_type": "markdown",
      "metadata": {
        "id": "2kOGmEBOQ7zl"
      },
      "source": [
        "A correlation analysis of the variables was carried out in order to determine which variables were significant to the model. As it can be observed from the correlation matrix and the correlation heatmap below, \"Season\" is the only variable that is not significantlty correlated with the rest of the variables. Therefore, it does not need to be used to buid any of the prediction models. "
      ]
    },
    {
      "cell_type": "code",
      "metadata": {
        "colab": {
          "base_uri": "https://localhost:8080/",
          "height": 421
        },
        "id": "9C6Y3kH_0Kti",
        "outputId": "7f115148-02af-42ea-8f67-343fdbf61853"
      },
      "source": [
        "df2.corr()"
      ],
      "execution_count": 48,
      "outputs": [
        {
          "output_type": "execute_result",
          "data": {
            "text/html": [
              "<div>\n",
              "<style scoped>\n",
              "    .dataframe tbody tr th:only-of-type {\n",
              "        vertical-align: middle;\n",
              "    }\n",
              "\n",
              "    .dataframe tbody tr th {\n",
              "        vertical-align: top;\n",
              "    }\n",
              "\n",
              "    .dataframe thead th {\n",
              "        text-align: right;\n",
              "    }\n",
              "</style>\n",
              "<table border=\"1\" class=\"dataframe\">\n",
              "  <thead>\n",
              "    <tr style=\"text-align: right;\">\n",
              "      <th></th>\n",
              "      <th>Season</th>\n",
              "      <th>HG</th>\n",
              "      <th>AG</th>\n",
              "      <th>PH</th>\n",
              "      <th>PD</th>\n",
              "      <th>PA</th>\n",
              "      <th>MaxH</th>\n",
              "      <th>MaxD</th>\n",
              "      <th>MaxA</th>\n",
              "      <th>AvgH</th>\n",
              "      <th>AvgD</th>\n",
              "      <th>AvgA</th>\n",
              "    </tr>\n",
              "  </thead>\n",
              "  <tbody>\n",
              "    <tr>\n",
              "      <th>Season</th>\n",
              "      <td>1.000000</td>\n",
              "      <td>-0.016584</td>\n",
              "      <td>0.009818</td>\n",
              "      <td>0.081307</td>\n",
              "      <td>0.025259</td>\n",
              "      <td>-0.014422</td>\n",
              "      <td>0.079029</td>\n",
              "      <td>0.064262</td>\n",
              "      <td>-0.006392</td>\n",
              "      <td>0.092258</td>\n",
              "      <td>0.112065</td>\n",
              "      <td>0.002885</td>\n",
              "    </tr>\n",
              "    <tr>\n",
              "      <th>HG</th>\n",
              "      <td>-0.016584</td>\n",
              "      <td>1.000000</td>\n",
              "      <td>-0.084761</td>\n",
              "      <td>-0.270941</td>\n",
              "      <td>0.258165</td>\n",
              "      <td>0.317923</td>\n",
              "      <td>-0.268822</td>\n",
              "      <td>0.253380</td>\n",
              "      <td>0.319026</td>\n",
              "      <td>-0.275335</td>\n",
              "      <td>0.255213</td>\n",
              "      <td>0.328503</td>\n",
              "    </tr>\n",
              "    <tr>\n",
              "      <th>AG</th>\n",
              "      <td>0.009818</td>\n",
              "      <td>-0.084761</td>\n",
              "      <td>1.000000</td>\n",
              "      <td>0.326737</td>\n",
              "      <td>-0.111295</td>\n",
              "      <td>-0.270017</td>\n",
              "      <td>0.322485</td>\n",
              "      <td>-0.111061</td>\n",
              "      <td>-0.263670</td>\n",
              "      <td>0.327117</td>\n",
              "      <td>-0.115526</td>\n",
              "      <td>-0.277782</td>\n",
              "    </tr>\n",
              "    <tr>\n",
              "      <th>PH</th>\n",
              "      <td>0.081307</td>\n",
              "      <td>-0.270941</td>\n",
              "      <td>0.326737</td>\n",
              "      <td>1.000000</td>\n",
              "      <td>-0.169793</td>\n",
              "      <td>-0.609675</td>\n",
              "      <td>0.994239</td>\n",
              "      <td>-0.163615</td>\n",
              "      <td>-0.595270</td>\n",
              "      <td>0.996008</td>\n",
              "      <td>-0.158595</td>\n",
              "      <td>-0.628253</td>\n",
              "    </tr>\n",
              "    <tr>\n",
              "      <th>PD</th>\n",
              "      <td>0.025259</td>\n",
              "      <td>0.258165</td>\n",
              "      <td>-0.111295</td>\n",
              "      <td>-0.169793</td>\n",
              "      <td>1.000000</td>\n",
              "      <td>0.824095</td>\n",
              "      <td>-0.149051</td>\n",
              "      <td>0.987927</td>\n",
              "      <td>0.839735</td>\n",
              "      <td>-0.173752</td>\n",
              "      <td>0.985879</td>\n",
              "      <td>0.823955</td>\n",
              "    </tr>\n",
              "    <tr>\n",
              "      <th>PA</th>\n",
              "      <td>-0.014422</td>\n",
              "      <td>0.317923</td>\n",
              "      <td>-0.270017</td>\n",
              "      <td>-0.609675</td>\n",
              "      <td>0.824095</td>\n",
              "      <td>1.000000</td>\n",
              "      <td>-0.595019</td>\n",
              "      <td>0.830472</td>\n",
              "      <td>0.991944</td>\n",
              "      <td>-0.616128</td>\n",
              "      <td>0.829454</td>\n",
              "      <td>0.993161</td>\n",
              "    </tr>\n",
              "    <tr>\n",
              "      <th>MaxH</th>\n",
              "      <td>0.079029</td>\n",
              "      <td>-0.268822</td>\n",
              "      <td>0.322485</td>\n",
              "      <td>0.994239</td>\n",
              "      <td>-0.149051</td>\n",
              "      <td>-0.595019</td>\n",
              "      <td>1.000000</td>\n",
              "      <td>-0.141726</td>\n",
              "      <td>-0.581662</td>\n",
              "      <td>0.996820</td>\n",
              "      <td>-0.138239</td>\n",
              "      <td>-0.614502</td>\n",
              "    </tr>\n",
              "    <tr>\n",
              "      <th>MaxD</th>\n",
              "      <td>0.064262</td>\n",
              "      <td>0.253380</td>\n",
              "      <td>-0.111061</td>\n",
              "      <td>-0.163615</td>\n",
              "      <td>0.987927</td>\n",
              "      <td>0.830472</td>\n",
              "      <td>-0.141726</td>\n",
              "      <td>1.000000</td>\n",
              "      <td>0.848143</td>\n",
              "      <td>-0.167547</td>\n",
              "      <td>0.991832</td>\n",
              "      <td>0.830698</td>\n",
              "    </tr>\n",
              "    <tr>\n",
              "      <th>MaxA</th>\n",
              "      <td>-0.006392</td>\n",
              "      <td>0.319026</td>\n",
              "      <td>-0.263670</td>\n",
              "      <td>-0.595270</td>\n",
              "      <td>0.839735</td>\n",
              "      <td>0.991944</td>\n",
              "      <td>-0.581662</td>\n",
              "      <td>0.848143</td>\n",
              "      <td>1.000000</td>\n",
              "      <td>-0.602837</td>\n",
              "      <td>0.847192</td>\n",
              "      <td>0.994883</td>\n",
              "    </tr>\n",
              "    <tr>\n",
              "      <th>AvgH</th>\n",
              "      <td>0.092258</td>\n",
              "      <td>-0.275335</td>\n",
              "      <td>0.327117</td>\n",
              "      <td>0.996008</td>\n",
              "      <td>-0.173752</td>\n",
              "      <td>-0.616128</td>\n",
              "      <td>0.996820</td>\n",
              "      <td>-0.167547</td>\n",
              "      <td>-0.602837</td>\n",
              "      <td>1.000000</td>\n",
              "      <td>-0.162912</td>\n",
              "      <td>-0.635887</td>\n",
              "    </tr>\n",
              "    <tr>\n",
              "      <th>AvgD</th>\n",
              "      <td>0.112065</td>\n",
              "      <td>0.255213</td>\n",
              "      <td>-0.115526</td>\n",
              "      <td>-0.158595</td>\n",
              "      <td>0.985879</td>\n",
              "      <td>0.829454</td>\n",
              "      <td>-0.138239</td>\n",
              "      <td>0.991832</td>\n",
              "      <td>0.847192</td>\n",
              "      <td>-0.162912</td>\n",
              "      <td>1.000000</td>\n",
              "      <td>0.832384</td>\n",
              "    </tr>\n",
              "    <tr>\n",
              "      <th>AvgA</th>\n",
              "      <td>0.002885</td>\n",
              "      <td>0.328503</td>\n",
              "      <td>-0.277782</td>\n",
              "      <td>-0.628253</td>\n",
              "      <td>0.823955</td>\n",
              "      <td>0.993161</td>\n",
              "      <td>-0.614502</td>\n",
              "      <td>0.830698</td>\n",
              "      <td>0.994883</td>\n",
              "      <td>-0.635887</td>\n",
              "      <td>0.832384</td>\n",
              "      <td>1.000000</td>\n",
              "    </tr>\n",
              "  </tbody>\n",
              "</table>\n",
              "</div>"
            ],
            "text/plain": [
              "          Season        HG        AG  ...      AvgH      AvgD      AvgA\n",
              "Season  1.000000 -0.016584  0.009818  ...  0.092258  0.112065  0.002885\n",
              "HG     -0.016584  1.000000 -0.084761  ... -0.275335  0.255213  0.328503\n",
              "AG      0.009818 -0.084761  1.000000  ...  0.327117 -0.115526 -0.277782\n",
              "PH      0.081307 -0.270941  0.326737  ...  0.996008 -0.158595 -0.628253\n",
              "PD      0.025259  0.258165 -0.111295  ... -0.173752  0.985879  0.823955\n",
              "PA     -0.014422  0.317923 -0.270017  ... -0.616128  0.829454  0.993161\n",
              "MaxH    0.079029 -0.268822  0.322485  ...  0.996820 -0.138239 -0.614502\n",
              "MaxD    0.064262  0.253380 -0.111061  ... -0.167547  0.991832  0.830698\n",
              "MaxA   -0.006392  0.319026 -0.263670  ... -0.602837  0.847192  0.994883\n",
              "AvgH    0.092258 -0.275335  0.327117  ...  1.000000 -0.162912 -0.635887\n",
              "AvgD    0.112065  0.255213 -0.115526  ... -0.162912  1.000000  0.832384\n",
              "AvgA    0.002885  0.328503 -0.277782  ... -0.635887  0.832384  1.000000\n",
              "\n",
              "[12 rows x 12 columns]"
            ]
          },
          "metadata": {
            "tags": []
          },
          "execution_count": 48
        }
      ]
    },
    {
      "cell_type": "markdown",
      "metadata": {
        "id": "XWQKzkNOmUec"
      },
      "source": [
        "The heat map of the correlation analysis below was developed for data visualization purposes; lighter colors represent a higher positive correlation between the corresponding variables (e.g. AvgH with PH and other parameters of the host team), while darker colors below zero indicate an inverse correlation, meaning that when the value of one of this variables is high, the value of the other one is low. This can mainly be observed when analysing the relationship between different parameters of the Away team VS the Home team; for example, PA vs PH. "
      ]
    },
    {
      "cell_type": "code",
      "metadata": {
        "colab": {
          "base_uri": "https://localhost:8080/",
          "height": 302
        },
        "id": "o-SIIQeNboRV",
        "outputId": "f0de74be-2f8f-4f24-eebe-df20feb5b2e0"
      },
      "source": [
        "corr = df2.corr()\n",
        "_ = sns.heatmap(corr)    #Correlation heatmap"
      ],
      "execution_count": 49,
      "outputs": [
        {
          "output_type": "display_data",
          "data": {
            "image/png": "[encoded data removed]",
            "text/plain": [
              "<Figure size 432x288 with 2 Axes>"
            ]
          },
          "metadata": {
            "tags": []
          }
        }
      ]
    },
    {
      "cell_type": "markdown",
      "metadata": {
        "id": "Ci-bZ3UsRdlF"
      },
      "source": [
        "It was determined that it was not necessary to generate any new metrics since the dataset already counts with different variables that contain a wide range of information about the matches (PH, PD, PA, MaxH, MaxD, MaxA, AvgA, AvgD and AvgH). "
      ]
    },
    {
      "cell_type": "markdown",
      "metadata": {
        "id": "jF27ndawSnUR"
      },
      "source": [
        "The required libraries to apply the decision tree and SVC models were then loaded. "
      ]
    },
    {
      "cell_type": "code",
      "metadata": {
        "id": "WghQw_Vx09TX"
      },
      "source": [
        "from sklearn import preprocessing\n",
        "from sklearn.preprocessing import MinMaxScaler\n",
        "from sklearn.preprocessing import StandardScaler\n",
        "from sklearn.model_selection import train_test_split\n",
        "from sklearn.tree import DecisionTreeClassifier # Import Decision Tree Classifier\n",
        "from sklearn import metrics #Import scikit-learn metrics module for accuracy calculation\n",
        "from sklearn.metrics import classification_report, confusion_matrix "
      ],
      "execution_count": 50,
      "outputs": []
    },
    {
      "cell_type": "markdown",
      "metadata": {
        "id": "Ovz0C_UGSt-g"
      },
      "source": [
        "The first step was to set the features of the model and its target column. As mentioned earlier, the feautures include different variables that describe the characteristics of the matches in different ways . The variables of Home Goals (HG) and Away Goals (AG) were not included since this would over feed information to the model and its accuracy would not be real. The data was also split into a training set (80%) and a test set (20%). Afterwards, a standarization process was carried out so that the type of variables were consistent. "
      ]
    },
    {
      "cell_type": "code",
      "metadata": {
        "id": "sMfe1w2m1Nas"
      },
      "source": [
        "X=df2[['PH','PD','PA','MaxH','MaxD', 'MaxA','AvgH','AvgD','AvgA']]  # Features\n",
        "y=df2['Res']  # target\n",
        "\n",
        "# Split dataset into training set and test set\n",
        "X_train, X_test, y_train, y_test = train_test_split(X, y, test_size=0.2) # 80% training and 20% test\n",
        "\n",
        "scaler=MinMaxScaler()\n",
        "X_train = scaler.fit_transform(X_train)\n",
        "X_test = scaler.transform(X_test)"
      ],
      "execution_count": 51,
      "outputs": []
    },
    {
      "cell_type": "markdown",
      "metadata": {
        "id": "Xgvj1qWa2Z48"
      },
      "source": [
        "## Decision Tree "
      ]
    },
    {
      "cell_type": "markdown",
      "metadata": {
        "id": "Ny9rV7HRUMPc"
      },
      "source": [
        "A Decision Tree Classification model was built with the previous split data and its accuracy was measured. "
      ]
    },
    {
      "cell_type": "code",
      "metadata": {
        "id": "iLHvBt-X4ndk"
      },
      "source": [
        "# Create Decision Tree classifer object\n",
        "clf = DecisionTreeClassifier(max_depth=3) #this parameter was set=3 in order to avoid overfitting\n",
        "# Train Decision Tree Classifer\n",
        "clf = clf.fit(X_train,y_train)\n",
        "#Predict the response for test dataset\n",
        "y_pred = clf.predict(X_test)"
      ],
      "execution_count": 54,
      "outputs": []
    },
    {
      "cell_type": "markdown",
      "metadata": {
        "id": "2_BqcrM2UcE0"
      },
      "source": [
        "The accuracy of the model was found out be 0.48. "
      ]
    },
    {
      "cell_type": "code",
      "metadata": {
        "colab": {
          "base_uri": "https://localhost:8080/"
        },
        "id": "ssfo7Aus9obJ",
        "outputId": "b1991596-0c69-4f13-f2e9-5589ce441143"
      },
      "source": [
        "# Model Accuracy, how often is the classifier correct?\n",
        "print(\"Accuracy:\", metrics.accuracy_score(y_test, y_pred))"
      ],
      "execution_count": 55,
      "outputs": [
        {
          "output_type": "stream",
          "text": [
            "Accuracy: 0.4806201550387597\n"
          ],
          "name": "stdout"
        }
      ]
    },
    {
      "cell_type": "markdown",
      "metadata": {
        "id": "Z_X_UEDcVCkd"
      },
      "source": [
        "A confusion matrix  and a classification report were then obtain to better understand the accuracy of the model. The matrix was also plotted for data visualization purposes. "
      ]
    },
    {
      "cell_type": "code",
      "metadata": {
        "colab": {
          "base_uri": "https://localhost:8080/"
        },
        "id": "sDZxfWEHbOuw",
        "outputId": "da8cac83-5102-45bc-dfee-d20e5b94066b"
      },
      "source": [
        "print(confusion_matrix(y_test, y_pred))\n",
        "print('\\n')\n",
        "print(classification_report(y_test, y_pred))"
      ],
      "execution_count": 57,
      "outputs": [
        {
          "output_type": "stream",
          "text": [
            "[[ 48  37  31]\n",
            " [ 32  18  54]\n",
            " [ 26  21 120]]\n",
            "\n",
            "\n",
            "              precision    recall  f1-score   support\n",
            "\n",
            "           A       0.45      0.41      0.43       116\n",
            "           D       0.24      0.17      0.20       104\n",
            "           H       0.59      0.72      0.65       167\n",
            "\n",
            "    accuracy                           0.48       387\n",
            "   macro avg       0.43      0.44      0.43       387\n",
            "weighted avg       0.45      0.48      0.46       387\n",
            "\n"
          ],
          "name": "stdout"
        }
      ]
    },
    {
      "cell_type": "code",
      "metadata": {
        "id": "rFpyTZgvEvCK"
      },
      "source": [
        "from sklearn.metrics import plot_confusion_matrix"
      ],
      "execution_count": 58,
      "outputs": []
    },
    {
      "cell_type": "code",
      "metadata": {
        "id": "uT1l79fRjsWM"
      },
      "source": [
        "! pip install -q scikit-plot"
      ],
      "execution_count": 59,
      "outputs": []
    },
    {
      "cell_type": "code",
      "metadata": {
        "colab": {
          "base_uri": "https://localhost:8080/",
          "height": 487
        },
        "id": "7ZdLVgMAkuTD",
        "outputId": "a82596e1-7d17-4c2f-a9c3-678210ade901"
      },
      "source": [
        "import scikitplot as skplt\n",
        "\n",
        "skplt.metrics.plot_confusion_matrix(\n",
        "    y_test, \n",
        "    y_pred,\n",
        "    figsize=(8,8))"
      ],
      "execution_count": 60,
      "outputs": [
        {
          "output_type": "execute_result",
          "data": {
            "text/plain": [
              "<matplotlib.axes._subplots.AxesSubplot at 0x7f5a9a7eb2b0>"
            ]
          },
          "metadata": {
            "tags": []
          },
          "execution_count": 60
        },
        {
          "output_type": "display_data",
          "data": {
            "image/png": "[encoded data removed]",
            "text/plain": [
              "<Figure size 576x576 with 2 Axes>"
            ]
          },
          "metadata": {
            "tags": []
          }
        }
      ]
    },
    {
      "cell_type": "code",
      "metadata": {
        "colab": {
          "base_uri": "https://localhost:8080/",
          "height": 483
        },
        "id": "PvVSUJiblGTJ",
        "outputId": "8f7e6f81-54b8-40b0-b300-c12ed5ca2d4b"
      },
      "source": [
        "import scikitplot as skplt\n",
        "\n",
        "skplt.metrics.plot_confusion_matrix(\n",
        "    y_test, \n",
        "    y_pred,\n",
        "    normalize=True,\n",
        "    figsize=(8,8))"
      ],
      "execution_count": 61,
      "outputs": [
        {
          "output_type": "execute_result",
          "data": {
            "text/plain": [
              "<matplotlib.axes._subplots.AxesSubplot at 0x7f5a9abde2b0>"
            ]
          },
          "metadata": {
            "tags": []
          },
          "execution_count": 61
        },
        {
          "output_type": "display_data",
          "data": {
            "image/png": "[encoded data removed]",
            "text/plain": [
              "<Figure size 576x576 with 2 Axes>"
            ]
          },
          "metadata": {
            "tags": []
          }
        }
      ]
    },
    {
      "cell_type": "markdown",
      "metadata": {
        "id": "CNwc7Y_XYWd0"
      },
      "source": [
        "A confusion matrix allows us to better understand the accuracy of the model's performance by showing us more clearly how many of the predicions of each label were correct. The rows of the confusion matrices above represent the actual correct results (A, D and H) of the test dataset, while the columns represent the predictions made by the model. For example, in the matrix without normalization, we can observe that the model predicted 48 \"A\" that were correct, 32 that were actually \"D\" and 26 that in reality corresponded to \"H\". The normalized confusion matrix shows us the same results, but it also takes into account class imbalances. We can also observe that these values correspond to those shown in the calssification report (recall column). In general, we can conclude that the model was efficient to correctly predict \"H\" true results (72%), followed by \"A\" true results (41%); however, it did not generate many accurate \"D\" predictions, only (17%). "
      ]
    },
    {
      "cell_type": "markdown",
      "metadata": {
        "id": "HTDdLT9T2eKY"
      },
      "source": [
        "## SVC"
      ]
    },
    {
      "cell_type": "markdown",
      "metadata": {
        "id": "SgbKkqCqwiGe"
      },
      "source": [
        "A Support Vector Machines model was also employed."
      ]
    },
    {
      "cell_type": "code",
      "metadata": {
        "id": "nzSOreiYKLRF"
      },
      "source": [
        "from sklearn.svm import SVC"
      ],
      "execution_count": 62,
      "outputs": []
    },
    {
      "cell_type": "markdown",
      "metadata": {
        "id": "PpB-WitTwtF-"
      },
      "source": [
        "The required library was loaded, the model was run and its accuracy was calculated, resulting in 0.51. "
      ]
    },
    {
      "cell_type": "code",
      "metadata": {
        "colab": {
          "base_uri": "https://localhost:8080/"
        },
        "id": "hC_WImZWKMgM",
        "outputId": "cfd63829-ec69-4df0-d137-1fc650948c7e"
      },
      "source": [
        "model = SVC() #different types of kernel were tested, however the default 'rbf' consistently yielded the highest accuracy.\n",
        "model.fit(X_train, y_train)\n",
        "predictions = model.predict(X_test)\n",
        "print(\"Accuracy:\", metrics.accuracy_score(y_test, predictions))"
      ],
      "execution_count": 63,
      "outputs": [
        {
          "output_type": "stream",
          "text": [
            "Accuracy: 0.5116279069767442\n"
          ],
          "name": "stdout"
        }
      ]
    },
    {
      "cell_type": "markdown",
      "metadata": {
        "id": "dK5N79xWxHlj"
      },
      "source": [
        "The confusion matrix and classification report were also obtained. "
      ]
    },
    {
      "cell_type": "code",
      "metadata": {
        "colab": {
          "base_uri": "https://localhost:8080/"
        },
        "id": "s5kMRvjic_cT",
        "outputId": "f4cb38b5-dc2a-4fa7-cc7b-60f6b49b3c25"
      },
      "source": [
        "print(confusion_matrix(y_test, predictions))\n",
        "print('\\n')\n",
        "print(classification_report(y_test, predictions))"
      ],
      "execution_count": 64,
      "outputs": [
        {
          "output_type": "stream",
          "text": [
            "[[ 67   0  49]\n",
            " [ 39   0  65]\n",
            " [ 36   0 131]]\n",
            "\n",
            "\n",
            "              precision    recall  f1-score   support\n",
            "\n",
            "           A       0.47      0.58      0.52       116\n",
            "           D       0.00      0.00      0.00       104\n",
            "           H       0.53      0.78      0.64       167\n",
            "\n",
            "    accuracy                           0.51       387\n",
            "   macro avg       0.34      0.45      0.39       387\n",
            "weighted avg       0.37      0.51      0.43       387\n",
            "\n"
          ],
          "name": "stdout"
        },
        {
          "output_type": "stream",
          "text": [
            "/usr/local/lib/python3.6/dist-packages/sklearn/metrics/_classification.py:1272: UndefinedMetricWarning: Precision and F-score are ill-defined and being set to 0.0 in labels with no predicted samples. Use `zero_division` parameter to control this behavior.\n",
            "  _warn_prf(average, modifier, msg_start, len(result))\n"
          ],
          "name": "stderr"
        }
      ]
    },
    {
      "cell_type": "markdown",
      "metadata": {
        "id": "ZVkxrn_ixbHU"
      },
      "source": [
        "The confusion matrix was also plotted for data visualization purposes. "
      ]
    },
    {
      "cell_type": "code",
      "metadata": {
        "colab": {
          "base_uri": "https://localhost:8080/",
          "height": 489
        },
        "id": "Zw4DY_b5xaOl",
        "outputId": "e19dcec0-b3bf-4d45-caf2-44a19aef446b"
      },
      "source": [
        "skplt.metrics.plot_confusion_matrix(\n",
        "    y_test, \n",
        "    predictions,\n",
        "    figsize=(8,8))"
      ],
      "execution_count": 67,
      "outputs": [
        {
          "output_type": "execute_result",
          "data": {
            "text/plain": [
              "<matplotlib.axes._subplots.AxesSubplot at 0x7f5a9a6947f0>"
            ]
          },
          "metadata": {
            "tags": []
          },
          "execution_count": 67
        },
        {
          "output_type": "display_data",
          "data": {
            "image/png": "[encoded data removed]",
            "text/plain": [
              "<Figure size 576x576 with 2 Axes>"
            ]
          },
          "metadata": {
            "tags": []
          }
        }
      ]
    },
    {
      "cell_type": "code",
      "metadata": {
        "colab": {
          "base_uri": "https://localhost:8080/",
          "height": 489
        },
        "id": "u4qTNqogxshG",
        "outputId": "91177e00-35cb-44af-b81b-4a2db8b74dc8"
      },
      "source": [
        "skplt.metrics.plot_confusion_matrix(\n",
        "    y_test, \n",
        "    predictions,\n",
        "    normalize=True,\n",
        "    figsize=(8,8))"
      ],
      "execution_count": 68,
      "outputs": [
        {
          "output_type": "execute_result",
          "data": {
            "text/plain": [
              "<matplotlib.axes._subplots.AxesSubplot at 0x7f5a9a5d3860>"
            ]
          },
          "metadata": {
            "tags": []
          },
          "execution_count": 68
        },
        {
          "output_type": "display_data",
          "data": {
            "image/png": "[encoded data removed]",
            "text/plain": [
              "<Figure size 576x576 with 2 Axes>"
            ]
          },
          "metadata": {
            "tags": []
          }
        }
      ]
    },
    {
      "cell_type": "markdown",
      "metadata": {
        "id": "uvdqX8q-x3Wa"
      },
      "source": [
        "As it can be observed from the confusion matrix and the classification report, the number of accurate predictions of H and A improved when using the SVC model in comparison with the Decision Tree model; 58% of A and 78% of H results were correctly predicted. However, no \"D\" predictions were produced by the model. "
      ]
    },
    {
      "cell_type": "markdown",
      "metadata": {
        "id": "hoOqUV_Mrk9m"
      },
      "source": [
        "Overall, both prediction models were found to work better when predicting victories for the host teams. Also, both of them struggled with predicting draws between the teams. The prediction models could be improved either by further modifying the dataset to provide more insightful information to the models, or by adjusting their parameters and attributes to manage their classification processes."
      ]
    }
  ]
}