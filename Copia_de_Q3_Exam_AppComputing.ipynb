{
  "nbformat": 4,
  "nbformat_minor": 0,
  "metadata": {
    "colab": {
      "name": "Copia de Q3_Exam_AppComputing.ipynb",
      "provenance": [],
      "mount_file_id": "1a7qIFEIw8MJJCXwupD-kYa-iN003V4Oz",
      "authorship_tag": "ABX9TyN21fvZFqQaDULQDxIGPicY",
      "include_colab_link": true
    },
    "kernelspec": {
      "name": "python3",
      "display_name": "Python 3"
    }
  },
  "cells": [
    {
      "cell_type": "markdown",
      "metadata": {
        "id": "view-in-github",
        "colab_type": "text"
      },
      "source": [
        "<a href=\"https://colab.research.google.com/github/MildredJmz1/Applied-Computing/blob/main/Copia_de_Q3_Exam_AppComputing.ipynb\" target=\"_parent\"><img src=\"https://colab.research.google.com/assets/colab-badge.svg\" alt=\"Open In Colab\"/></a>"
      ]
    },
    {
      "cell_type": "markdown",
      "metadata": {
        "id": "2HkvaGaQj8wr"
      },
      "source": [
        "Mildred Jiménez (A01631207)"
      ]
    },
    {
      "cell_type": "markdown",
      "metadata": {
        "id": "k9z3YQ2bj_yD"
      },
      "source": [
        "## **QUESTION 3**"
      ]
    },
    {
      "cell_type": "markdown",
      "metadata": {
        "id": "UYXfOr9qj5JX"
      },
      "source": [
        "![image.png](data:image/png;base64,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)"
      ]
    },
    {
      "cell_type": "markdown",
      "metadata": {
        "id": "26NE1jUmPTF1"
      },
      "source": [
        "The required libraries were loaded and the dataset was imported."
      ]
    },
    {
      "cell_type": "code",
      "metadata": {
        "id": "WKaQiUdZvSyI"
      },
      "source": [
        "%matplotlib inline\n",
        "import numpy as np\n",
        "import pandas as pd\n",
        "import matplotlib.pyplot as plt\n",
        "import seaborn as sns; sns.set()"
      ],
      "execution_count": 1,
      "outputs": []
    },
    {
      "cell_type": "code",
      "metadata": {
        "colab": {
          "base_uri": "https://localhost:8080/"
        },
        "id": "g-gGrYH6vnmY",
        "outputId": "689fee4d-023b-4a11-a04e-08782abc2106"
      },
      "source": [
        "from google.colab import drive\n",
        "drive.mount('/content/drive')"
      ],
      "execution_count": 2,
      "outputs": [
        {
          "output_type": "stream",
          "text": [
            "Mounted at /content/drive\n"
          ],
          "name": "stdout"
        }
      ]
    },
    {
      "cell_type": "code",
      "metadata": {
        "colab": {
          "base_uri": "https://localhost:8080/",
          "height": 419
        },
        "id": "Ir35GYhkvzGP",
        "outputId": "123278e8-fcb0-4cce-f363-01a2904d9d9c"
      },
      "source": [
        "df=pd.read_csv('/content/drive/MyDrive/sweden.csv')\n",
        "df=pd.DataFrame(df)\n",
        "display(df)"
      ],
      "execution_count": 3,
      "outputs": [
        {
          "output_type": "display_data",
          "data": {
            "text/html": [
              "<div>\n",
              "<style scoped>\n",
              "    .dataframe tbody tr th:only-of-type {\n",
              "        vertical-align: middle;\n",
              "    }\n",
              "\n",
              "    .dataframe tbody tr th {\n",
              "        vertical-align: top;\n",
              "    }\n",
              "\n",
              "    .dataframe thead th {\n",
              "        text-align: right;\n",
              "    }\n",
              "</style>\n",
              "<table border=\"1\" class=\"dataframe\">\n",
              "  <thead>\n",
              "    <tr style=\"text-align: right;\">\n",
              "      <th></th>\n",
              "      <th>Country</th>\n",
              "      <th>League</th>\n",
              "      <th>Season</th>\n",
              "      <th>Date</th>\n",
              "      <th>Time</th>\n",
              "      <th>Home</th>\n",
              "      <th>Away</th>\n",
              "      <th>HG</th>\n",
              "      <th>AG</th>\n",
              "      <th>Res</th>\n",
              "      <th>PH</th>\n",
              "      <th>PD</th>\n",
              "      <th>PA</th>\n",
              "      <th>MaxH</th>\n",
              "      <th>MaxD</th>\n",
              "      <th>MaxA</th>\n",
              "      <th>AvgH</th>\n",
              "      <th>AvgD</th>\n",
              "      <th>AvgA</th>\n",
              "    </tr>\n",
              "  </thead>\n",
              "  <tbody>\n",
              "    <tr>\n",
              "      <th>0</th>\n",
              "      <td>Sweden</td>\n",
              "      <td>Allsvenskan</td>\n",
              "      <td>2012</td>\n",
              "      <td>31/03/2012</td>\n",
              "      <td>15:00</td>\n",
              "      <td>Elfsborg</td>\n",
              "      <td>Djurgarden</td>\n",
              "      <td>2</td>\n",
              "      <td>1</td>\n",
              "      <td>H</td>\n",
              "      <td>1.71</td>\n",
              "      <td>3.98</td>\n",
              "      <td>5.44</td>\n",
              "      <td>1.73</td>\n",
              "      <td>3.98</td>\n",
              "      <td>5.50</td>\n",
              "      <td>1.66</td>\n",
              "      <td>3.68</td>\n",
              "      <td>5.00</td>\n",
              "    </tr>\n",
              "    <tr>\n",
              "      <th>1</th>\n",
              "      <td>Sweden</td>\n",
              "      <td>Allsvenskan</td>\n",
              "      <td>2012</td>\n",
              "      <td>31/03/2012</td>\n",
              "      <td>15:00</td>\n",
              "      <td>GAIS</td>\n",
              "      <td>Hacken</td>\n",
              "      <td>0</td>\n",
              "      <td>0</td>\n",
              "      <td>D</td>\n",
              "      <td>2.21</td>\n",
              "      <td>3.57</td>\n",
              "      <td>3.48</td>\n",
              "      <td>2.50</td>\n",
              "      <td>3.57</td>\n",
              "      <td>3.50</td>\n",
              "      <td>2.25</td>\n",
              "      <td>3.24</td>\n",
              "      <td>3.11</td>\n",
              "    </tr>\n",
              "    <tr>\n",
              "      <th>2</th>\n",
              "      <td>Sweden</td>\n",
              "      <td>Allsvenskan</td>\n",
              "      <td>2012</td>\n",
              "      <td>31/03/2012</td>\n",
              "      <td>15:00</td>\n",
              "      <td>Sundsvall</td>\n",
              "      <td>Kalmar</td>\n",
              "      <td>0</td>\n",
              "      <td>1</td>\n",
              "      <td>A</td>\n",
              "      <td>2.72</td>\n",
              "      <td>2.39</td>\n",
              "      <td>2.80</td>\n",
              "      <td>2.75</td>\n",
              "      <td>3.31</td>\n",
              "      <td>2.82</td>\n",
              "      <td>2.64</td>\n",
              "      <td>3.14</td>\n",
              "      <td>2.62</td>\n",
              "    </tr>\n",
              "    <tr>\n",
              "      <th>3</th>\n",
              "      <td>Sweden</td>\n",
              "      <td>Allsvenskan</td>\n",
              "      <td>2012</td>\n",
              "      <td>01/04/2012</td>\n",
              "      <td>13:00</td>\n",
              "      <td>AIK</td>\n",
              "      <td>Mjallby</td>\n",
              "      <td>0</td>\n",
              "      <td>0</td>\n",
              "      <td>D</td>\n",
              "      <td>1.75</td>\n",
              "      <td>3.63</td>\n",
              "      <td>5.73</td>\n",
              "      <td>1.75</td>\n",
              "      <td>3.63</td>\n",
              "      <td>5.75</td>\n",
              "      <td>1.71</td>\n",
              "      <td>3.43</td>\n",
              "      <td>4.99</td>\n",
              "    </tr>\n",
              "    <tr>\n",
              "      <th>4</th>\n",
              "      <td>Sweden</td>\n",
              "      <td>Allsvenskan</td>\n",
              "      <td>2012</td>\n",
              "      <td>01/04/2012</td>\n",
              "      <td>16:30</td>\n",
              "      <td>Syrianska</td>\n",
              "      <td>Goteborg</td>\n",
              "      <td>2</td>\n",
              "      <td>1</td>\n",
              "      <td>H</td>\n",
              "      <td>5.01</td>\n",
              "      <td>3.49</td>\n",
              "      <td>1.87</td>\n",
              "      <td>5.01</td>\n",
              "      <td>3.65</td>\n",
              "      <td>1.89</td>\n",
              "      <td>4.63</td>\n",
              "      <td>3.41</td>\n",
              "      <td>1.77</td>\n",
              "    </tr>\n",
              "    <tr>\n",
              "      <th>...</th>\n",
              "      <td>...</td>\n",
              "      <td>...</td>\n",
              "      <td>...</td>\n",
              "      <td>...</td>\n",
              "      <td>...</td>\n",
              "      <td>...</td>\n",
              "      <td>...</td>\n",
              "      <td>...</td>\n",
              "      <td>...</td>\n",
              "      <td>...</td>\n",
              "      <td>...</td>\n",
              "      <td>...</td>\n",
              "      <td>...</td>\n",
              "      <td>...</td>\n",
              "      <td>...</td>\n",
              "      <td>...</td>\n",
              "      <td>...</td>\n",
              "      <td>...</td>\n",
              "      <td>...</td>\n",
              "    </tr>\n",
              "    <tr>\n",
              "      <th>1931</th>\n",
              "      <td>Sweden</td>\n",
              "      <td>Allsvenskan</td>\n",
              "      <td>2019</td>\n",
              "      <td>02/11/2019</td>\n",
              "      <td>12:00</td>\n",
              "      <td>Norrkoping</td>\n",
              "      <td>Djurgarden</td>\n",
              "      <td>2</td>\n",
              "      <td>2</td>\n",
              "      <td>D</td>\n",
              "      <td>3.32</td>\n",
              "      <td>3.06</td>\n",
              "      <td>2.46</td>\n",
              "      <td>3.35</td>\n",
              "      <td>3.30</td>\n",
              "      <td>2.50</td>\n",
              "      <td>3.17</td>\n",
              "      <td>3.07</td>\n",
              "      <td>2.39</td>\n",
              "    </tr>\n",
              "    <tr>\n",
              "      <th>1932</th>\n",
              "      <td>Sweden</td>\n",
              "      <td>Allsvenskan</td>\n",
              "      <td>2019</td>\n",
              "      <td>02/11/2019</td>\n",
              "      <td>12:00</td>\n",
              "      <td>Orebro</td>\n",
              "      <td>Malmo FF</td>\n",
              "      <td>0</td>\n",
              "      <td>5</td>\n",
              "      <td>A</td>\n",
              "      <td>15.84</td>\n",
              "      <td>7.53</td>\n",
              "      <td>1.17</td>\n",
              "      <td>17.00</td>\n",
              "      <td>7.60</td>\n",
              "      <td>1.21</td>\n",
              "      <td>13.83</td>\n",
              "      <td>6.96</td>\n",
              "      <td>1.18</td>\n",
              "    </tr>\n",
              "    <tr>\n",
              "      <th>1933</th>\n",
              "      <td>Sweden</td>\n",
              "      <td>Allsvenskan</td>\n",
              "      <td>2019</td>\n",
              "      <td>02/11/2019</td>\n",
              "      <td>12:00</td>\n",
              "      <td>Sirius</td>\n",
              "      <td>Kalmar</td>\n",
              "      <td>3</td>\n",
              "      <td>0</td>\n",
              "      <td>H</td>\n",
              "      <td>5.16</td>\n",
              "      <td>4.11</td>\n",
              "      <td>1.66</td>\n",
              "      <td>5.50</td>\n",
              "      <td>4.11</td>\n",
              "      <td>1.77</td>\n",
              "      <td>4.98</td>\n",
              "      <td>3.83</td>\n",
              "      <td>1.66</td>\n",
              "    </tr>\n",
              "    <tr>\n",
              "      <th>1934</th>\n",
              "      <td>Sweden</td>\n",
              "      <td>Allsvenskan</td>\n",
              "      <td>2019</td>\n",
              "      <td>06/11/2019</td>\n",
              "      <td>18:00</td>\n",
              "      <td>Brage</td>\n",
              "      <td>Kalmar</td>\n",
              "      <td>0</td>\n",
              "      <td>2</td>\n",
              "      <td>A</td>\n",
              "      <td>3.07</td>\n",
              "      <td>3.25</td>\n",
              "      <td>2.49</td>\n",
              "      <td>3.23</td>\n",
              "      <td>3.38</td>\n",
              "      <td>2.55</td>\n",
              "      <td>2.97</td>\n",
              "      <td>3.13</td>\n",
              "      <td>2.43</td>\n",
              "    </tr>\n",
              "    <tr>\n",
              "      <th>1935</th>\n",
              "      <td>Sweden</td>\n",
              "      <td>Allsvenskan</td>\n",
              "      <td>2019</td>\n",
              "      <td>10/11/2019</td>\n",
              "      <td>13:45</td>\n",
              "      <td>Kalmar</td>\n",
              "      <td>Brage</td>\n",
              "      <td>2</td>\n",
              "      <td>2</td>\n",
              "      <td>D</td>\n",
              "      <td>1.75</td>\n",
              "      <td>3.39</td>\n",
              "      <td>5.79</td>\n",
              "      <td>1.80</td>\n",
              "      <td>3.72</td>\n",
              "      <td>5.80</td>\n",
              "      <td>1.72</td>\n",
              "      <td>3.49</td>\n",
              "      <td>5.14</td>\n",
              "    </tr>\n",
              "  </tbody>\n",
              "</table>\n",
              "<p>1936 rows × 19 columns</p>\n",
              "</div>"
            ],
            "text/plain": [
              "     Country       League  Season        Date  ...  MaxA   AvgH  AvgD  AvgA\n",
              "0     Sweden  Allsvenskan    2012  31/03/2012  ...  5.50   1.66  3.68  5.00\n",
              "1     Sweden  Allsvenskan    2012  31/03/2012  ...  3.50   2.25  3.24  3.11\n",
              "2     Sweden  Allsvenskan    2012  31/03/2012  ...  2.82   2.64  3.14  2.62\n",
              "3     Sweden  Allsvenskan    2012  01/04/2012  ...  5.75   1.71  3.43  4.99\n",
              "4     Sweden  Allsvenskan    2012  01/04/2012  ...  1.89   4.63  3.41  1.77\n",
              "...      ...          ...     ...         ...  ...   ...    ...   ...   ...\n",
              "1931  Sweden  Allsvenskan    2019  02/11/2019  ...  2.50   3.17  3.07  2.39\n",
              "1932  Sweden  Allsvenskan    2019  02/11/2019  ...  1.21  13.83  6.96  1.18\n",
              "1933  Sweden  Allsvenskan    2019  02/11/2019  ...  1.77   4.98  3.83  1.66\n",
              "1934  Sweden  Allsvenskan    2019  06/11/2019  ...  2.55   2.97  3.13  2.43\n",
              "1935  Sweden  Allsvenskan    2019  10/11/2019  ...  5.80   1.72  3.49  5.14\n",
              "\n",
              "[1936 rows x 19 columns]"
            ]
          },
          "metadata": {
            "tags": []
          }
        }
      ]
    },
    {
      "cell_type": "markdown",
      "metadata": {
        "id": "MxS5T1XcyqUI"
      },
      "source": [
        "Analysing the sample data prior to building the model is important to understand its behaviour. In this case, the dataset was first explored to find out if there were any missing values and to understand the different types of variables that it contains. "
      ]
    },
    {
      "cell_type": "code",
      "metadata": {
        "colab": {
          "base_uri": "https://localhost:8080/"
        },
        "id": "FMAzhWMUytth",
        "outputId": "10cfe68c-e263-4cf5-c387-03351e02bd91"
      },
      "source": [
        "print(df.isnull().sum()) #6 values are missing in the dataset"
      ],
      "execution_count": 4,
      "outputs": [
        {
          "output_type": "stream",
          "text": [
            "Country    0\n",
            "League     0\n",
            "Season     0\n",
            "Date       0\n",
            "Time       0\n",
            "Home       0\n",
            "Away       0\n",
            "HG         0\n",
            "AG         0\n",
            "Res        0\n",
            "PH         2\n",
            "PD         2\n",
            "PA         2\n",
            "MaxH       0\n",
            "MaxD       0\n",
            "MaxA       0\n",
            "AvgH       0\n",
            "AvgD       0\n",
            "AvgA       0\n",
            "dtype: int64\n"
          ],
          "name": "stdout"
        }
      ]
    },
    {
      "cell_type": "code",
      "metadata": {
        "colab": {
          "base_uri": "https://localhost:8080/"
        },
        "id": "eMS1bD1Ly56F",
        "outputId": "601a68cc-c6cc-493c-f71a-12f6d45af5cc"
      },
      "source": [
        "df.dtypes #the dataset contains three different types of variables."
      ],
      "execution_count": 5,
      "outputs": [
        {
          "output_type": "execute_result",
          "data": {
            "text/plain": [
              "Country     object\n",
              "League      object\n",
              "Season       int64\n",
              "Date        object\n",
              "Time        object\n",
              "Home        object\n",
              "Away        object\n",
              "HG           int64\n",
              "AG           int64\n",
              "Res         object\n",
              "PH         float64\n",
              "PD         float64\n",
              "PA         float64\n",
              "MaxH       float64\n",
              "MaxD       float64\n",
              "MaxA       float64\n",
              "AvgH       float64\n",
              "AvgD       float64\n",
              "AvgA       float64\n",
              "dtype: object"
            ]
          },
          "metadata": {
            "tags": []
          },
          "execution_count": 5
        }
      ]
    },
    {
      "cell_type": "markdown",
      "metadata": {
        "id": "twO6PCpcQWKh"
      },
      "source": [
        "Since the number of missing values was low, these were dropped from the dataset. "
      ]
    },
    {
      "cell_type": "code",
      "metadata": {
        "colab": {
          "base_uri": "https://localhost:8080/"
        },
        "id": "K5sYI19c7IPh",
        "outputId": "a4093cbe-4ef4-4344-e48f-3a7cc759e7d7"
      },
      "source": [
        "df = df.dropna()\n",
        "print(df)"
      ],
      "execution_count": 6,
      "outputs": [
        {
          "output_type": "stream",
          "text": [
            "     Country       League  Season        Date  ...  MaxA   AvgH  AvgD  AvgA\n",
            "0     Sweden  Allsvenskan    2012  31/03/2012  ...  5.50   1.66  3.68  5.00\n",
            "1     Sweden  Allsvenskan    2012  31/03/2012  ...  3.50   2.25  3.24  3.11\n",
            "2     Sweden  Allsvenskan    2012  31/03/2012  ...  2.82   2.64  3.14  2.62\n",
            "3     Sweden  Allsvenskan    2012  01/04/2012  ...  5.75   1.71  3.43  4.99\n",
            "4     Sweden  Allsvenskan    2012  01/04/2012  ...  1.89   4.63  3.41  1.77\n",
            "...      ...          ...     ...         ...  ...   ...    ...   ...   ...\n",
            "1931  Sweden  Allsvenskan    2019  02/11/2019  ...  2.50   3.17  3.07  2.39\n",
            "1932  Sweden  Allsvenskan    2019  02/11/2019  ...  1.21  13.83  6.96  1.18\n",
            "1933  Sweden  Allsvenskan    2019  02/11/2019  ...  1.77   4.98  3.83  1.66\n",
            "1934  Sweden  Allsvenskan    2019  06/11/2019  ...  2.55   2.97  3.13  2.43\n",
            "1935  Sweden  Allsvenskan    2019  10/11/2019  ...  5.80   1.72  3.49  5.14\n",
            "\n",
            "[1934 rows x 19 columns]\n"
          ],
          "name": "stdout"
        }
      ]
    },
    {
      "cell_type": "markdown",
      "metadata": {
        "id": "RsdUkkyHQtEk"
      },
      "source": [
        "A new dataset, whithout the null values, was established:"
      ]
    },
    {
      "cell_type": "code",
      "metadata": {
        "colab": {
          "base_uri": "https://localhost:8080/",
          "height": 419
        },
        "id": "YfkBiYxLz5sV",
        "outputId": "49ad1557-b495-4b14-bcd6-242333aa970e"
      },
      "source": [
        "df2=df.copy()\n",
        "df2"
      ],
      "execution_count": 7,
      "outputs": [
        {
          "output_type": "execute_result",
          "data": {
            "text/html": [
              "<div>\n",
              "<style scoped>\n",
              "    .dataframe tbody tr th:only-of-type {\n",
              "        vertical-align: middle;\n",
              "    }\n",
              "\n",
              "    .dataframe tbody tr th {\n",
              "        vertical-align: top;\n",
              "    }\n",
              "\n",
              "    .dataframe thead th {\n",
              "        text-align: right;\n",
              "    }\n",
              "</style>\n",
              "<table border=\"1\" class=\"dataframe\">\n",
              "  <thead>\n",
              "    <tr style=\"text-align: right;\">\n",
              "      <th></th>\n",
              "      <th>Country</th>\n",
              "      <th>League</th>\n",
              "      <th>Season</th>\n",
              "      <th>Date</th>\n",
              "      <th>Time</th>\n",
              "      <th>Home</th>\n",
              "      <th>Away</th>\n",
              "      <th>HG</th>\n",
              "      <th>AG</th>\n",
              "      <th>Res</th>\n",
              "      <th>PH</th>\n",
              "      <th>PD</th>\n",
              "      <th>PA</th>\n",
              "      <th>MaxH</th>\n",
              "      <th>MaxD</th>\n",
              "      <th>MaxA</th>\n",
              "      <th>AvgH</th>\n",
              "      <th>AvgD</th>\n",
              "      <th>AvgA</th>\n",
              "    </tr>\n",
              "  </thead>\n",
              "  <tbody>\n",
              "    <tr>\n",
              "      <th>0</th>\n",
              "      <td>Sweden</td>\n",
              "      <td>Allsvenskan</td>\n",
              "      <td>2012</td>\n",
              "      <td>31/03/2012</td>\n",
              "      <td>15:00</td>\n",
              "      <td>Elfsborg</td>\n",
              "      <td>Djurgarden</td>\n",
              "      <td>2</td>\n",
              "      <td>1</td>\n",
              "      <td>H</td>\n",
              "      <td>1.71</td>\n",
              "      <td>3.98</td>\n",
              "      <td>5.44</td>\n",
              "      <td>1.73</td>\n",
              "      <td>3.98</td>\n",
              "      <td>5.50</td>\n",
              "      <td>1.66</td>\n",
              "      <td>3.68</td>\n",
              "      <td>5.00</td>\n",
              "    </tr>\n",
              "    <tr>\n",
              "      <th>1</th>\n",
              "      <td>Sweden</td>\n",
              "      <td>Allsvenskan</td>\n",
              "      <td>2012</td>\n",
              "      <td>31/03/2012</td>\n",
              "      <td>15:00</td>\n",
              "      <td>GAIS</td>\n",
              "      <td>Hacken</td>\n",
              "      <td>0</td>\n",
              "      <td>0</td>\n",
              "      <td>D</td>\n",
              "      <td>2.21</td>\n",
              "      <td>3.57</td>\n",
              "      <td>3.48</td>\n",
              "      <td>2.50</td>\n",
              "      <td>3.57</td>\n",
              "      <td>3.50</td>\n",
              "      <td>2.25</td>\n",
              "      <td>3.24</td>\n",
              "      <td>3.11</td>\n",
              "    </tr>\n",
              "    <tr>\n",
              "      <th>2</th>\n",
              "      <td>Sweden</td>\n",
              "      <td>Allsvenskan</td>\n",
              "      <td>2012</td>\n",
              "      <td>31/03/2012</td>\n",
              "      <td>15:00</td>\n",
              "      <td>Sundsvall</td>\n",
              "      <td>Kalmar</td>\n",
              "      <td>0</td>\n",
              "      <td>1</td>\n",
              "      <td>A</td>\n",
              "      <td>2.72</td>\n",
              "      <td>2.39</td>\n",
              "      <td>2.80</td>\n",
              "      <td>2.75</td>\n",
              "      <td>3.31</td>\n",
              "      <td>2.82</td>\n",
              "      <td>2.64</td>\n",
              "      <td>3.14</td>\n",
              "      <td>2.62</td>\n",
              "    </tr>\n",
              "    <tr>\n",
              "      <th>3</th>\n",
              "      <td>Sweden</td>\n",
              "      <td>Allsvenskan</td>\n",
              "      <td>2012</td>\n",
              "      <td>01/04/2012</td>\n",
              "      <td>13:00</td>\n",
              "      <td>AIK</td>\n",
              "      <td>Mjallby</td>\n",
              "      <td>0</td>\n",
              "      <td>0</td>\n",
              "      <td>D</td>\n",
              "      <td>1.75</td>\n",
              "      <td>3.63</td>\n",
              "      <td>5.73</td>\n",
              "      <td>1.75</td>\n",
              "      <td>3.63</td>\n",
              "      <td>5.75</td>\n",
              "      <td>1.71</td>\n",
              "      <td>3.43</td>\n",
              "      <td>4.99</td>\n",
              "    </tr>\n",
              "    <tr>\n",
              "      <th>4</th>\n",
              "      <td>Sweden</td>\n",
              "      <td>Allsvenskan</td>\n",
              "      <td>2012</td>\n",
              "      <td>01/04/2012</td>\n",
              "      <td>16:30</td>\n",
              "      <td>Syrianska</td>\n",
              "      <td>Goteborg</td>\n",
              "      <td>2</td>\n",
              "      <td>1</td>\n",
              "      <td>H</td>\n",
              "      <td>5.01</td>\n",
              "      <td>3.49</td>\n",
              "      <td>1.87</td>\n",
              "      <td>5.01</td>\n",
              "      <td>3.65</td>\n",
              "      <td>1.89</td>\n",
              "      <td>4.63</td>\n",
              "      <td>3.41</td>\n",
              "      <td>1.77</td>\n",
              "    </tr>\n",
              "    <tr>\n",
              "      <th>...</th>\n",
              "      <td>...</td>\n",
              "      <td>...</td>\n",
              "      <td>...</td>\n",
              "      <td>...</td>\n",
              "      <td>...</td>\n",
              "      <td>...</td>\n",
              "      <td>...</td>\n",
              "      <td>...</td>\n",
              "      <td>...</td>\n",
              "      <td>...</td>\n",
              "      <td>...</td>\n",
              "      <td>...</td>\n",
              "      <td>...</td>\n",
              "      <td>...</td>\n",
              "      <td>...</td>\n",
              "      <td>...</td>\n",
              "      <td>...</td>\n",
              "      <td>...</td>\n",
              "      <td>...</td>\n",
              "    </tr>\n",
              "    <tr>\n",
              "      <th>1931</th>\n",
              "      <td>Sweden</td>\n",
              "      <td>Allsvenskan</td>\n",
              "      <td>2019</td>\n",
              "      <td>02/11/2019</td>\n",
              "      <td>12:00</td>\n",
              "      <td>Norrkoping</td>\n",
              "      <td>Djurgarden</td>\n",
              "      <td>2</td>\n",
              "      <td>2</td>\n",
              "      <td>D</td>\n",
              "      <td>3.32</td>\n",
              "      <td>3.06</td>\n",
              "      <td>2.46</td>\n",
              "      <td>3.35</td>\n",
              "      <td>3.30</td>\n",
              "      <td>2.50</td>\n",
              "      <td>3.17</td>\n",
              "      <td>3.07</td>\n",
              "      <td>2.39</td>\n",
              "    </tr>\n",
              "    <tr>\n",
              "      <th>1932</th>\n",
              "      <td>Sweden</td>\n",
              "      <td>Allsvenskan</td>\n",
              "      <td>2019</td>\n",
              "      <td>02/11/2019</td>\n",
              "      <td>12:00</td>\n",
              "      <td>Orebro</td>\n",
              "      <td>Malmo FF</td>\n",
              "      <td>0</td>\n",
              "      <td>5</td>\n",
              "      <td>A</td>\n",
              "      <td>15.84</td>\n",
              "      <td>7.53</td>\n",
              "      <td>1.17</td>\n",
              "      <td>17.00</td>\n",
              "      <td>7.60</td>\n",
              "      <td>1.21</td>\n",
              "      <td>13.83</td>\n",
              "      <td>6.96</td>\n",
              "      <td>1.18</td>\n",
              "    </tr>\n",
              "    <tr>\n",
              "      <th>1933</th>\n",
              "      <td>Sweden</td>\n",
              "      <td>Allsvenskan</td>\n",
              "      <td>2019</td>\n",
              "      <td>02/11/2019</td>\n",
              "      <td>12:00</td>\n",
              "      <td>Sirius</td>\n",
              "      <td>Kalmar</td>\n",
              "      <td>3</td>\n",
              "      <td>0</td>\n",
              "      <td>H</td>\n",
              "      <td>5.16</td>\n",
              "      <td>4.11</td>\n",
              "      <td>1.66</td>\n",
              "      <td>5.50</td>\n",
              "      <td>4.11</td>\n",
              "      <td>1.77</td>\n",
              "      <td>4.98</td>\n",
              "      <td>3.83</td>\n",
              "      <td>1.66</td>\n",
              "    </tr>\n",
              "    <tr>\n",
              "      <th>1934</th>\n",
              "      <td>Sweden</td>\n",
              "      <td>Allsvenskan</td>\n",
              "      <td>2019</td>\n",
              "      <td>06/11/2019</td>\n",
              "      <td>18:00</td>\n",
              "      <td>Brage</td>\n",
              "      <td>Kalmar</td>\n",
              "      <td>0</td>\n",
              "      <td>2</td>\n",
              "      <td>A</td>\n",
              "      <td>3.07</td>\n",
              "      <td>3.25</td>\n",
              "      <td>2.49</td>\n",
              "      <td>3.23</td>\n",
              "      <td>3.38</td>\n",
              "      <td>2.55</td>\n",
              "      <td>2.97</td>\n",
              "      <td>3.13</td>\n",
              "      <td>2.43</td>\n",
              "    </tr>\n",
              "    <tr>\n",
              "      <th>1935</th>\n",
              "      <td>Sweden</td>\n",
              "      <td>Allsvenskan</td>\n",
              "      <td>2019</td>\n",
              "      <td>10/11/2019</td>\n",
              "      <td>13:45</td>\n",
              "      <td>Kalmar</td>\n",
              "      <td>Brage</td>\n",
              "      <td>2</td>\n",
              "      <td>2</td>\n",
              "      <td>D</td>\n",
              "      <td>1.75</td>\n",
              "      <td>3.39</td>\n",
              "      <td>5.79</td>\n",
              "      <td>1.80</td>\n",
              "      <td>3.72</td>\n",
              "      <td>5.80</td>\n",
              "      <td>1.72</td>\n",
              "      <td>3.49</td>\n",
              "      <td>5.14</td>\n",
              "    </tr>\n",
              "  </tbody>\n",
              "</table>\n",
              "<p>1934 rows × 19 columns</p>\n",
              "</div>"
            ],
            "text/plain": [
              "     Country       League  Season        Date  ...  MaxA   AvgH  AvgD  AvgA\n",
              "0     Sweden  Allsvenskan    2012  31/03/2012  ...  5.50   1.66  3.68  5.00\n",
              "1     Sweden  Allsvenskan    2012  31/03/2012  ...  3.50   2.25  3.24  3.11\n",
              "2     Sweden  Allsvenskan    2012  31/03/2012  ...  2.82   2.64  3.14  2.62\n",
              "3     Sweden  Allsvenskan    2012  01/04/2012  ...  5.75   1.71  3.43  4.99\n",
              "4     Sweden  Allsvenskan    2012  01/04/2012  ...  1.89   4.63  3.41  1.77\n",
              "...      ...          ...     ...         ...  ...   ...    ...   ...   ...\n",
              "1931  Sweden  Allsvenskan    2019  02/11/2019  ...  2.50   3.17  3.07  2.39\n",
              "1932  Sweden  Allsvenskan    2019  02/11/2019  ...  1.21  13.83  6.96  1.18\n",
              "1933  Sweden  Allsvenskan    2019  02/11/2019  ...  1.77   4.98  3.83  1.66\n",
              "1934  Sweden  Allsvenskan    2019  06/11/2019  ...  2.55   2.97  3.13  2.43\n",
              "1935  Sweden  Allsvenskan    2019  10/11/2019  ...  5.80   1.72  3.49  5.14\n",
              "\n",
              "[1934 rows x 19 columns]"
            ]
          },
          "metadata": {
            "tags": []
          },
          "execution_count": 7
        }
      ]
    },
    {
      "cell_type": "markdown",
      "metadata": {
        "id": "2kOGmEBOQ7zl"
      },
      "source": [
        "A correlation analysis of the variables was carried out in order to determine which variables were significant to the model. As it can be observed from the correlation matrix and the correlation heatmap below, \"Season\" is the only variable that is not significantlty correlated with the rest of the variables. Therefore, it does not need to be used to buid any of the prediction models. "
      ]
    },
    {
      "cell_type": "code",
      "metadata": {
        "colab": {
          "base_uri": "https://localhost:8080/",
          "height": 421
        },
        "id": "9C6Y3kH_0Kti",
        "outputId": "91e9bd2f-a28f-4b6b-dbd3-84883ffc68e7"
      },
      "source": [
        "df2.corr()"
      ],
      "execution_count": 8,
      "outputs": [
        {
          "output_type": "execute_result",
          "data": {
            "text/html": [
              "<div>\n",
              "<style scoped>\n",
              "    .dataframe tbody tr th:only-of-type {\n",
              "        vertical-align: middle;\n",
              "    }\n",
              "\n",
              "    .dataframe tbody tr th {\n",
              "        vertical-align: top;\n",
              "    }\n",
              "\n",
              "    .dataframe thead th {\n",
              "        text-align: right;\n",
              "    }\n",
              "</style>\n",
              "<table border=\"1\" class=\"dataframe\">\n",
              "  <thead>\n",
              "    <tr style=\"text-align: right;\">\n",
              "      <th></th>\n",
              "      <th>Season</th>\n",
              "      <th>HG</th>\n",
              "      <th>AG</th>\n",
              "      <th>PH</th>\n",
              "      <th>PD</th>\n",
              "      <th>PA</th>\n",
              "      <th>MaxH</th>\n",
              "      <th>MaxD</th>\n",
              "      <th>MaxA</th>\n",
              "      <th>AvgH</th>\n",
              "      <th>AvgD</th>\n",
              "      <th>AvgA</th>\n",
              "    </tr>\n",
              "  </thead>\n",
              "  <tbody>\n",
              "    <tr>\n",
              "      <th>Season</th>\n",
              "      <td>1.000000</td>\n",
              "      <td>-0.016584</td>\n",
              "      <td>0.009818</td>\n",
              "      <td>0.081307</td>\n",
              "      <td>0.025259</td>\n",
              "      <td>-0.014422</td>\n",
              "      <td>0.079029</td>\n",
              "      <td>0.064262</td>\n",
              "      <td>-0.006392</td>\n",
              "      <td>0.092258</td>\n",
              "      <td>0.112065</td>\n",
              "      <td>0.002885</td>\n",
              "    </tr>\n",
              "    <tr>\n",
              "      <th>HG</th>\n",
              "      <td>-0.016584</td>\n",
              "      <td>1.000000</td>\n",
              "      <td>-0.084761</td>\n",
              "      <td>-0.270941</td>\n",
              "      <td>0.258165</td>\n",
              "      <td>0.317923</td>\n",
              "      <td>-0.268822</td>\n",
              "      <td>0.253380</td>\n",
              "      <td>0.319026</td>\n",
              "      <td>-0.275335</td>\n",
              "      <td>0.255213</td>\n",
              "      <td>0.328503</td>\n",
              "    </tr>\n",
              "    <tr>\n",
              "      <th>AG</th>\n",
              "      <td>0.009818</td>\n",
              "      <td>-0.084761</td>\n",
              "      <td>1.000000</td>\n",
              "      <td>0.326737</td>\n",
              "      <td>-0.111295</td>\n",
              "      <td>-0.270017</td>\n",
              "      <td>0.322485</td>\n",
              "      <td>-0.111061</td>\n",
              "      <td>-0.263670</td>\n",
              "      <td>0.327117</td>\n",
              "      <td>-0.115526</td>\n",
              "      <td>-0.277782</td>\n",
              "    </tr>\n",
              "    <tr>\n",
              "      <th>PH</th>\n",
              "      <td>0.081307</td>\n",
              "      <td>-0.270941</td>\n",
              "      <td>0.326737</td>\n",
              "      <td>1.000000</td>\n",
              "      <td>-0.169793</td>\n",
              "      <td>-0.609675</td>\n",
              "      <td>0.994239</td>\n",
              "      <td>-0.163615</td>\n",
              "      <td>-0.595270</td>\n",
              "      <td>0.996008</td>\n",
              "      <td>-0.158595</td>\n",
              "      <td>-0.628253</td>\n",
              "    </tr>\n",
              "    <tr>\n",
              "      <th>PD</th>\n",
              "      <td>0.025259</td>\n",
              "      <td>0.258165</td>\n",
              "      <td>-0.111295</td>\n",
              "      <td>-0.169793</td>\n",
              "      <td>1.000000</td>\n",
              "      <td>0.824095</td>\n",
              "      <td>-0.149051</td>\n",
              "      <td>0.987927</td>\n",
              "      <td>0.839735</td>\n",
              "      <td>-0.173752</td>\n",
              "      <td>0.985879</td>\n",
              "      <td>0.823955</td>\n",
              "    </tr>\n",
              "    <tr>\n",
              "      <th>PA</th>\n",
              "      <td>-0.014422</td>\n",
              "      <td>0.317923</td>\n",
              "      <td>-0.270017</td>\n",
              "      <td>-0.609675</td>\n",
              "      <td>0.824095</td>\n",
              "      <td>1.000000</td>\n",
              "      <td>-0.595019</td>\n",
              "      <td>0.830472</td>\n",
              "      <td>0.991944</td>\n",
              "      <td>-0.616128</td>\n",
              "      <td>0.829454</td>\n",
              "      <td>0.993161</td>\n",
              "    </tr>\n",
              "    <tr>\n",
              "      <th>MaxH</th>\n",
              "      <td>0.079029</td>\n",
              "      <td>-0.268822</td>\n",
              "      <td>0.322485</td>\n",
              "      <td>0.994239</td>\n",
              "      <td>-0.149051</td>\n",
              "      <td>-0.595019</td>\n",
              "      <td>1.000000</td>\n",
              "      <td>-0.141726</td>\n",
              "      <td>-0.581662</td>\n",
              "      <td>0.996820</td>\n",
              "      <td>-0.138239</td>\n",
              "      <td>-0.614502</td>\n",
              "    </tr>\n",
              "    <tr>\n",
              "      <th>MaxD</th>\n",
              "      <td>0.064262</td>\n",
              "      <td>0.253380</td>\n",
              "      <td>-0.111061</td>\n",
              "      <td>-0.163615</td>\n",
              "      <td>0.987927</td>\n",
              "      <td>0.830472</td>\n",
              "      <td>-0.141726</td>\n",
              "      <td>1.000000</td>\n",
              "      <td>0.848143</td>\n",
              "      <td>-0.167547</td>\n",
              "      <td>0.991832</td>\n",
              "      <td>0.830698</td>\n",
              "    </tr>\n",
              "    <tr>\n",
              "      <th>MaxA</th>\n",
              "      <td>-0.006392</td>\n",
              "      <td>0.319026</td>\n",
              "      <td>-0.263670</td>\n",
              "      <td>-0.595270</td>\n",
              "      <td>0.839735</td>\n",
              "      <td>0.991944</td>\n",
              "      <td>-0.581662</td>\n",
              "      <td>0.848143</td>\n",
              "      <td>1.000000</td>\n",
              "      <td>-0.602837</td>\n",
              "      <td>0.847192</td>\n",
              "      <td>0.994883</td>\n",
              "    </tr>\n",
              "    <tr>\n",
              "      <th>AvgH</th>\n",
              "      <td>0.092258</td>\n",
              "      <td>-0.275335</td>\n",
              "      <td>0.327117</td>\n",
              "      <td>0.996008</td>\n",
              "      <td>-0.173752</td>\n",
              "      <td>-0.616128</td>\n",
              "      <td>0.996820</td>\n",
              "      <td>-0.167547</td>\n",
              "      <td>-0.602837</td>\n",
              "      <td>1.000000</td>\n",
              "      <td>-0.162912</td>\n",
              "      <td>-0.635887</td>\n",
              "    </tr>\n",
              "    <tr>\n",
              "      <th>AvgD</th>\n",
              "      <td>0.112065</td>\n",
              "      <td>0.255213</td>\n",
              "      <td>-0.115526</td>\n",
              "      <td>-0.158595</td>\n",
              "      <td>0.985879</td>\n",
              "      <td>0.829454</td>\n",
              "      <td>-0.138239</td>\n",
              "      <td>0.991832</td>\n",
              "      <td>0.847192</td>\n",
              "      <td>-0.162912</td>\n",
              "      <td>1.000000</td>\n",
              "      <td>0.832384</td>\n",
              "    </tr>\n",
              "    <tr>\n",
              "      <th>AvgA</th>\n",
              "      <td>0.002885</td>\n",
              "      <td>0.328503</td>\n",
              "      <td>-0.277782</td>\n",
              "      <td>-0.628253</td>\n",
              "      <td>0.823955</td>\n",
              "      <td>0.993161</td>\n",
              "      <td>-0.614502</td>\n",
              "      <td>0.830698</td>\n",
              "      <td>0.994883</td>\n",
              "      <td>-0.635887</td>\n",
              "      <td>0.832384</td>\n",
              "      <td>1.000000</td>\n",
              "    </tr>\n",
              "  </tbody>\n",
              "</table>\n",
              "</div>"
            ],
            "text/plain": [
              "          Season        HG        AG  ...      AvgH      AvgD      AvgA\n",
              "Season  1.000000 -0.016584  0.009818  ...  0.092258  0.112065  0.002885\n",
              "HG     -0.016584  1.000000 -0.084761  ... -0.275335  0.255213  0.328503\n",
              "AG      0.009818 -0.084761  1.000000  ...  0.327117 -0.115526 -0.277782\n",
              "PH      0.081307 -0.270941  0.326737  ...  0.996008 -0.158595 -0.628253\n",
              "PD      0.025259  0.258165 -0.111295  ... -0.173752  0.985879  0.823955\n",
              "PA     -0.014422  0.317923 -0.270017  ... -0.616128  0.829454  0.993161\n",
              "MaxH    0.079029 -0.268822  0.322485  ...  0.996820 -0.138239 -0.614502\n",
              "MaxD    0.064262  0.253380 -0.111061  ... -0.167547  0.991832  0.830698\n",
              "MaxA   -0.006392  0.319026 -0.263670  ... -0.602837  0.847192  0.994883\n",
              "AvgH    0.092258 -0.275335  0.327117  ...  1.000000 -0.162912 -0.635887\n",
              "AvgD    0.112065  0.255213 -0.115526  ... -0.162912  1.000000  0.832384\n",
              "AvgA    0.002885  0.328503 -0.277782  ... -0.635887  0.832384  1.000000\n",
              "\n",
              "[12 rows x 12 columns]"
            ]
          },
          "metadata": {
            "tags": []
          },
          "execution_count": 8
        }
      ]
    },
    {
      "cell_type": "markdown",
      "metadata": {
        "id": "XWQKzkNOmUec"
      },
      "source": [
        "The heat map of the correlation analysis below was developed for data visualization purposes; lighter colors represent a higher positive correlation between the corresponding variables (e.g. AvgH with PH and other parameters of the host team), while darker colors below zero indicate an inverse correlation, meaning that when the value of one of this variables is high, the value of the other one is low. This can mainly be observed when analysing the relationship between different parameters of the Away team VS the Home team; for example, PA vs PH. "
      ]
    },
    {
      "cell_type": "code",
      "metadata": {
        "colab": {
          "base_uri": "https://localhost:8080/",
          "height": 302
        },
        "id": "o-SIIQeNboRV",
        "outputId": "4d191534-518f-4cda-8979-86c85886ae73"
      },
      "source": [
        "corr = df2.corr()\n",
        "_ = sns.heatmap(corr)    #Correlation heatmap"
      ],
      "execution_count": 9,
      "outputs": [
        {
          "output_type": "display_data",
          "data": {
            "image/png": "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\n",
            "text/plain": [
              "<Figure size 432x288 with 2 Axes>"
            ]
          },
          "metadata": {
            "tags": [],
            "needs_background": "light"
          }
        }
      ]
    },
    {
      "cell_type": "markdown",
      "metadata": {
        "id": "Ci-bZ3UsRdlF"
      },
      "source": [
        "It was determined that it was not necessary to generate any new metrics since the dataset already counts with different variables that contain a wide range of information about the matches (PH, PD, PA, MaxH, MaxD, MaxA, AvgA, AvgD and AvgH). "
      ]
    },
    {
      "cell_type": "markdown",
      "metadata": {
        "id": "jF27ndawSnUR"
      },
      "source": [
        "The required libraries to apply the decision tree and SVC models were then loaded. "
      ]
    },
    {
      "cell_type": "code",
      "metadata": {
        "id": "WghQw_Vx09TX"
      },
      "source": [
        "from sklearn import preprocessing\n",
        "from sklearn.preprocessing import MinMaxScaler\n",
        "from sklearn.preprocessing import StandardScaler\n",
        "from sklearn.model_selection import train_test_split\n",
        "from sklearn.tree import DecisionTreeClassifier # Import Decision Tree Classifier\n",
        "from sklearn import metrics #Import scikit-learn metrics module for accuracy calculation\n",
        "from sklearn.metrics import classification_report, confusion_matrix "
      ],
      "execution_count": 10,
      "outputs": []
    },
    {
      "cell_type": "markdown",
      "metadata": {
        "id": "Ovz0C_UGSt-g"
      },
      "source": [
        "The first step was to set the features of the model and its target column. As mentioned earlier, the feautures include different variables that describe the characteristics of the matches in different ways . The variables of Home Goals (HG) and Away Goals (AG) were not included since this would over feed information to the model and its accuracy would not be real. The data was also split into a training set (80%) and a test set (20%). Afterwards, a standarization process was carried out so that the type of variables were consistent. "
      ]
    },
    {
      "cell_type": "code",
      "metadata": {
        "id": "sMfe1w2m1Nas"
      },
      "source": [
        "X=df2[['PH','PD','PA','MaxH','MaxD', 'MaxA','AvgH','AvgD','AvgA']]  # Features\n",
        "y=df2['Res']  # target\n",
        "\n",
        "# Split dataset into training set and test set\n",
        "X_train, X_test, y_train, y_test = train_test_split(X, y, test_size=0.2) # 80% training and 20% test\n",
        "\n",
        "scaler=MinMaxScaler()\n",
        "X_train = scaler.fit_transform(X_train)\n",
        "X_test = scaler.transform(X_test)"
      ],
      "execution_count": 11,
      "outputs": []
    },
    {
      "cell_type": "markdown",
      "metadata": {
        "id": "Xgvj1qWa2Z48"
      },
      "source": [
        "## Decision Tree "
      ]
    },
    {
      "cell_type": "markdown",
      "metadata": {
        "id": "Ny9rV7HRUMPc"
      },
      "source": [
        "A Decision Tree Classification model was built with the previous split data and its accuracy was measured. "
      ]
    },
    {
      "cell_type": "code",
      "metadata": {
        "id": "iLHvBt-X4ndk"
      },
      "source": [
        "# Create Decision Tree classifer object\n",
        "clf = DecisionTreeClassifier(max_depth=3) #this parameter was set=3 in order to avoid overfitting\n",
        "# Train Decision Tree Classifer\n",
        "clf = clf.fit(X_train,y_train)\n",
        "#Predict the response for test dataset\n",
        "y_pred = clf.predict(X_test)"
      ],
      "execution_count": 12,
      "outputs": []
    },
    {
      "cell_type": "markdown",
      "metadata": {
        "id": "2_BqcrM2UcE0"
      },
      "source": [
        "The accuracy of the model was found out be 0.48. "
      ]
    },
    {
      "cell_type": "code",
      "metadata": {
        "colab": {
          "base_uri": "https://localhost:8080/"
        },
        "id": "ssfo7Aus9obJ",
        "outputId": "2b363144-eb81-4d59-c587-7f00203113ab"
      },
      "source": [
        "# Model Accuracy, how often is the classifier correct?\n",
        "print(\"Accuracy:\", metrics.accuracy_score(y_test, y_pred))"
      ],
      "execution_count": 13,
      "outputs": [
        {
          "output_type": "stream",
          "text": [
            "Accuracy: 0.49870801033591733\n"
          ],
          "name": "stdout"
        }
      ]
    },
    {
      "cell_type": "markdown",
      "metadata": {
        "id": "Z_X_UEDcVCkd"
      },
      "source": [
        "A confusion matrix  and a classification report were then obtain to better understand the accuracy of the model. The matrix was also plotted for data visualization purposes. "
      ]
    },
    {
      "cell_type": "code",
      "metadata": {
        "colab": {
          "base_uri": "https://localhost:8080/"
        },
        "id": "sDZxfWEHbOuw",
        "outputId": "5245cb74-7d02-478a-830e-7ba559e86c44"
      },
      "source": [
        "print(confusion_matrix(y_test, y_pred))\n",
        "print('\\n')\n",
        "print(classification_report(y_test, y_pred))"
      ],
      "execution_count": 14,
      "outputs": [
        {
          "output_type": "stream",
          "text": [
            "[[ 78   1  46]\n",
            " [ 58   3  40]\n",
            " [ 43   6 112]]\n",
            "\n",
            "\n",
            "              precision    recall  f1-score   support\n",
            "\n",
            "           A       0.44      0.62      0.51       125\n",
            "           D       0.30      0.03      0.05       101\n",
            "           H       0.57      0.70      0.62       161\n",
            "\n",
            "    accuracy                           0.50       387\n",
            "   macro avg       0.43      0.45      0.40       387\n",
            "weighted avg       0.45      0.50      0.44       387\n",
            "\n"
          ],
          "name": "stdout"
        }
      ]
    },
    {
      "cell_type": "code",
      "metadata": {
        "id": "rFpyTZgvEvCK"
      },
      "source": [
        "from sklearn.metrics import plot_confusion_matrix"
      ],
      "execution_count": 15,
      "outputs": []
    },
    {
      "cell_type": "code",
      "metadata": {
        "id": "uT1l79fRjsWM"
      },
      "source": [
        "! pip install -q scikit-plot"
      ],
      "execution_count": 16,
      "outputs": []
    },
    {
      "cell_type": "code",
      "metadata": {
        "colab": {
          "base_uri": "https://localhost:8080/",
          "height": 483
        },
        "id": "7ZdLVgMAkuTD",
        "outputId": "866bf1ae-3408-4354-c676-08d25b316865"
      },
      "source": [
        "import scikitplot as skplt\n",
        "\n",
        "skplt.metrics.plot_confusion_matrix(\n",
        "    y_test, \n",
        "    y_pred,\n",
        "    figsize=(8,8))"
      ],
      "execution_count": 17,
      "outputs": [
        {
          "output_type": "execute_result",
          "data": {
            "text/plain": [
              "<matplotlib.axes._subplots.AxesSubplot at 0x7f2457004d30>"
            ]
          },
          "metadata": {
            "tags": []
          },
          "execution_count": 17
        },
        {
          "output_type": "display_data",
          "data": {
            "image/png": "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\n",
            "text/plain": [
              "<Figure size 576x576 with 2 Axes>"
            ]
          },
          "metadata": {
            "tags": [],
            "needs_background": "light"
          }
        }
      ]
    },
    {
      "cell_type": "code",
      "metadata": {
        "colab": {
          "base_uri": "https://localhost:8080/",
          "height": 487
        },
        "id": "PvVSUJiblGTJ",
        "outputId": "1853438c-b741-4645-9ab7-06b3fa81efca"
      },
      "source": [
        "import scikitplot as skplt\n",
        "\n",
        "skplt.metrics.plot_confusion_matrix(\n",
        "    y_test, \n",
        "    y_pred,\n",
        "    normalize=True,\n",
        "    figsize=(8,8))"
      ],
      "execution_count": 18,
      "outputs": [
        {
          "output_type": "execute_result",
          "data": {
            "text/plain": [
              "<matplotlib.axes._subplots.AxesSubplot at 0x7f24566ca940>"
            ]
          },
          "metadata": {
            "tags": []
          },
          "execution_count": 18
        },
        {
          "output_type": "display_data",
          "data": {
            "image/png": "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\n",
            "text/plain": [
              "<Figure size 576x576 with 2 Axes>"
            ]
          },
          "metadata": {
            "tags": [],
            "needs_background": "light"
          }
        }
      ]
    },
    {
      "cell_type": "markdown",
      "metadata": {
        "id": "CNwc7Y_XYWd0"
      },
      "source": [
        "A confusion matrix allows us to better understand the accuracy of the model's performance by showing us more clearly how many of the predicions of each label were correct. The rows of the confusion matrices above represent the actual correct results (A, D and H) of the test dataset, while the columns represent the predictions made by the model. For example, in the matrix without normalization, we can observe that the model predicted 48 \"A\" that were correct, 32 that were actually \"D\" and 26 that in reality corresponded to \"H\". The normalized confusion matrix shows us the same results, but it also takes into account class imbalances. We can also observe that these values correspond to those shown in the calssification report (recall column). In general, we can conclude that the model was efficient to correctly predict \"H\" true results (72%), followed by \"A\" true results (41%); however, it did not generate many accurate \"D\" predictions, only (17%). "
      ]
    },
    {
      "cell_type": "markdown",
      "metadata": {
        "id": "HTDdLT9T2eKY"
      },
      "source": [
        "## SVC"
      ]
    },
    {
      "cell_type": "markdown",
      "metadata": {
        "id": "SgbKkqCqwiGe"
      },
      "source": [
        "A Support Vector Machines model was also employed."
      ]
    },
    {
      "cell_type": "code",
      "metadata": {
        "id": "nzSOreiYKLRF"
      },
      "source": [
        "from sklearn.svm import SVC"
      ],
      "execution_count": 19,
      "outputs": []
    },
    {
      "cell_type": "markdown",
      "metadata": {
        "id": "PpB-WitTwtF-"
      },
      "source": [
        "The required library was loaded, the model was run and its accuracy was calculated, resulting in 0.51. "
      ]
    },
    {
      "cell_type": "code",
      "metadata": {
        "colab": {
          "base_uri": "https://localhost:8080/"
        },
        "id": "hC_WImZWKMgM",
        "outputId": "6a197779-6162-4654-d2c7-465e282cb8b1"
      },
      "source": [
        "model = SVC(kernel='linear') #different types of kernel were tested, however the default 'rbf' consistently yielded the highes accuracy.\n",
        "model.fit(X_train, y_train)\n",
        "predictions = model.predict(X_test)\n",
        "print(\"Accuracy:\", metrics.accuracy_score(y_test, predictions))"
      ],
      "execution_count": 20,
      "outputs": [
        {
          "output_type": "stream",
          "text": [
            "Accuracy: 0.5038759689922481\n"
          ],
          "name": "stdout"
        }
      ]
    },
    {
      "cell_type": "markdown",
      "metadata": {
        "id": "dK5N79xWxHlj"
      },
      "source": [
        "The confusion matrix and classification report were also obtained. "
      ]
    },
    {
      "cell_type": "code",
      "metadata": {
        "colab": {
          "base_uri": "https://localhost:8080/"
        },
        "id": "s5kMRvjic_cT",
        "outputId": "db416053-001a-4424-d552-cb40d09e11eb"
      },
      "source": [
        "print(confusion_matrix(y_test, predictions))\n",
        "print('\\n')\n",
        "print(classification_report(y_test, predictions))"
      ],
      "execution_count": 21,
      "outputs": [
        {
          "output_type": "stream",
          "text": [
            "[[ 51   0  74]\n",
            " [ 19   0  82]\n",
            " [ 17   0 144]]\n",
            "\n",
            "\n",
            "              precision    recall  f1-score   support\n",
            "\n",
            "           A       0.59      0.41      0.48       125\n",
            "           D       0.00      0.00      0.00       101\n",
            "           H       0.48      0.89      0.62       161\n",
            "\n",
            "    accuracy                           0.50       387\n",
            "   macro avg       0.36      0.43      0.37       387\n",
            "weighted avg       0.39      0.50      0.42       387\n",
            "\n"
          ],
        },
    },
    {
      "cell_type": "markdown",
      "metadata": {
        "id": "ZVkxrn_ixbHU"
      },
      "source": [
        "The confusion matrix was also plotted for data visualization purposes. "
      ]
    },
    {
      "cell_type": "code",
      "metadata": {
        "colab": {
          "base_uri": "https://localhost:8080/",
          "height": 489
        },
        "id": "Zw4DY_b5xaOl",
        "outputId": "5cd7b622-e30b-43d3-ace2-b6e9af74fe5f"
      },
      "source": [
        "skplt.metrics.plot_confusion_matrix(\n",
        "    y_test, \n",
        "    predictions,\n",
        "    figsize=(8,8))"
      ],
      "execution_count": 22,
      "outputs": [
        {
          "output_type": "execute_result",
          "data": {
            "text/plain": [
              "<matplotlib.axes._subplots.AxesSubplot at 0x7f24565700f0>"
            ]
          },
          "metadata": {
            "tags": []
          },
          "execution_count": 22
        },
        {
          "output_type": "display_data",
          "data": {
            "image/png": "iVBORw0KGgoAAAANSUhEUgAAAd0AAAHHCAYAAAD6cIKTAAAABHNCSVQICAgIfAhkiAAAAAlwSFlzAAALEgAACxIB0t1+/AAAADh0RVh0U29mdHdhcmUAbWF0cGxvdGxpYiB2ZXJzaW9uMy4yLjIsIGh0dHA6Ly9tYXRwbG90bGliLm9yZy+WH4yJAAAgAElEQVR4nO3deZxcZZX4/091QiCyh02SsIQlR4IRfkBGUEDEhUUQFNGgbDragjjAT3GbQVFGHVwioqCQYUaRINGMCkbZZBwF3MAFFYFDkARIogIJQSBs6fT3j7oNTZt0erlVt9L1eed1X911b9VzTwfN6fPcZ6l1d3cjSZIar6PqACRJahcmXUmSmsSkK0lSk5h0JUlqEpOuJElNMrrqACRJbW8csFED2v07sLQB7Q6ZSVeSVKVxSx95fMm4jddvRNsPAzvRQonXpCtJqtJG4zZen1e9/Qss/Nuy0hqduNUm/O/X3rcp9QrapCtJUo+FD/yd+/5aXtKl1ppDllozKkmSRiArXUlS9Wq1+lFmey3ISleSpCax0pUkVa9WK/c5bItWuiZdSVL12qR72aQrSWprEfF54Chge2BqZt7W5/pZwMd7X4uIvYGLgLHAAuDYzHxgTffyma4kqXq1jvKPgbsC2B+4t++FiNgD2Lv3tYjoAGYBp2TmZOAG4JyB3MikK0lqa5l5U2be3/d8RKwLXACc3OfSnsCTmXlT8fpC4M0DuZdJV5JUvZ5numUewMyZMydGxPZ9jk0GGNXZwKzMXNDn/Lb0qnwz8yGgIyLGralBn+lKkqo3+C7hNbcHzJ49+8ZVXP0E9We0qxUR+wB7AR8uLygrXUnSCDZ9+vT9gEl9ji8O4KOvAHYB5kfEAmAicG1EvBa4D9iu540RsTmwMjPXuMazla4kqQWUPGWIeludnZ0LOzs7Fwz205l5Dr0GRxWJ97DMvK0YSDU2IvYtnuueBMwZSLtWupKkthYRX4qIhdSr2esj4k/9vT8zVwLHAV+NiHnUq+IBdUNb6UqSqlfhilSZeSpw6hres32f1z8Hpg42LJOuJKl6bbIild3LkiQ1iZWuJKl6DZoy1GpaMypJkkYgK11JUvV8pitJkspk0lVbioixETE3Ih6JiAFNal9NO2+LiOvKjK0KEXF1RJxQdRxqY9XuMtQ0di+rpUXEW4H3AS8CHgVuBT7Va3ePoXoTsBWwWWauGGojmXkZcNkwY/kHEXEA8H/AFZn5hl7nd6P+d/DTzDxgAO18HNgpM4/t732Zechw4pWGrcJ5us3Umr8KSEBEvI/6Gqmfpp4gtwW+AhxRQvPbAXcNJ+E2wYPAPhGxWa9zJwB3lXWDiKgVS9pJagIrXbWkiNiY+rZab8/M7/a6NLc4eva6/AzP7WP5beBDmflUUSnOAs4FPgR0Af+amV+LiE8AHwFqEXEkcBqwDb0qwojYHpgPrJOZKyLiROBjwBbAQ8CZmXlZcf6dmblv8bmXAecBk6knx9OKlWuIiJ8ANwIHAi8BfgG8tdgWbFWeBn4ATAcuiIhRwFuAi4o2ev6uzgPeCGwMzANOz8wbI+Jg4F97/Zx/zszdijh+BhwA7AFMjYiLqW9hdnFEfBXYMjOPKtr/DPXdVl6dmd2riVUanloNOhxIJVVlH2A94Hv9vOffgL2B3YHdgH8Czux1/YXUE9EE4J+pJ65NM/Ms6tXztzJzg8z8r/4CiYj1gS8Bh2TmhsDLqHfx9n3fOOCHxXs3A74A/LBPpfpW4O3AlsAY4Iz+7g18Azi++P4g4DZgcZ/33EL972Ac8E1gTkSsl5nX9Pk5d+v1meOATmBDeu0LWng/9UR8YkTsR/3v7gQTrjR8VrpqVZsBD62h+/dtwL9k5gMARQV7EfDR4vozwNlFG1dFxGNAAL8cQjwrgRdHxH2Z+RfgL6t4z+uAeZl5afH68og4FTgc+Hpx7muZeVcR77eB1/d308z8eUSMi4ignny/AYzt855ZvV7OiIgzqf+cv++n6a9n5rOLutebf7a95RFxHHA19efo/5KZC/uLUxo2F8eQKrUE2Dwi+vvFcDzPr9LuLc4920afpL0c2GCwgWTm49S7dU8C/hIRP4yIFw0gnp6YJvR6/dchxHMp8F7glayi8o+IMyLijmIk9jLq1f3ma2jz/v4uZuavgHuo74/27QHEKA1PzzzdMo8WZNJVq/oF8BRwZD/vWUyvjaSpD7Tq2/U6UI8DL+j1+oW9L2bmtZn5GmBr4E7gPwcQT09Mi4YYU49LgfcAV2Xm8t4Xiu7fD1J/rr1pZm4CPELPZqKwui7hfruKI+IUYF3qP9MHhx66pN7sXlZLysxHIuJj1J/DrgCuo95d/GrglZn5QeBy4MyIuIV6EvkY9cFTQ3Er8KGI2JZ60vpIz4WI2Ir6s+PrgSeAx6h3N/d1FfDlYprTt4GjgCnUB0MNWWbOj4hXUK88+9oQWEF9pPPoiPgwsFGv638DXhMRHcUeoGsUEZOBT1IfaLUcuDkirs7Mf3iOLZXG7mWpWpk5g/oc3TOpJ5X7qXezXlG85ZPAr4E/AH8EflucG8q9fgR8q2jrNzw/UXYUcSwGllLfsPrkVbSxBDiM+kCkJdQrxMP6GZ08mPhuysxVVfHXAtdQHyl9L/Akz+867ln4Y0lE/HZN9ym682cBn8nM32fmPOojoC8tRotLGoZad7cDEiVJldkemB/HfpX7/vb30hrddquNyFknA0wCFpTW8DDZvSxJqp7dy5IkqUxWupKk6rm1nyRJKlOrVrrrAtOor/rTVXEskiQYRX2e+i3U59CXq02e6bZq0p1GfWF4SVJr2Q8Y7taaq1D2KlKt2b3cqkn3LwDX5QM88YyF7khz8Iu2rjoENdAnri1t50G1kE3GjuaDB+4Aq153XAPUqkm3C+CJZ7p4/GmT7kjjzPCRbcnyZ6oOQY3VmH+U3cRekiSVqVUrXUlSO3HKkCRJKpOVriSpek4ZkiSpSdok6bZmVJIkjUBWupKk6jmQSpIklclKV5JUvTZZHMOkK0mqnt3LkiSpTFa6kqQWUPKUoRatKVszKkmSRiArXUlS9drkma5JV5JUuVqtRq3ERFlmW2Wye1mSpCax0pUkVc5KV5IklcpKV5JUvVpxlNleC7LSlSSpSax0JUmVa5dnuiZdSVLl6tN0y0y6pTVVKruXJUlqEitdSVLl2qV72UpXkqQmsdKVJFWuRsmVbovOGTLpSpKq1ybzdE26kqS2FhGfB44CtgemZuZtEbEZcCmwI/A0MA94d2Y+WHxmb+AiYCywADg2Mx9Y0718pitJqlzPQKoyj0G4AtgfuLfXuW7gs5kZmTkV+DNwDkBEdACzgFMyczJwQ8+1NbHSlSSNWDNnzpw4Y8aMvqeXZeaynheZeRNARNDr3FLgJ70+80vg5OL7PYEnez4HXEi92n3HmuKx0pUkVa/sKreodGfPnn0jML/PcfpgQisq25OB7xentqVXVZyZDwEdETFuTW2ZdCVJlWtU9/L06dP3Ayb1Ob44yPC+DDwGnD/cn9PuZUnSiNXZ2bmws7NzwVA/Xwyy2hk4PDNXFqfvA7br9Z7NgZVFl3S/rHQlSZWreCDVKkXEp6k/vz0yM5/qdek3wNiI2Ld4fRIwZyBtWulKktpaRHwJeCPwQuD6iFgCvBn4CHAX8PNikNX8zHxDZq6MiOOAiyJiPYopQwO5l0lXklS9ChfHyMxTgVMH00pm/hyYOtiw7F6WJKlJrHQlSZVrl12GTLqSpMrVKHkT+9JaKpfdy5IkNYmVriSpcu3SvWylK0lSk1jpSpKq5366kiQ1h93LkiSpVFa6kqTKWelKkqRSWelKkqpXcqVLi1a6Jl1JUuXsXpYkSaWy0pUkVa9N5ula6UqS1CRWuhU47bB9WO8F69MxahSjRo3ik7Ou4lc/+gHfmXkui+fP4+xvzGWHKbtVHaZKcN2113DG+06jq6uLE9/xTj7wwQ9XHZKGaKsNxvCufSY++3rz9ccw908P8L/zlgLw6smbcfRuL+R9V97J4093VRXmWqtGyc90W7TUbXjSjYgjge8Bu2TmnY2+39rizIu+zYabjnv29cSdgtM/N5P//rT/KI8UXV1dnH7qKfzw6h8xYeJE9t17Gocd9np2mTKl6tA0BH977Gk++aN7gHrP5WcOn8zvFj0KwKZjRzNlqw1Y8vjTFUaotUEzupePAW4qvmo1JkzamfHb71h1GCrRLTffzI477sSkHXZgzJgxHP2W6fxg7pVVh6USvGir9XnwsWdYuvwZAI7e/YV89w9/pbviuNZmPaOXyzxaUUOTbkRsAOwL/DMwvZH3WpvUajXOOeVt/NvbDuXH372s6nDUIIsXL2LixG2efT1hwkQWLVpUYUQqy7RtNuaW+x4BYLfxG7LsiRUsfOSpiqNau9VqZSfeqn+iVWt0pXsEcE1m3gUsiYg9G3y/tcLH/us7fOqbV/PBL3+DH337Eu747S+rDknSAI2q1dht/Ib8ZuEjrDOqxiEv2pzv3/ZA1WFpLdHopHsMMLv4fjZ2MQMwbsutAdh43Obs9cqDuee2WyuOSI0wfvwEFi68/9nXixYtZMKECRVGpDK8eOsNuO/hJ3n0qS62WH8Mm60/ho++dkc+dejObDp2Hc58zQ5stK5jVAet1oCjBTXsfxkRMQ44EJgaEd3AKKA7Ij6QmW376OPJJ5bTvXIlY9ffgCefWM4ff3kDb3jXaVWHpQbYa9o07r57Hgvmz2f8hAnM+dZsvn7pN6sOS8M0bZuNueX+etfy4r8/xQfm5rPXPnXoznz6+nscvazVauSvY28CLs3Md/eciIifAvsBNzTwvi3t70se5Nwz3gXUR7e+7OAj2O1lr+SWH1/NJZ/7GI8+vJTPnXYi202ewocv8Hnv2mz06NGce975HP66g+jq6uKEE9/BlF13rTosDcOYUTV22Wp9Zv1mcdWhjDjtsgxkI5PuMcBn+pz7TnG+bZPulhO34z9mX/cP56cdeAjTDjykgojUSAcfcigHH3Jo1WGoJE93dfP+7+dqr//bVfOaGM3IYtIdpsx85SrOfalR95MkqdX5tF+SVLl2qXRde1mSpCax0pUkVc9N7CVJaqLWzJOlsntZkqQmsdKVJFXOgVSSJKlUVrqSpMpZ6UqSpFJZ6UqSKlffT7fc9lqRSVeSVDm7lyVJUqmsdCVJlWuX7mUrXUmSmsRKV5JUuXqlW+Yz3dKaKpVJV5JUObuXJUlSqax0JUmVq9VqdHQ4ZUiSJJXESleSVLl2eaZr0pUkVc4VqSRJUqmsdCVJlWuX7mUrXUmSmsRKV5JUuXZ5pmvSlSS1tYj4PHAUsD0wNTNvK85PBi4BNgOWAMdn5rw1XeuP3cuSpMr1VLplHoNwBbA/cG+f8xcCF2TmZOAC4KIBXlstk64kqXI9A6nKPAYqM2/KzPt7n4uILYE9gMuLU5cDe0TEFv1dW9O97F6WJI1YM2fOnDhjxoy+p5dl5rI1fHQbYFFmdgFkZldELC7O1/q59mB/jZp0JUktoNyBVPW8CLNnz75xFRc/AXy8xJsNmN3LkqQRa/r06fsBk/ocXxzAR+8HJkTEKIDi6/jifH/X+mWlK0mqXKMWx+js7FzY2dm5YLCfz8wHIuJW4BhgVvH1d5n5IEB/1/pj0pUkVa7KeboR8SXgjcALgesjYklm7gqcBFwSER8DHgaO7/Wx/q6tlklXktTWMvNU4NRVnL8TeOlqPrPaa/0x6UqSKufay5IkqVRWupKkyrn2siRJTWL3siRJKpWVriSpcvVKt8zu5dKaKpWVriRJTWKlK0mqnM90JUlSqax0JUktoDG7DLUak64kqXJ2L0uSpFJZ6UqSKtcuK1JZ6UqS1CRWupKkyrXLM12TriSpcnYvS5KkUlnpSpIqZ6UrSZJK1dKV7v+39aasWNlddRiSBmHpY09VHYIaYBSN/bfYgVSSJDWJ3cuSJKlUVrqSpJbQosVpqax0JUlqEitdSVLl2uWZrklXklS5dhm9bPeyJElNYqUrSapcR61GR4nlaZltlclKV5KkJrHSlSRVzme6kiSpVFa6kqTK1SvdMqcMldZUqUy6kqTK1WrQYfeyJEkqi5WuJKly7bIilZWuJElNYqUrSapcjZKnDJXXVKlMupKkytWKP2W214rsXpYkqUmsdCVJlesoecpQmW2VyUpXkqQmsdKVJFWuXaYMmXQlSZVzwwNJklQqK11JUuVqJW9i36rdy1a6kiQ1iZWuJKlyPtOVJEmlstKVJFXOKUOSJDWJ3cuSJKlUVrqSpMp1UO6UoY5B7jIUEYcB/06xyyDwicz8bkRMBi4BNgOWAMdn5ryhxyVJUhuLiBpwKXBcZu4OHAdcEhEdwIXABZk5GbgAuGg49zLpSpIqV2vAMUgrgY2L7zcB/gJsDuwBXF6cvxzYIyK2GHzzdXYvS5KqV/Lo5Z6RVDNnzpw4Y8aMvleXZeaynheZ2R0RbwaujIjHgQ2BQ4FtgEWZ2VW8rysiFhfnHxxKWFa6kqQRa/bs2TcC8/scp/d+T0SMBj4CHJGZ2wGHA98GNig7HpOuJKlyPZvYl3kATJ8+fT9gUp/ji31uvzswPjN/BlB8fRx4EpgQEaMAiq/jgfuH+nOutns5Ir4MdK/uemaeOtSbSpLUDJ2dnQs7OzsXrOFtC4GJERGZmRGxC7AVMA+4FTgGmFV8/V1mDqlrGfp/pvvroTYqSdJg1BfHKHNFqoG/NzP/GhEnA/8TESuL0+/IzKURcRL1kcwfAx4Gjh9OXKtNupl5Se/XEfGCzFw+nJtJkrQqVa9IlZmXAZet4vydwEvLiWoAz3QjYp+IuB24s3i9W0R8pawAJElqFwMZSPVF4CDqK3GQmb8H9m9kUJKk9tKz4UGZRysa0OjlzOw7UqurAbFIkjSiDWRxjPsj4mVAd0SsA5wG3NHYsCRJ7aT3NJ+y2mtFA6l0TwJOASYAi6nPZzqlkUFJkjQSrbHSzcyHgLc1IRZJUrtq0DKQrWaNSTcidgDOA/amvljGL4D/PzPvaXBskqQ2McRNCvptrxUNpHv5m9TXoNya+vJXc3huxwVJkjRAAxlI9YLMvLTX61kR8YFGBSRJaj9Vb2LfLP2tvTyu+PbqiPgwMJt69/JbgKuaEJskSSNKf5Xub6gn2Z5fF97d61o39W2QJEkatqqXgWyW/tZentTMQCRJ7avsVaRadUWqgTzTJSJeDEwB1us5l5nfaFRQkiSNRAOZMnQWcAD1pHsVcAhwE2DSlSSVol26lwcyZehNwKuAv2bm24HdgI0bGpUkSSPQQJLuE5m5ElgRERsBDwDbNDaske1Dp72baVO24+D993r23B23/YE3HXIAh7xiGu869igeffTvFUaoslx37TW8ZNdg1xftxOc+e07V4WgYXjdlS75w5C7MOHIXTnvF9qwzqsap+2/PeW+cwowjd+Hkl2/LqBatrtYGtVp9ylBZR6s+0x1I0v11RGwC/Cf1Ec2/pb4qVb8ioisibo2IP0XE7yPi/RExoF2NRrqjph/H12Zf8bxzH3nfe/jAR/+dq396C6899PX85wXnVhSdytLV1cXpp57ClXOv5nd/uJ05sy/njttvrzosDcG4F6zDoVO24MNz7+T9V9xBR63Gyydtyo33LOW0797O+6+4gzGjO3jV5M2rDnWt1dO9XObRitaYBDPzPZm5LDMvBF4DnFB0M6/JE5m5e2buWnzuEOCs4YU7MvzTPvuyySbjnndu/p/v5p/22ReAl7/iVVz7gyurCE0luuXmm9lxx52YtMMOjBkzhqPfMp0fzPW/69qqo6PGmFEddNRg3dEdLF3+DL9b+FyP1N0PLmez9cdUGKHWBv0tjrFHf9cy87cDvUlmPhARncAtEfHxzOweZJwj3s6xCz+6ei6vPfT1XP397/KXRQurDknDtHjxIiZOfO5JzIQJE7n55l9VGJGGaunyZ5h729/46ptfzNNdK/n9okf5w+JHn70+qgb77zSOr/2q79bjGiinDMGMfq51AwcO5kaZeU9EjAK2BP42mM+2g8+cdyFn/+sZnP+Fc3j1Qa9jnTH+xiy1ivXHjGLatptwypw/8fjTK3jfK3dgvx3GceM9SwF45z7bcsdfH+POvz1ecaRqdf0tjvHKZgbS7nbcObhkzlwA5v95Hv93/TUVR6ThGj9+AgsXPlf5LFq0kAkTJlQYkYZq6vgNeeDRp/j7UysA+NW9y4gt1+fGe5bypt1fyEbrjebzP3bjteHoYGCDjAbTXitqWlzFFoFd1Ec/q4+HHqz/taxcuZLzv/AZ3nrCOyuOSMO117Rp3H33PBbMn8/TTz/NnG/N5nWHvb7qsDQEDz32NDtvsT5jiuHJU8dvyMJHnuTAnTdj9wkbcd5P5+MzMw3EgFakGq6I2AK4EDjf57lw2rtP4Fc/u4GHly7h5bvtxGkfPJPHH3+cWf99EQAHve4I3nTM8RVHqeEaPXo05553Poe/7iC6uro44cR3MGXXXasOS0Nw90PL+eWCZXz29bvQ1d3NgiXLuT4fYtZxu/PgY0/zqdcFUK+A/+f3f6042rVTuzzTrXV3NyYHRkQX8EdgHWAFcCnwhWLO75psD8y/b8mTrFjZ9jl6xBm/6diqQ1ADHXfpgMdYai2yxQZj+MrRLwaYBCwosentgflnX/dnlj7xTGmNjhu7Dh977Y5QfrzDMpBlIGvA24AdMvPsiNgWeGFm3tzf5zJzVEkxSpI0Igzkme5XgH2AY4rXjwIXNCwiSVLbqdWgo8SjRXuXB5R0X5qZpwBPAmTmw4DzWSRJGqSBDKR6pphf2w3PDooayHNZSZIGpL50Y5kDqUprqlQDSbpfAr4HbBkRn6K+69CZDY1KktRWerqFy2yvFa0x6WbmZRHxG+rb+9WAIzPzjoZHJknSCLPGZ7rFaOXlwFzg+8DjxTlJkkrRLrsMDaR7+YfUn+fWgPWoz3lKwFn+kiQNwkC6l6f2fl3sPvSehkUkSWo7PZvPl9leKxr02svFln4vbUAskqQ2VeO5TQ/KOFoz5Q5sRar39XrZAewBLG5YRJIkjVADeaa7Ya/vV1B/xvudxoQjSWpHZQ9+atHe5f6TbrEoxoaZeUaT4pEkacRa7TPdiBidmV3Ay5sYjySpDfUMpCrzaEX9Vbo3U39+e2tEfB+YAzzeczEzv9vg2CRJGlEG8kx3PWAJcCDPzdftBky6kqRS1Cj5mW55TZWqv6S7ZTFy+TaeS7Y93FleklQa116GUcAGrPoXBpOuJEmD1F/S/Utmnt20SCRJbatW8uCnMrcJLFN/K1K1ZsSSJK2l+qt0X9W0KCRJba3tF8fIzKXNDESS1L7aZSDVoDc8kCRJQzOQebqSJDVUrfhTZnutyEpXkqQmsdKVJFWuXZ7pmnQlSZWrlZx0W3X0st3LkiQ1iZWuJKlytVqt1FWkBttWRKwHnAu8GngS+EVmdkbEZOASYDPqm/8cn5nzhhqXla4kSfBZ6sl2cmZOBT5anL8QuCAzJwMXABcN5yYmXUlS5Tp4bjBVKccg7h0RGwDHAx/NzG6AzPxbRGxJfV/5y4u3Xg7sERFbDPXntHtZkjRizZw5c+KMGTP6nl6Wmct6vd6RetfxWRHxSuAx4EzgCWBRZnYBZGZXRCwGtgEeHEo8VrqSpMr1rL1c5gEwe/bsG4H5fY7T+9x+FLAD8LvM3Av4EPBd6tvblsqkK0mqXEextV+ZB8D06dP3Ayb1Ob7Y5/b3ASsoupEz81fAQ9Qr3QkRMQqg+DoeuH+oP6fdy5KkEauzs3NhZ2fngv7ek5kPRcT/Aa8BritGLG8J3AXcChwDzCq+/i4zh9S1DCZdSVILaIHFMU4C/jsiZgDPAMdl5rKIOAm4JCI+BjxMfcDVkJl0JUltLzPvAQ5Yxfk7gZeWdR+TriSpcm2/ib0kSc3SQY2OErfjK7OtMjl6WZKkJrHSlSRVrl26l610JUlqEitdSVLl3MRekqQmqc/TLXNrv9KaKpXdy5IkNYmVriSpcjVKHkhVXlOlstKVJKlJrHQlSZXrvTNQWe21IitdSZKaxEpXklS5dlkcw6QrSapcB+V2vbZqN26rxiVJ0ohjpStJql6tRq0N+petdCVJapKWrnTrQ8irjkLSYPzgS/9ddQhqgG23HgdHv7hh7dcod0GLVk0dLZ10JUntwXm6kiSpVFa6kqTKtUv3spWuJElNYqUrSaqcK1JJktQktZLn6ZY657dEdi9LktQkVrqSpMrVKLcKbM0610pXkqSmsdKVJFXOZ7qSJKlUVrqSpMq1y+IYJl1JUuVqlNy93KJp1+5lSZKaxEpXklS5DsqtAlu1omzVuCRJGnGsdCVJlWuXKUMmXUlS5dpl9LLdy5IkNYmVriSpeiVv7deqpa6VriRJTWKlK0mqXH3KUHnlaatWlCZdSVLlaiV3L7fo4OWW/WVAkqQRx0pXklS5WvGnzPZakZWuJElNYqUrSapcuzzTNelKkirXQa3k0cutmXXtXpYkqUmsdCVJ1XNFKkmSVCYrXUlS5dplIJWVriRJTWKlK0mqXKssjhERZwEfB6Zm5m0RsTdwETAWWAAcm5kPDDUuK11JUuU6auUfgxURewB7A/cWrzuAWcApmTkZuAE4Z1g/53A+LEnSSBAR6wIXACf3Or0n8GRm3lS8vhB483DuY9KVJFWu1oA/ADNnzpwYEdv3OTZZRQhnA7Myc0Gvc9tSVL0AmfkQ0BER44b6c5p0JUkj1uzZs28E5vc5Tu/9nojYB9gL+Eqj4zHpSpIqV+O5aUOlHEW706dP3w+Y1Of4Yp/bvwLYBZgfEQuAicC1wE7Adj1viojNgZWZuXSoP6ejlyVJlWvU6OXOzs6FnZ2dC/p7b2aeQ68BUkXiPQy4HeiMiH2L57onAXOGE5eVriRJq5CZK4HjgK9GxDzqFfGHh9Omla4kqXK1IU7z6a+9ocrM7Xt9/3Ng6vAjqrPSlSSpSax0JUmVa5UVqRrNpCtJqpwbHkiSpFJZ6UqSKlej3H3nW7TQtdKVJKlZrHQlSZXrqNXoKPFBbJltlclKV5KkJrHSlSRVrl2e6Zp0JUnVa5Osa/eyJElNYqUrSWoJrbqKVJmsdCVJahKTbgU+eL2dr+kAAAx9SURBVOq72WuXbTlovz2fPffedx7LoQe8lEMPeCn77hEcesBLK4xQZbnu2mt4ya7Bri/aic999pw1f0At5cKz3sa9//sf/HrOv/7DtdOOO5Anfnc+m22y/vPO7zllWx695Tze8OrdmxXmiFDqBvYlLylZpoYl3Yh4rM/rEyPi/Ebdb21y1PTj+PrsK5937vyLZ3HVT37FVT/5FQcfdiQHH3ZERdGpLF1dXZx+6ilcOfdqfveH25kz+3LuuP32qsPSIFw695ccccoF/3B+4lab8Kq9d+G+vyx93vmOjhqfPO0Irv/lnc0KccSoNeBoRVa6FXjpy/Zlk03HrfJad3c3V135HQ5/w5ubHJXKdsvNN7PjjjsxaYcdGDNmDEe/ZTo/mHvlmj+olvGz3/6ZpY8s/4fznz3jKP7tvCvo7u5+3vn3TH8FV/zv73lw6aPNClFrGZNui7n5Fz9j8y22YtKOO1UdioZp8eJFTJy4zbOvJ0yYyKJFiyqMSGU47ICpLH5gGX+86/n/LcdvsTGvP3A3Zs65saLI1nJtUuo2cvTy2Ii4tdfrccD3G3i/EWHu977N4W88uuowJK3C2PXW4YPvOIjD3vOPT8o+94GjOPO8K/+h+pV6a2TSfSIznx1JEBEnAns18H5rvRUrVnDND69k7vU/qzoUlWD8+AksXHj/s68XLVrIhAkTKoxIw7XDxC3YbsJm3PytjwAwYctN+MU3P8R+x32OPaZsyzfOeTsAm22yAQftuysrVqxk7k/+UGXIa41yt7Bv3elHztNtIT/76Y/ZcafJbD1+YtWhqAR7TZvG3XfPY8H8+YyfMIE535rN1y/9ZtVhaRj+dPditnvVR559fecPP8HL3/ZZlix7nF0O+/iz52d+4liuvvE2E+4guIm9GubUzuN54yEHcM/dd7HPS3bkW7O+DsDc783h9W90ANVIMXr0aM4973wOf91B7D51F446+s1M2XXXqsPSIFzyHyfyk0vez+TttuLua/6dE47cp+qQtJarNer5Q0Q8lpkb9Hp9IrBXZr53AB/fHpi/cOlTrFjp85GR5oWbrFd1CGqgTacN5P/iWttsu/U48qqzASYBC0psentg/m0LH+XpFeX9ez9mdI0XT9wQyo93WBrWvdw74Ravvw58vVH3kySp1flMV5LUGlr0OWyZfKYrSVKTWOlKkirnlCFJkprEKUOSJKlUVrqSpJbQosVpqax0JUlqEitdSVL1yt4ZqEXLZpOuJKly7TJ62e5lSZKaxEpXklQ5pwxJkqRSWelKkirXJuOoTLqSpBbQJlnX7mVJkprESleSVDmnDEmSpFJZ6UqSKueUIUmSVCorXUlS5dpk8LJJV5LUAtok69q9LElSk1jpSpIq55QhSZJUKitdSVL1Sp4y1KKFrklXklS9NhlHZfeyJEnNYqUrSWoNrVqelshKV5KkJrHSlSRVrsopQxGxGXApsCPwNDAPeHdmPhgRewMXAWOBBcCxmfnAUOOy0pUkVa5nw4Myj0HoBj6bmZGZU4E/A+dERAcwCzglMycDNwDnDOfntNKVJI1YM2fOnDhjxoy+p5dl5rKeF5m5FPhJr+u/BE4G9gSezMybivMXUq923zHUeKx0JUmVqzXgAJg9e/aNwPw+x+mri6Oobk8Gvg9sC9zbcy0zHwI6ImLcUH9Ok64kacSaPn36fsCkPscX+/nIl4HHgPMbEY/dy5Kk6jVodYzOzs6FnZ2dCwbykYj4PLAzcHhmroyI+4Dtel3fHFhZdEcPiZWuJKntRcSnqT/DPTIznypO/wYYGxH7Fq9PAuYM5z5WupKkylU8ZWhX4CPAXcDPIwJgfma+ISKOAy6KiPUopgwNJy6TriSpckOY5rPG9gYqM//Eajq3M/PnwNRyorJ7WZKkprHSlSRVzl2GJElSqax0JUnVa5NS16QrSWoJ5Y5fbk12L0uS1CRWupKkylU5ZaiZrHQlSWoSK11JUuXaZByVSVeSVD27lyVJUqmsdCVJLaBFS9OSWelKktQkVrqSpMr5TFeSJJWqVSvdUQCjOqBd+vnbif9FR7Zttx5XdQhqgAlbbtLz7ahGtO+UoWptDbD1JutWHYekQcqrzq46BDXW1sCfy260Rsndy+U1VapWTbq3APsBfwG6Ko5FklSvcLem/u+zhqhVk+5TwE1VByFJep7SK9wetZL3GGrVSteBVJIkNUmrVrqSpHZSdmnaoqWuSVeS1BJaNE+Wyu5lSZKaxEpXklS5Wq3kebotWjZb6UqS1CRWupKkyrXLlCGTbguIiCOB7wG7ZOadVcej4YuILuCPwDrACuAbwLmZubLSwDRsEfFYZm7Q6/WJwF6Z+d7qohoB2mT0st3LreEY6ouBHFN1ICrNE5m5e2buCrwGOAQ4q+KYJFXMpFuxiNgA2Bf4Z2B6xeGoATLzAaATeG9EtOjv31K1ag04WpFJt3pHANdk5l3AkojYs+qAVL7MvIf62rVbVh2Lhm1sRNzacwDu8KAB85lu9Y4Bziu+n128/k114Uhagycyc/eeFz3PdKsLZ2RolylDJt0KRcQ44EBgakR0U6+EuiPiA5nZXW10KlNE7EB9x6wHqo5FUnVMutV6E3BpZr6750RE/JT6toY3VBaVShURWwAXAuf7y5S0ak4ZUjMcA3ymz7nvFOdNumu3scXzvp4pQ5cCX6g2JKl1tUv3cq2721+8JUmV2R6Y/8gTXawsMR111GDjsaMAJgELymt5eBy9LElSk5h0JUlqEp/pSpIq1y7PdE26kqQWUO7o5VZl97IkSU1i0tWIExFdxRJ9t0XEnIh4wTDa+npEvKn4/uKImNLPew+IiJcN4R4LImLzgZ7v857HBnmvj0fEGYONUWq0Wq38oxWZdDUS9ezw82LgaeCk3hcjYkiPVTLznZl5ez9vOQAYdNKV1D58pquR7kbgJRFxAPDvwMPAiyJiF+Ac6olyXeCCzLyo2AXoy9S347ufetIGICJ+ApyRmb+OiIOBT1NfuvMh6rtEnQR0RcSxwL8Ad1JfiWrboonTM/NnEbEZcDkwAfgFAxg/EhFXANsA6wHnZebMXtfOBV4L/BWYnpkPRsSOwAXAFsBy4F3u1axW1ibb6VrpauQqKtpDqG8mD7AHcFpmTqaeJB/JzGnANOBdETEJeAMQwBTgeFZRuRbLOv4ncFRm7gYcnZkLqCfYc4sq+0bqG1mcW9zjKODioomzgJuKvXa/x3NJuT/vyMw9qS+sf2qRuAHWB35dtPVTntuzdybwL8VnzgC+MoB7SNUa6fv6YaWrkalnCUaoV7r/RT153pyZ84vzr6VeAb+peL0xsDOwP3B5ZnYBiyPix6tof2/ghp62MnPpauJ4NTAlInpeb1Tsn7w/8Mbisz+MiIcH8DOdGhFvKL7fpoh1CbAS+FZxfhbw3eIeLwPm9Lr3ugO4h6QGM+lqJHre1msARfJ5vNepGvVK8No+7zu0xDg6gL0z88lVxDJgRdf4q4F9MnN50c293mre3l3cd1nfvwOplZU9YahVi127l9WurgVOjoh1ACJickSsT32jibdExKiI2Bp45So++0tg/6I7umeLRoBHgQ17ve866s92Kd7XkwRvAN5anDsE2HQNsW4MPFwk3BdRr7R7dFDfrYqizZsy8+/A/Ig4urhHLSJ2W8M9JDWBla7a1cXUF1r/bTF46kHgSOrPWA8Ebgfuoz7Q6XmKgUqd1LtyO6jvkfsaYC7wPxFxBPVkeypwQUT8gfr/126gPtjqE8DlEfEn4OfFffpzDXBSRNwBJPWk3+Nx4J8i4swijrcU598GfLU4vw4wG/j9wP5qpOYre4pPq1a67jIkSarS9sD85U93U2Y2qgEvGFODFttlyEpXklS5dpkyZNKVJFWvVbNkyUy6kqS2FxGTgUuAzahPxzs+M+eVfR9HL0uSKldrwJ9BupD6ynSTqa/mdlHpPyQmXUlSm4uILamvWHd5cepyYI9i9blS2b0sSapc2ZvY95g5c+bEGTNm9D29LDOX9Xq9DbCoWImOzOyKiMXF+QfLjMekK0mq0t+Bh9cdvcZFYgbtySeffPLiiy++cRWXPgF8vOz7DYRJV5JUpaXATsBGZTd82WWX8cgjj6zq0rI+r+8HJkTEqKLKHQWML86XysUxJEltr1jT/OLMnFVsz/nPmbmqZWCHxaQrSWp7xbrml1BfC/1h6lOGsuz7mHQlSWoSpwxJktQkJl1JkprEpCtJUpOYdCVJahKTriRJTWLSlSSpSUy6kiQ1iUlXkqQm+X+/qJx/XAbM/wAAAABJRU5ErkJggg==\n",
            "text/plain": [
              "<Figure size 576x576 with 2 Axes>"
            ]
          },
          "metadata": {
            "tags": [],
            "needs_background": "light"
          }
        }
      ]
    },
    {
      "cell_type": "code",
      "metadata": {
        "colab": {
          "base_uri": "https://localhost:8080/",
          "height": 489
        },
        "id": "u4qTNqogxshG",
        "outputId": "94d0bdaf-6de6-45f7-e51f-f40f86635306"
      },
      "source": [
        "skplt.metrics.plot_confusion_matrix(\n",
        "    y_test, \n",
        "    predictions,\n",
        "    normalize=True,\n",
        "    figsize=(8,8))"
      ],
      "execution_count": 23,
      "outputs": [
        {
          "output_type": "execute_result",
          "data": {
            "text/plain": [
              "<matplotlib.axes._subplots.AxesSubplot at 0x7f245650a470>"
            ]
          },
          "metadata": {
            "tags": []
          },
          "execution_count": 23
        },
        {
          "output_type": "display_data",
          "data": {
            "image/png": "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\n",
            "text/plain": [
              "<Figure size 576x576 with 2 Axes>"
            ]
          },
          "metadata": {
            "tags": [],
            "needs_background": "light"
          }
        }
      ]
    },
    {
      "cell_type": "markdown",
      "metadata": {
        "id": "uvdqX8q-x3Wa"
      },
      "source": [
        "As it can be observed from the confusion matrix and the classification report, the number of accurate predictions of H and A improved when using the SVC model in comparison with the Decision Tree model; 58% of A and 78% of H results were correctly predicted. However, no \"D\" predictions were produced by the model. "
      ]
    },
    {
      "cell_type": "markdown",
      "metadata": {
        "id": "hoOqUV_Mrk9m"
      },
      "source": [
        "Overall, both prediction models were found to work better when predicting victories for the host teams. Also, both of them struggled with predicting draws between the teams. The prediction models could be improved either by further modifying the dataset to provide more insightful information to the models, or by adjusting their parameters and attributes to manage their classification processes."
      ]
    }
  ]
}
