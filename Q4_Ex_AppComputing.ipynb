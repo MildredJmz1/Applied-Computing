{
  "nbformat": 4,
  "nbformat_minor": 0,
  "metadata": {
    "colab": {
      "name": "Q4_Ex_AppComputing.ipynb",
      "provenance": []
    },
    "kernelspec": {
      "name": "python3",
      "display_name": "Python 3"
    }
  },
  "cells": [
    {
      "cell_type": "markdown",
      "metadata": {
        "id": "mswlgs3aeP4N"
      },
      "source": [
        "![image.png](data:image/png;base64,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)"
      ]
    },
    {
      "cell_type": "markdown",
      "metadata": {
        "id": "peLfQdWz5uMl"
      },
      "source": [
        "The required libraries were first loaded:"
      ]
    },
    {
      "cell_type": "code",
      "metadata": {
        "id": "U9o7x7oNeKJH"
      },
      "source": [
        "import numpy as np\n",
        "import pandas as pd\n",
        "import matplotlib.pyplot as plt\n",
        "import seaborn as sns; sns.set()\n",
        "from sklearn.preprocessing import StandardScaler \n",
        "from sklearn.preprocessing import MinMaxScaler\n",
        "from sklearn.cluster import *\n",
        "from sklearn.metrics import silhouette_samples, silhouette_score\n",
        "from sklearn import metrics\n",
        "from sklearn.metrics.cluster import homogeneity_score\n",
        "from sklearn.datasets import make_blobs\n",
        "%matplotlib inline\n",
        "plt.rcParams['figure.figsize'] = (16, 9)\n",
        "plt.style.use('ggplot')"
      ],
      "execution_count": 29,
      "outputs": []
    },
    {
      "cell_type": "code",
      "metadata": {
        "colab": {
          "base_uri": "https://localhost:8080/"
        },
        "id": "40uy5w37ef2i",
        "outputId": "f2a9d98b-855d-4867-b7b6-fd49e4bd1412"
      },
      "source": [
        "from google.colab import drive\n",
        "drive.mount('/content/drive')"
      ],
      "execution_count": 30,
      "outputs": [
        {
          "output_type": "stream",
          "text": [
            "Drive already mounted at /content/drive; to attempt to forcibly remount, call drive.mount(\"/content/drive\", force_remount=True).\n"
          ],
          "name": "stdout"
        }
      ]
    },
    {
      "cell_type": "markdown",
      "metadata": {
        "id": "u6JJSMt26IIS"
      },
      "source": [
        "The dataset was imported and it was spotted right away that it contains 2 columns with empty values. "
      ]
    },
    {
      "cell_type": "code",
      "metadata": {
        "colab": {
          "base_uri": "https://localhost:8080/",
          "height": 473
        },
        "id": "fEaf7ZTneoyL",
        "outputId": "0353ca13-64a1-4a30-ac64-835791f8bc64"
      },
      "source": [
        "data=pd.read_csv('/content/drive/MyDrive/wine.csv',sep=\",\")\n",
        "data=pd.DataFrame(data)\n",
        "display(data)"
      ],
      "execution_count": 31,
      "outputs": [
        {
          "output_type": "display_data",
          "data": {
            "text/html": [
              "<div>\n",
              "<style scoped>\n",
              "    .dataframe tbody tr th:only-of-type {\n",
              "        vertical-align: middle;\n",
              "    }\n",
              "\n",
              "    .dataframe tbody tr th {\n",
              "        vertical-align: top;\n",
              "    }\n",
              "\n",
              "    .dataframe thead th {\n",
              "        text-align: right;\n",
              "    }\n",
              "</style>\n",
              "<table border=\"1\" class=\"dataframe\">\n",
              "  <thead>\n",
              "    <tr style=\"text-align: right;\">\n",
              "      <th></th>\n",
              "      <th>Alcohol</th>\n",
              "      <th>Malic acid</th>\n",
              "      <th>Ash</th>\n",
              "      <th>Alcalinity of ash</th>\n",
              "      <th>Magnesium</th>\n",
              "      <th>Total phenols</th>\n",
              "      <th>Flavanoids</th>\n",
              "      <th>Nonflavanoid phenols</th>\n",
              "      <th>Proanthocyanins</th>\n",
              "      <th>Color intensity</th>\n",
              "      <th>Hue</th>\n",
              "      <th>OD280/OD315 of diluted wines</th>\n",
              "      <th>Proline</th>\n",
              "      <th>Unnamed: 13</th>\n",
              "      <th>Unnamed: 14</th>\n",
              "    </tr>\n",
              "  </thead>\n",
              "  <tbody>\n",
              "    <tr>\n",
              "      <th>0</th>\n",
              "      <td>14.23</td>\n",
              "      <td>1.71</td>\n",
              "      <td>2.43</td>\n",
              "      <td>15.6</td>\n",
              "      <td>127</td>\n",
              "      <td>2.80</td>\n",
              "      <td>3.06</td>\n",
              "      <td>0.28</td>\n",
              "      <td>2.29</td>\n",
              "      <td>5.64</td>\n",
              "      <td>1.04</td>\n",
              "      <td>3.92</td>\n",
              "      <td>1065</td>\n",
              "      <td>NaN</td>\n",
              "      <td></td>\n",
              "    </tr>\n",
              "    <tr>\n",
              "      <th>1</th>\n",
              "      <td>13.20</td>\n",
              "      <td>1.78</td>\n",
              "      <td>2.14</td>\n",
              "      <td>11.2</td>\n",
              "      <td>100</td>\n",
              "      <td>2.65</td>\n",
              "      <td>2.76</td>\n",
              "      <td>0.26</td>\n",
              "      <td>1.28</td>\n",
              "      <td>4.38</td>\n",
              "      <td>1.05</td>\n",
              "      <td>3.40</td>\n",
              "      <td>1050</td>\n",
              "      <td>NaN</td>\n",
              "      <td></td>\n",
              "    </tr>\n",
              "    <tr>\n",
              "      <th>2</th>\n",
              "      <td>13.16</td>\n",
              "      <td>2.36</td>\n",
              "      <td>2.67</td>\n",
              "      <td>18.6</td>\n",
              "      <td>101</td>\n",
              "      <td>2.80</td>\n",
              "      <td>3.24</td>\n",
              "      <td>0.30</td>\n",
              "      <td>2.81</td>\n",
              "      <td>5.68</td>\n",
              "      <td>1.03</td>\n",
              "      <td>3.17</td>\n",
              "      <td>1185</td>\n",
              "      <td>NaN</td>\n",
              "      <td></td>\n",
              "    </tr>\n",
              "    <tr>\n",
              "      <th>3</th>\n",
              "      <td>14.37</td>\n",
              "      <td>1.95</td>\n",
              "      <td>2.50</td>\n",
              "      <td>16.8</td>\n",
              "      <td>113</td>\n",
              "      <td>3.85</td>\n",
              "      <td>3.49</td>\n",
              "      <td>0.24</td>\n",
              "      <td>2.18</td>\n",
              "      <td>7.80</td>\n",
              "      <td>0.86</td>\n",
              "      <td>3.45</td>\n",
              "      <td>1480</td>\n",
              "      <td>NaN</td>\n",
              "      <td>NaN</td>\n",
              "    </tr>\n",
              "    <tr>\n",
              "      <th>4</th>\n",
              "      <td>13.24</td>\n",
              "      <td>2.59</td>\n",
              "      <td>2.87</td>\n",
              "      <td>21.0</td>\n",
              "      <td>118</td>\n",
              "      <td>2.80</td>\n",
              "      <td>2.69</td>\n",
              "      <td>0.39</td>\n",
              "      <td>1.82</td>\n",
              "      <td>4.32</td>\n",
              "      <td>1.04</td>\n",
              "      <td>2.93</td>\n",
              "      <td>735</td>\n",
              "      <td>NaN</td>\n",
              "      <td></td>\n",
              "    </tr>\n",
              "    <tr>\n",
              "      <th>...</th>\n",
              "      <td>...</td>\n",
              "      <td>...</td>\n",
              "      <td>...</td>\n",
              "      <td>...</td>\n",
              "      <td>...</td>\n",
              "      <td>...</td>\n",
              "      <td>...</td>\n",
              "      <td>...</td>\n",
              "      <td>...</td>\n",
              "      <td>...</td>\n",
              "      <td>...</td>\n",
              "      <td>...</td>\n",
              "      <td>...</td>\n",
              "      <td>...</td>\n",
              "      <td>...</td>\n",
              "    </tr>\n",
              "    <tr>\n",
              "      <th>173</th>\n",
              "      <td>13.71</td>\n",
              "      <td>5.65</td>\n",
              "      <td>2.45</td>\n",
              "      <td>20.5</td>\n",
              "      <td>95</td>\n",
              "      <td>1.68</td>\n",
              "      <td>0.61</td>\n",
              "      <td>0.52</td>\n",
              "      <td>1.06</td>\n",
              "      <td>7.70</td>\n",
              "      <td>0.64</td>\n",
              "      <td>1.74</td>\n",
              "      <td>740</td>\n",
              "      <td>NaN</td>\n",
              "      <td>NaN</td>\n",
              "    </tr>\n",
              "    <tr>\n",
              "      <th>174</th>\n",
              "      <td>13.40</td>\n",
              "      <td>3.91</td>\n",
              "      <td>2.48</td>\n",
              "      <td>23.0</td>\n",
              "      <td>102</td>\n",
              "      <td>1.80</td>\n",
              "      <td>0.75</td>\n",
              "      <td>0.43</td>\n",
              "      <td>1.41</td>\n",
              "      <td>7.30</td>\n",
              "      <td>0.70</td>\n",
              "      <td>1.56</td>\n",
              "      <td>750</td>\n",
              "      <td>NaN</td>\n",
              "      <td>NaN</td>\n",
              "    </tr>\n",
              "    <tr>\n",
              "      <th>175</th>\n",
              "      <td>13.27</td>\n",
              "      <td>4.28</td>\n",
              "      <td>2.26</td>\n",
              "      <td>20.0</td>\n",
              "      <td>120</td>\n",
              "      <td>1.59</td>\n",
              "      <td>0.69</td>\n",
              "      <td>0.43</td>\n",
              "      <td>1.35</td>\n",
              "      <td>10.20</td>\n",
              "      <td>0.59</td>\n",
              "      <td>1.56</td>\n",
              "      <td>835</td>\n",
              "      <td>NaN</td>\n",
              "      <td>NaN</td>\n",
              "    </tr>\n",
              "    <tr>\n",
              "      <th>176</th>\n",
              "      <td>13.17</td>\n",
              "      <td>2.59</td>\n",
              "      <td>2.37</td>\n",
              "      <td>20.0</td>\n",
              "      <td>120</td>\n",
              "      <td>1.65</td>\n",
              "      <td>0.68</td>\n",
              "      <td>0.53</td>\n",
              "      <td>1.46</td>\n",
              "      <td>9.30</td>\n",
              "      <td>0.60</td>\n",
              "      <td>1.62</td>\n",
              "      <td>840</td>\n",
              "      <td>NaN</td>\n",
              "      <td>NaN</td>\n",
              "    </tr>\n",
              "    <tr>\n",
              "      <th>177</th>\n",
              "      <td>14.13</td>\n",
              "      <td>4.10</td>\n",
              "      <td>2.74</td>\n",
              "      <td>24.5</td>\n",
              "      <td>96</td>\n",
              "      <td>2.05</td>\n",
              "      <td>0.76</td>\n",
              "      <td>0.56</td>\n",
              "      <td>1.35</td>\n",
              "      <td>9.20</td>\n",
              "      <td>0.61</td>\n",
              "      <td>1.60</td>\n",
              "      <td>560</td>\n",
              "      <td>NaN</td>\n",
              "      <td>NaN</td>\n",
              "    </tr>\n",
              "  </tbody>\n",
              "</table>\n",
              "<p>178 rows × 15 columns</p>\n",
              "</div>"
            ],
            "text/plain": [
              "     Alcohol  Malic acid   Ash  ...  Proline  Unnamed: 13  Unnamed: 14\n",
              "0      14.23        1.71  2.43  ...     1065          NaN             \n",
              "1      13.20        1.78  2.14  ...     1050          NaN             \n",
              "2      13.16        2.36  2.67  ...     1185          NaN             \n",
              "3      14.37        1.95  2.50  ...     1480          NaN          NaN\n",
              "4      13.24        2.59  2.87  ...      735          NaN             \n",
              "..       ...         ...   ...  ...      ...          ...          ...\n",
              "173    13.71        5.65  2.45  ...      740          NaN          NaN\n",
              "174    13.40        3.91  2.48  ...      750          NaN          NaN\n",
              "175    13.27        4.28  2.26  ...      835          NaN          NaN\n",
              "176    13.17        2.59  2.37  ...      840          NaN          NaN\n",
              "177    14.13        4.10  2.74  ...      560          NaN          NaN\n",
              "\n",
              "[178 rows x 15 columns]"
            ]
          },
          "metadata": {
            "tags": []
          }
        }
      ]
    },
    {
      "cell_type": "markdown",
      "metadata": {
        "id": "nIk-_SdY6W06"
      },
      "source": [
        "Information about the dataset was retrieved before applying any model. As it can be observed below, it contains three different types of variables and the last two columns are practically full of null objects, which means that they can be dropped. "
      ]
    },
    {
      "cell_type": "code",
      "metadata": {
        "colab": {
          "base_uri": "https://localhost:8080/"
        },
        "id": "zg0vgd899MDN",
        "outputId": "bb32483d-dd18-4762-aa4f-ee85556e46ae"
      },
      "source": [
        "print(data.info())"
      ],
      "execution_count": 32,
      "outputs": [
        {
          "output_type": "stream",
          "text": [
            "<class 'pandas.core.frame.DataFrame'>\n",
            "RangeIndex: 178 entries, 0 to 177\n",
            "Data columns (total 15 columns):\n",
            " #   Column                        Non-Null Count  Dtype  \n",
            "---  ------                        --------------  -----  \n",
            " 0   Alcohol                       178 non-null    float64\n",
            " 1   Malic acid                    178 non-null    float64\n",
            " 2   Ash                           178 non-null    float64\n",
            " 3   Alcalinity of ash             178 non-null    float64\n",
            " 4   Magnesium                     178 non-null    int64  \n",
            " 5   Total phenols                 178 non-null    float64\n",
            " 6   Flavanoids                    178 non-null    float64\n",
            " 7   Nonflavanoid phenols          178 non-null    float64\n",
            " 8   Proanthocyanins               178 non-null    float64\n",
            " 9   Color intensity               178 non-null    float64\n",
            " 10  Hue                           178 non-null    float64\n",
            " 11  OD280/OD315 of diluted wines  178 non-null    float64\n",
            " 12  Proline                       178 non-null    int64  \n",
            " 13  Unnamed: 13                   0 non-null      float64\n",
            " 14  Unnamed: 14                   10 non-null     object \n",
            "dtypes: float64(12), int64(2), object(1)\n",
            "memory usage: 21.0+ KB\n",
            "None\n"
          ],
          "name": "stdout"
        }
      ]
    },
    {
      "cell_type": "markdown",
      "metadata": {
        "id": "BFX3bWOy7BqZ"
      },
      "source": [
        "The new dataset \"data2\" now contains only the variables that will be used to perform the clustering analyses. "
      ]
    },
    {
      "cell_type": "code",
      "metadata": {
        "colab": {
          "base_uri": "https://localhost:8080/",
          "height": 453
        },
        "id": "Q2B0SU45f-bp",
        "outputId": "64786f7a-28c1-469b-aaa9-b0d512bbe46e"
      },
      "source": [
        "data2=data.drop(['Unnamed: 13', 'Unnamed: 14'], axis = 1)\n",
        "display(data2)\n"
      ],
      "execution_count": 33,
      "outputs": [
        {
          "output_type": "display_data",
          "data": {
            "text/html": [
              "<div>\n",
              "<style scoped>\n",
              "    .dataframe tbody tr th:only-of-type {\n",
              "        vertical-align: middle;\n",
              "    }\n",
              "\n",
              "    .dataframe tbody tr th {\n",
              "        vertical-align: top;\n",
              "    }\n",
              "\n",
              "    .dataframe thead th {\n",
              "        text-align: right;\n",
              "    }\n",
              "</style>\n",
              "<table border=\"1\" class=\"dataframe\">\n",
              "  <thead>\n",
              "    <tr style=\"text-align: right;\">\n",
              "      <th></th>\n",
              "      <th>Alcohol</th>\n",
              "      <th>Malic acid</th>\n",
              "      <th>Ash</th>\n",
              "      <th>Alcalinity of ash</th>\n",
              "      <th>Magnesium</th>\n",
              "      <th>Total phenols</th>\n",
              "      <th>Flavanoids</th>\n",
              "      <th>Nonflavanoid phenols</th>\n",
              "      <th>Proanthocyanins</th>\n",
              "      <th>Color intensity</th>\n",
              "      <th>Hue</th>\n",
              "      <th>OD280/OD315 of diluted wines</th>\n",
              "      <th>Proline</th>\n",
              "    </tr>\n",
              "  </thead>\n",
              "  <tbody>\n",
              "    <tr>\n",
              "      <th>0</th>\n",
              "      <td>14.23</td>\n",
              "      <td>1.71</td>\n",
              "      <td>2.43</td>\n",
              "      <td>15.6</td>\n",
              "      <td>127</td>\n",
              "      <td>2.80</td>\n",
              "      <td>3.06</td>\n",
              "      <td>0.28</td>\n",
              "      <td>2.29</td>\n",
              "      <td>5.64</td>\n",
              "      <td>1.04</td>\n",
              "      <td>3.92</td>\n",
              "      <td>1065</td>\n",
              "    </tr>\n",
              "    <tr>\n",
              "      <th>1</th>\n",
              "      <td>13.20</td>\n",
              "      <td>1.78</td>\n",
              "      <td>2.14</td>\n",
              "      <td>11.2</td>\n",
              "      <td>100</td>\n",
              "      <td>2.65</td>\n",
              "      <td>2.76</td>\n",
              "      <td>0.26</td>\n",
              "      <td>1.28</td>\n",
              "      <td>4.38</td>\n",
              "      <td>1.05</td>\n",
              "      <td>3.40</td>\n",
              "      <td>1050</td>\n",
              "    </tr>\n",
              "    <tr>\n",
              "      <th>2</th>\n",
              "      <td>13.16</td>\n",
              "      <td>2.36</td>\n",
              "      <td>2.67</td>\n",
              "      <td>18.6</td>\n",
              "      <td>101</td>\n",
              "      <td>2.80</td>\n",
              "      <td>3.24</td>\n",
              "      <td>0.30</td>\n",
              "      <td>2.81</td>\n",
              "      <td>5.68</td>\n",
              "      <td>1.03</td>\n",
              "      <td>3.17</td>\n",
              "      <td>1185</td>\n",
              "    </tr>\n",
              "    <tr>\n",
              "      <th>3</th>\n",
              "      <td>14.37</td>\n",
              "      <td>1.95</td>\n",
              "      <td>2.50</td>\n",
              "      <td>16.8</td>\n",
              "      <td>113</td>\n",
              "      <td>3.85</td>\n",
              "      <td>3.49</td>\n",
              "      <td>0.24</td>\n",
              "      <td>2.18</td>\n",
              "      <td>7.80</td>\n",
              "      <td>0.86</td>\n",
              "      <td>3.45</td>\n",
              "      <td>1480</td>\n",
              "    </tr>\n",
              "    <tr>\n",
              "      <th>4</th>\n",
              "      <td>13.24</td>\n",
              "      <td>2.59</td>\n",
              "      <td>2.87</td>\n",
              "      <td>21.0</td>\n",
              "      <td>118</td>\n",
              "      <td>2.80</td>\n",
              "      <td>2.69</td>\n",
              "      <td>0.39</td>\n",
              "      <td>1.82</td>\n",
              "      <td>4.32</td>\n",
              "      <td>1.04</td>\n",
              "      <td>2.93</td>\n",
              "      <td>735</td>\n",
              "    </tr>\n",
              "    <tr>\n",
              "      <th>...</th>\n",
              "      <td>...</td>\n",
              "      <td>...</td>\n",
              "      <td>...</td>\n",
              "      <td>...</td>\n",
              "      <td>...</td>\n",
              "      <td>...</td>\n",
              "      <td>...</td>\n",
              "      <td>...</td>\n",
              "      <td>...</td>\n",
              "      <td>...</td>\n",
              "      <td>...</td>\n",
              "      <td>...</td>\n",
              "      <td>...</td>\n",
              "    </tr>\n",
              "    <tr>\n",
              "      <th>173</th>\n",
              "      <td>13.71</td>\n",
              "      <td>5.65</td>\n",
              "      <td>2.45</td>\n",
              "      <td>20.5</td>\n",
              "      <td>95</td>\n",
              "      <td>1.68</td>\n",
              "      <td>0.61</td>\n",
              "      <td>0.52</td>\n",
              "      <td>1.06</td>\n",
              "      <td>7.70</td>\n",
              "      <td>0.64</td>\n",
              "      <td>1.74</td>\n",
              "      <td>740</td>\n",
              "    </tr>\n",
              "    <tr>\n",
              "      <th>174</th>\n",
              "      <td>13.40</td>\n",
              "      <td>3.91</td>\n",
              "      <td>2.48</td>\n",
              "      <td>23.0</td>\n",
              "      <td>102</td>\n",
              "      <td>1.80</td>\n",
              "      <td>0.75</td>\n",
              "      <td>0.43</td>\n",
              "      <td>1.41</td>\n",
              "      <td>7.30</td>\n",
              "      <td>0.70</td>\n",
              "      <td>1.56</td>\n",
              "      <td>750</td>\n",
              "    </tr>\n",
              "    <tr>\n",
              "      <th>175</th>\n",
              "      <td>13.27</td>\n",
              "      <td>4.28</td>\n",
              "      <td>2.26</td>\n",
              "      <td>20.0</td>\n",
              "      <td>120</td>\n",
              "      <td>1.59</td>\n",
              "      <td>0.69</td>\n",
              "      <td>0.43</td>\n",
              "      <td>1.35</td>\n",
              "      <td>10.20</td>\n",
              "      <td>0.59</td>\n",
              "      <td>1.56</td>\n",
              "      <td>835</td>\n",
              "    </tr>\n",
              "    <tr>\n",
              "      <th>176</th>\n",
              "      <td>13.17</td>\n",
              "      <td>2.59</td>\n",
              "      <td>2.37</td>\n",
              "      <td>20.0</td>\n",
              "      <td>120</td>\n",
              "      <td>1.65</td>\n",
              "      <td>0.68</td>\n",
              "      <td>0.53</td>\n",
              "      <td>1.46</td>\n",
              "      <td>9.30</td>\n",
              "      <td>0.60</td>\n",
              "      <td>1.62</td>\n",
              "      <td>840</td>\n",
              "    </tr>\n",
              "    <tr>\n",
              "      <th>177</th>\n",
              "      <td>14.13</td>\n",
              "      <td>4.10</td>\n",
              "      <td>2.74</td>\n",
              "      <td>24.5</td>\n",
              "      <td>96</td>\n",
              "      <td>2.05</td>\n",
              "      <td>0.76</td>\n",
              "      <td>0.56</td>\n",
              "      <td>1.35</td>\n",
              "      <td>9.20</td>\n",
              "      <td>0.61</td>\n",
              "      <td>1.60</td>\n",
              "      <td>560</td>\n",
              "    </tr>\n",
              "  </tbody>\n",
              "</table>\n",
              "<p>178 rows × 13 columns</p>\n",
              "</div>"
            ],
            "text/plain": [
              "     Alcohol  Malic acid   Ash  ...   Hue  OD280/OD315 of diluted wines  Proline\n",
              "0      14.23        1.71  2.43  ...  1.04                          3.92     1065\n",
              "1      13.20        1.78  2.14  ...  1.05                          3.40     1050\n",
              "2      13.16        2.36  2.67  ...  1.03                          3.17     1185\n",
              "3      14.37        1.95  2.50  ...  0.86                          3.45     1480\n",
              "4      13.24        2.59  2.87  ...  1.04                          2.93      735\n",
              "..       ...         ...   ...  ...   ...                           ...      ...\n",
              "173    13.71        5.65  2.45  ...  0.64                          1.74      740\n",
              "174    13.40        3.91  2.48  ...  0.70                          1.56      750\n",
              "175    13.27        4.28  2.26  ...  0.59                          1.56      835\n",
              "176    13.17        2.59  2.37  ...  0.60                          1.62      840\n",
              "177    14.13        4.10  2.74  ...  0.61                          1.60      560\n",
              "\n",
              "[178 rows x 13 columns]"
            ]
          },
          "metadata": {
            "tags": []
          }
        }
      ]
    },
    {
      "cell_type": "markdown",
      "metadata": {
        "id": "eXA3iIEz7Xq_"
      },
      "source": [
        "An analysis of the data was performed to understand its behaviour. As it can be observed in the \"mean\", \"min\" and \"max\" rows, the data variability is high, therefore, a standarization process needs to be carried out before continuing with the process."
      ]
    },
    {
      "cell_type": "code",
      "metadata": {
        "colab": {
          "base_uri": "https://localhost:8080/",
          "height": 351
        },
        "id": "3cFyoJtQ9rY5",
        "outputId": "d0b2de71-d5eb-4392-ba46-816cc3112576"
      },
      "source": [
        "display(data2.describe()) #it can be observed that the data has a lot of variability, therefore it should be standarized"
      ],
      "execution_count": 34,
      "outputs": [
        {
          "output_type": "display_data",
          "data": {
            "text/html": [
              "<div>\n",
              "<style scoped>\n",
              "    .dataframe tbody tr th:only-of-type {\n",
              "        vertical-align: middle;\n",
              "    }\n",
              "\n",
              "    .dataframe tbody tr th {\n",
              "        vertical-align: top;\n",
              "    }\n",
              "\n",
              "    .dataframe thead th {\n",
              "        text-align: right;\n",
              "    }\n",
              "</style>\n",
              "<table border=\"1\" class=\"dataframe\">\n",
              "  <thead>\n",
              "    <tr style=\"text-align: right;\">\n",
              "      <th></th>\n",
              "      <th>Alcohol</th>\n",
              "      <th>Malic acid</th>\n",
              "      <th>Ash</th>\n",
              "      <th>Alcalinity of ash</th>\n",
              "      <th>Magnesium</th>\n",
              "      <th>Total phenols</th>\n",
              "      <th>Flavanoids</th>\n",
              "      <th>Nonflavanoid phenols</th>\n",
              "      <th>Proanthocyanins</th>\n",
              "      <th>Color intensity</th>\n",
              "      <th>Hue</th>\n",
              "      <th>OD280/OD315 of diluted wines</th>\n",
              "      <th>Proline</th>\n",
              "    </tr>\n",
              "  </thead>\n",
              "  <tbody>\n",
              "    <tr>\n",
              "      <th>count</th>\n",
              "      <td>178.000000</td>\n",
              "      <td>178.000000</td>\n",
              "      <td>178.000000</td>\n",
              "      <td>178.000000</td>\n",
              "      <td>178.000000</td>\n",
              "      <td>178.000000</td>\n",
              "      <td>178.000000</td>\n",
              "      <td>178.000000</td>\n",
              "      <td>178.000000</td>\n",
              "      <td>178.000000</td>\n",
              "      <td>178.000000</td>\n",
              "      <td>178.000000</td>\n",
              "      <td>178.000000</td>\n",
              "    </tr>\n",
              "    <tr>\n",
              "      <th>mean</th>\n",
              "      <td>13.000618</td>\n",
              "      <td>2.336348</td>\n",
              "      <td>2.366517</td>\n",
              "      <td>19.494944</td>\n",
              "      <td>99.741573</td>\n",
              "      <td>2.295112</td>\n",
              "      <td>2.029270</td>\n",
              "      <td>0.361854</td>\n",
              "      <td>1.590899</td>\n",
              "      <td>5.058090</td>\n",
              "      <td>0.957449</td>\n",
              "      <td>2.611685</td>\n",
              "      <td>746.893258</td>\n",
              "    </tr>\n",
              "    <tr>\n",
              "      <th>std</th>\n",
              "      <td>0.811827</td>\n",
              "      <td>1.117146</td>\n",
              "      <td>0.274344</td>\n",
              "      <td>3.339564</td>\n",
              "      <td>14.282484</td>\n",
              "      <td>0.625851</td>\n",
              "      <td>0.998859</td>\n",
              "      <td>0.124453</td>\n",
              "      <td>0.572359</td>\n",
              "      <td>2.318286</td>\n",
              "      <td>0.228572</td>\n",
              "      <td>0.709990</td>\n",
              "      <td>314.907474</td>\n",
              "    </tr>\n",
              "    <tr>\n",
              "      <th>min</th>\n",
              "      <td>11.030000</td>\n",
              "      <td>0.740000</td>\n",
              "      <td>1.360000</td>\n",
              "      <td>10.600000</td>\n",
              "      <td>70.000000</td>\n",
              "      <td>0.980000</td>\n",
              "      <td>0.340000</td>\n",
              "      <td>0.130000</td>\n",
              "      <td>0.410000</td>\n",
              "      <td>1.280000</td>\n",
              "      <td>0.480000</td>\n",
              "      <td>1.270000</td>\n",
              "      <td>278.000000</td>\n",
              "    </tr>\n",
              "    <tr>\n",
              "      <th>25%</th>\n",
              "      <td>12.362500</td>\n",
              "      <td>1.602500</td>\n",
              "      <td>2.210000</td>\n",
              "      <td>17.200000</td>\n",
              "      <td>88.000000</td>\n",
              "      <td>1.742500</td>\n",
              "      <td>1.205000</td>\n",
              "      <td>0.270000</td>\n",
              "      <td>1.250000</td>\n",
              "      <td>3.220000</td>\n",
              "      <td>0.782500</td>\n",
              "      <td>1.937500</td>\n",
              "      <td>500.500000</td>\n",
              "    </tr>\n",
              "    <tr>\n",
              "      <th>50%</th>\n",
              "      <td>13.050000</td>\n",
              "      <td>1.865000</td>\n",
              "      <td>2.360000</td>\n",
              "      <td>19.500000</td>\n",
              "      <td>98.000000</td>\n",
              "      <td>2.355000</td>\n",
              "      <td>2.135000</td>\n",
              "      <td>0.340000</td>\n",
              "      <td>1.555000</td>\n",
              "      <td>4.690000</td>\n",
              "      <td>0.965000</td>\n",
              "      <td>2.780000</td>\n",
              "      <td>673.500000</td>\n",
              "    </tr>\n",
              "    <tr>\n",
              "      <th>75%</th>\n",
              "      <td>13.677500</td>\n",
              "      <td>3.082500</td>\n",
              "      <td>2.557500</td>\n",
              "      <td>21.500000</td>\n",
              "      <td>107.000000</td>\n",
              "      <td>2.800000</td>\n",
              "      <td>2.875000</td>\n",
              "      <td>0.437500</td>\n",
              "      <td>1.950000</td>\n",
              "      <td>6.200000</td>\n",
              "      <td>1.120000</td>\n",
              "      <td>3.170000</td>\n",
              "      <td>985.000000</td>\n",
              "    </tr>\n",
              "    <tr>\n",
              "      <th>max</th>\n",
              "      <td>14.830000</td>\n",
              "      <td>5.800000</td>\n",
              "      <td>3.230000</td>\n",
              "      <td>30.000000</td>\n",
              "      <td>162.000000</td>\n",
              "      <td>3.880000</td>\n",
              "      <td>5.080000</td>\n",
              "      <td>0.660000</td>\n",
              "      <td>3.580000</td>\n",
              "      <td>13.000000</td>\n",
              "      <td>1.710000</td>\n",
              "      <td>4.000000</td>\n",
              "      <td>1680.000000</td>\n",
              "    </tr>\n",
              "  </tbody>\n",
              "</table>\n",
              "</div>"
            ],
            "text/plain": [
              "          Alcohol  Malic acid  ...  OD280/OD315 of diluted wines      Proline\n",
              "count  178.000000  178.000000  ...                    178.000000   178.000000\n",
              "mean    13.000618    2.336348  ...                      2.611685   746.893258\n",
              "std      0.811827    1.117146  ...                      0.709990   314.907474\n",
              "min     11.030000    0.740000  ...                      1.270000   278.000000\n",
              "25%     12.362500    1.602500  ...                      1.937500   500.500000\n",
              "50%     13.050000    1.865000  ...                      2.780000   673.500000\n",
              "75%     13.677500    3.082500  ...                      3.170000   985.000000\n",
              "max     14.830000    5.800000  ...                      4.000000  1680.000000\n",
              "\n",
              "[8 rows x 13 columns]"
            ]
          },
          "metadata": {
            "tags": []
          }
        }
      ]
    },
    {
      "cell_type": "code",
      "metadata": {
        "colab": {
          "base_uri": "https://localhost:8080/",
          "height": 473
        },
        "id": "8raobIAWs527",
        "outputId": "b171bc00-8f3e-4585-c10c-c20e027168c1"
      },
      "source": [
        "#Data normalization\n",
        "WineNorm=(data2-data2.min())/(data2.max()-data2.min())\n",
        "WineNorm"
      ],
      "execution_count": 35,
      "outputs": [
        {
          "output_type": "execute_result",
          "data": {
            "text/html": [
              "<div>\n",
              "<style scoped>\n",
              "    .dataframe tbody tr th:only-of-type {\n",
              "        vertical-align: middle;\n",
              "    }\n",
              "\n",
              "    .dataframe tbody tr th {\n",
              "        vertical-align: top;\n",
              "    }\n",
              "\n",
              "    .dataframe thead th {\n",
              "        text-align: right;\n",
              "    }\n",
              "</style>\n",
              "<table border=\"1\" class=\"dataframe\">\n",
              "  <thead>\n",
              "    <tr style=\"text-align: right;\">\n",
              "      <th></th>\n",
              "      <th>Alcohol</th>\n",
              "      <th>Malic acid</th>\n",
              "      <th>Ash</th>\n",
              "      <th>Alcalinity of ash</th>\n",
              "      <th>Magnesium</th>\n",
              "      <th>Total phenols</th>\n",
              "      <th>Flavanoids</th>\n",
              "      <th>Nonflavanoid phenols</th>\n",
              "      <th>Proanthocyanins</th>\n",
              "      <th>Color intensity</th>\n",
              "      <th>Hue</th>\n",
              "      <th>OD280/OD315 of diluted wines</th>\n",
              "      <th>Proline</th>\n",
              "    </tr>\n",
              "  </thead>\n",
              "  <tbody>\n",
              "    <tr>\n",
              "      <th>0</th>\n",
              "      <td>0.842105</td>\n",
              "      <td>0.191700</td>\n",
              "      <td>0.572193</td>\n",
              "      <td>0.257732</td>\n",
              "      <td>0.619565</td>\n",
              "      <td>0.627586</td>\n",
              "      <td>0.573840</td>\n",
              "      <td>0.283019</td>\n",
              "      <td>0.593060</td>\n",
              "      <td>0.372014</td>\n",
              "      <td>0.455285</td>\n",
              "      <td>0.970696</td>\n",
              "      <td>0.561341</td>\n",
              "    </tr>\n",
              "    <tr>\n",
              "      <th>1</th>\n",
              "      <td>0.571053</td>\n",
              "      <td>0.205534</td>\n",
              "      <td>0.417112</td>\n",
              "      <td>0.030928</td>\n",
              "      <td>0.326087</td>\n",
              "      <td>0.575862</td>\n",
              "      <td>0.510549</td>\n",
              "      <td>0.245283</td>\n",
              "      <td>0.274448</td>\n",
              "      <td>0.264505</td>\n",
              "      <td>0.463415</td>\n",
              "      <td>0.780220</td>\n",
              "      <td>0.550642</td>\n",
              "    </tr>\n",
              "    <tr>\n",
              "      <th>2</th>\n",
              "      <td>0.560526</td>\n",
              "      <td>0.320158</td>\n",
              "      <td>0.700535</td>\n",
              "      <td>0.412371</td>\n",
              "      <td>0.336957</td>\n",
              "      <td>0.627586</td>\n",
              "      <td>0.611814</td>\n",
              "      <td>0.320755</td>\n",
              "      <td>0.757098</td>\n",
              "      <td>0.375427</td>\n",
              "      <td>0.447154</td>\n",
              "      <td>0.695971</td>\n",
              "      <td>0.646933</td>\n",
              "    </tr>\n",
              "    <tr>\n",
              "      <th>3</th>\n",
              "      <td>0.878947</td>\n",
              "      <td>0.239130</td>\n",
              "      <td>0.609626</td>\n",
              "      <td>0.319588</td>\n",
              "      <td>0.467391</td>\n",
              "      <td>0.989655</td>\n",
              "      <td>0.664557</td>\n",
              "      <td>0.207547</td>\n",
              "      <td>0.558360</td>\n",
              "      <td>0.556314</td>\n",
              "      <td>0.308943</td>\n",
              "      <td>0.798535</td>\n",
              "      <td>0.857347</td>\n",
              "    </tr>\n",
              "    <tr>\n",
              "      <th>4</th>\n",
              "      <td>0.581579</td>\n",
              "      <td>0.365613</td>\n",
              "      <td>0.807487</td>\n",
              "      <td>0.536082</td>\n",
              "      <td>0.521739</td>\n",
              "      <td>0.627586</td>\n",
              "      <td>0.495781</td>\n",
              "      <td>0.490566</td>\n",
              "      <td>0.444795</td>\n",
              "      <td>0.259386</td>\n",
              "      <td>0.455285</td>\n",
              "      <td>0.608059</td>\n",
              "      <td>0.325963</td>\n",
              "    </tr>\n",
              "    <tr>\n",
              "      <th>...</th>\n",
              "      <td>...</td>\n",
              "      <td>...</td>\n",
              "      <td>...</td>\n",
              "      <td>...</td>\n",
              "      <td>...</td>\n",
              "      <td>...</td>\n",
              "      <td>...</td>\n",
              "      <td>...</td>\n",
              "      <td>...</td>\n",
              "      <td>...</td>\n",
              "      <td>...</td>\n",
              "      <td>...</td>\n",
              "      <td>...</td>\n",
              "    </tr>\n",
              "    <tr>\n",
              "      <th>173</th>\n",
              "      <td>0.705263</td>\n",
              "      <td>0.970356</td>\n",
              "      <td>0.582888</td>\n",
              "      <td>0.510309</td>\n",
              "      <td>0.271739</td>\n",
              "      <td>0.241379</td>\n",
              "      <td>0.056962</td>\n",
              "      <td>0.735849</td>\n",
              "      <td>0.205047</td>\n",
              "      <td>0.547782</td>\n",
              "      <td>0.130081</td>\n",
              "      <td>0.172161</td>\n",
              "      <td>0.329529</td>\n",
              "    </tr>\n",
              "    <tr>\n",
              "      <th>174</th>\n",
              "      <td>0.623684</td>\n",
              "      <td>0.626482</td>\n",
              "      <td>0.598930</td>\n",
              "      <td>0.639175</td>\n",
              "      <td>0.347826</td>\n",
              "      <td>0.282759</td>\n",
              "      <td>0.086498</td>\n",
              "      <td>0.566038</td>\n",
              "      <td>0.315457</td>\n",
              "      <td>0.513652</td>\n",
              "      <td>0.178862</td>\n",
              "      <td>0.106227</td>\n",
              "      <td>0.336662</td>\n",
              "    </tr>\n",
              "    <tr>\n",
              "      <th>175</th>\n",
              "      <td>0.589474</td>\n",
              "      <td>0.699605</td>\n",
              "      <td>0.481283</td>\n",
              "      <td>0.484536</td>\n",
              "      <td>0.543478</td>\n",
              "      <td>0.210345</td>\n",
              "      <td>0.073840</td>\n",
              "      <td>0.566038</td>\n",
              "      <td>0.296530</td>\n",
              "      <td>0.761092</td>\n",
              "      <td>0.089431</td>\n",
              "      <td>0.106227</td>\n",
              "      <td>0.397290</td>\n",
              "    </tr>\n",
              "    <tr>\n",
              "      <th>176</th>\n",
              "      <td>0.563158</td>\n",
              "      <td>0.365613</td>\n",
              "      <td>0.540107</td>\n",
              "      <td>0.484536</td>\n",
              "      <td>0.543478</td>\n",
              "      <td>0.231034</td>\n",
              "      <td>0.071730</td>\n",
              "      <td>0.754717</td>\n",
              "      <td>0.331230</td>\n",
              "      <td>0.684300</td>\n",
              "      <td>0.097561</td>\n",
              "      <td>0.128205</td>\n",
              "      <td>0.400856</td>\n",
              "    </tr>\n",
              "    <tr>\n",
              "      <th>177</th>\n",
              "      <td>0.815789</td>\n",
              "      <td>0.664032</td>\n",
              "      <td>0.737968</td>\n",
              "      <td>0.716495</td>\n",
              "      <td>0.282609</td>\n",
              "      <td>0.368966</td>\n",
              "      <td>0.088608</td>\n",
              "      <td>0.811321</td>\n",
              "      <td>0.296530</td>\n",
              "      <td>0.675768</td>\n",
              "      <td>0.105691</td>\n",
              "      <td>0.120879</td>\n",
              "      <td>0.201141</td>\n",
              "    </tr>\n",
              "  </tbody>\n",
              "</table>\n",
              "<p>178 rows × 13 columns</p>\n",
              "</div>"
            ],
            "text/plain": [
              "      Alcohol  Malic acid  ...  OD280/OD315 of diluted wines   Proline\n",
              "0    0.842105    0.191700  ...                      0.970696  0.561341\n",
              "1    0.571053    0.205534  ...                      0.780220  0.550642\n",
              "2    0.560526    0.320158  ...                      0.695971  0.646933\n",
              "3    0.878947    0.239130  ...                      0.798535  0.857347\n",
              "4    0.581579    0.365613  ...                      0.608059  0.325963\n",
              "..        ...         ...  ...                           ...       ...\n",
              "173  0.705263    0.970356  ...                      0.172161  0.329529\n",
              "174  0.623684    0.626482  ...                      0.106227  0.336662\n",
              "175  0.589474    0.699605  ...                      0.106227  0.397290\n",
              "176  0.563158    0.365613  ...                      0.128205  0.400856\n",
              "177  0.815789    0.664032  ...                      0.120879  0.201141\n",
              "\n",
              "[178 rows x 13 columns]"
            ]
          },
          "metadata": {
            "tags": []
          },
          "execution_count": 35
        }
      ]
    },
    {
      "cell_type": "markdown",
      "metadata": {
        "id": "jAA3zqgt77ND"
      },
      "source": [
        "After normalizing the data, we can now observe that we have a minimum value of 0 and a maximum value of 1 for every variable. "
      ]
    },
    {
      "cell_type": "code",
      "metadata": {
        "colab": {
          "base_uri": "https://localhost:8080/",
          "height": 351
        },
        "id": "tGIUSxDQ2VYV",
        "outputId": "4511c214-cf6f-4ba0-a6e2-ea31b0125cf7"
      },
      "source": [
        "WineNorm.describe()"
      ],
      "execution_count": 36,
      "outputs": [
        {
          "output_type": "execute_result",
          "data": {
            "text/html": [
              "<div>\n",
              "<style scoped>\n",
              "    .dataframe tbody tr th:only-of-type {\n",
              "        vertical-align: middle;\n",
              "    }\n",
              "\n",
              "    .dataframe tbody tr th {\n",
              "        vertical-align: top;\n",
              "    }\n",
              "\n",
              "    .dataframe thead th {\n",
              "        text-align: right;\n",
              "    }\n",
              "</style>\n",
              "<table border=\"1\" class=\"dataframe\">\n",
              "  <thead>\n",
              "    <tr style=\"text-align: right;\">\n",
              "      <th></th>\n",
              "      <th>Alcohol</th>\n",
              "      <th>Malic acid</th>\n",
              "      <th>Ash</th>\n",
              "      <th>Alcalinity of ash</th>\n",
              "      <th>Magnesium</th>\n",
              "      <th>Total phenols</th>\n",
              "      <th>Flavanoids</th>\n",
              "      <th>Nonflavanoid phenols</th>\n",
              "      <th>Proanthocyanins</th>\n",
              "      <th>Color intensity</th>\n",
              "      <th>Hue</th>\n",
              "      <th>OD280/OD315 of diluted wines</th>\n",
              "      <th>Proline</th>\n",
              "    </tr>\n",
              "  </thead>\n",
              "  <tbody>\n",
              "    <tr>\n",
              "      <th>count</th>\n",
              "      <td>178.000000</td>\n",
              "      <td>178.000000</td>\n",
              "      <td>178.000000</td>\n",
              "      <td>178.000000</td>\n",
              "      <td>178.000000</td>\n",
              "      <td>178.000000</td>\n",
              "      <td>178.000000</td>\n",
              "      <td>178.000000</td>\n",
              "      <td>178.000000</td>\n",
              "      <td>178.000000</td>\n",
              "      <td>178.000000</td>\n",
              "      <td>178.000000</td>\n",
              "      <td>178.000000</td>\n",
              "    </tr>\n",
              "    <tr>\n",
              "      <th>mean</th>\n",
              "      <td>0.518584</td>\n",
              "      <td>0.315484</td>\n",
              "      <td>0.538244</td>\n",
              "      <td>0.458502</td>\n",
              "      <td>0.323278</td>\n",
              "      <td>0.453487</td>\n",
              "      <td>0.356386</td>\n",
              "      <td>0.437460</td>\n",
              "      <td>0.372523</td>\n",
              "      <td>0.322363</td>\n",
              "      <td>0.388170</td>\n",
              "      <td>0.491460</td>\n",
              "      <td>0.334446</td>\n",
              "    </tr>\n",
              "    <tr>\n",
              "      <th>std</th>\n",
              "      <td>0.213639</td>\n",
              "      <td>0.220780</td>\n",
              "      <td>0.146708</td>\n",
              "      <td>0.172142</td>\n",
              "      <td>0.155244</td>\n",
              "      <td>0.215811</td>\n",
              "      <td>0.210730</td>\n",
              "      <td>0.234818</td>\n",
              "      <td>0.180555</td>\n",
              "      <td>0.197806</td>\n",
              "      <td>0.185831</td>\n",
              "      <td>0.260070</td>\n",
              "      <td>0.224613</td>\n",
              "    </tr>\n",
              "    <tr>\n",
              "      <th>min</th>\n",
              "      <td>0.000000</td>\n",
              "      <td>0.000000</td>\n",
              "      <td>0.000000</td>\n",
              "      <td>0.000000</td>\n",
              "      <td>0.000000</td>\n",
              "      <td>0.000000</td>\n",
              "      <td>0.000000</td>\n",
              "      <td>0.000000</td>\n",
              "      <td>0.000000</td>\n",
              "      <td>0.000000</td>\n",
              "      <td>0.000000</td>\n",
              "      <td>0.000000</td>\n",
              "      <td>0.000000</td>\n",
              "    </tr>\n",
              "    <tr>\n",
              "      <th>25%</th>\n",
              "      <td>0.350658</td>\n",
              "      <td>0.170455</td>\n",
              "      <td>0.454545</td>\n",
              "      <td>0.340206</td>\n",
              "      <td>0.195652</td>\n",
              "      <td>0.262931</td>\n",
              "      <td>0.182489</td>\n",
              "      <td>0.264151</td>\n",
              "      <td>0.264984</td>\n",
              "      <td>0.165529</td>\n",
              "      <td>0.245935</td>\n",
              "      <td>0.244505</td>\n",
              "      <td>0.158702</td>\n",
              "    </tr>\n",
              "    <tr>\n",
              "      <th>50%</th>\n",
              "      <td>0.531579</td>\n",
              "      <td>0.222332</td>\n",
              "      <td>0.534759</td>\n",
              "      <td>0.458763</td>\n",
              "      <td>0.304348</td>\n",
              "      <td>0.474138</td>\n",
              "      <td>0.378692</td>\n",
              "      <td>0.396226</td>\n",
              "      <td>0.361199</td>\n",
              "      <td>0.290956</td>\n",
              "      <td>0.394309</td>\n",
              "      <td>0.553114</td>\n",
              "      <td>0.282097</td>\n",
              "    </tr>\n",
              "    <tr>\n",
              "      <th>75%</th>\n",
              "      <td>0.696711</td>\n",
              "      <td>0.462945</td>\n",
              "      <td>0.640374</td>\n",
              "      <td>0.561856</td>\n",
              "      <td>0.402174</td>\n",
              "      <td>0.627586</td>\n",
              "      <td>0.534810</td>\n",
              "      <td>0.580189</td>\n",
              "      <td>0.485804</td>\n",
              "      <td>0.419795</td>\n",
              "      <td>0.520325</td>\n",
              "      <td>0.695971</td>\n",
              "      <td>0.504280</td>\n",
              "    </tr>\n",
              "    <tr>\n",
              "      <th>max</th>\n",
              "      <td>1.000000</td>\n",
              "      <td>1.000000</td>\n",
              "      <td>1.000000</td>\n",
              "      <td>1.000000</td>\n",
              "      <td>1.000000</td>\n",
              "      <td>1.000000</td>\n",
              "      <td>1.000000</td>\n",
              "      <td>1.000000</td>\n",
              "      <td>1.000000</td>\n",
              "      <td>1.000000</td>\n",
              "      <td>1.000000</td>\n",
              "      <td>1.000000</td>\n",
              "      <td>1.000000</td>\n",
              "    </tr>\n",
              "  </tbody>\n",
              "</table>\n",
              "</div>"
            ],
            "text/plain": [
              "          Alcohol  Malic acid  ...  OD280/OD315 of diluted wines     Proline\n",
              "count  178.000000  178.000000  ...                    178.000000  178.000000\n",
              "mean     0.518584    0.315484  ...                      0.491460    0.334446\n",
              "std      0.213639    0.220780  ...                      0.260070    0.224613\n",
              "min      0.000000    0.000000  ...                      0.000000    0.000000\n",
              "25%      0.350658    0.170455  ...                      0.244505    0.158702\n",
              "50%      0.531579    0.222332  ...                      0.553114    0.282097\n",
              "75%      0.696711    0.462945  ...                      0.695971    0.504280\n",
              "max      1.000000    1.000000  ...                      1.000000    1.000000\n",
              "\n",
              "[8 rows x 13 columns]"
            ]
          },
          "metadata": {
            "tags": []
          },
          "execution_count": 36
        }
      ]
    },
    {
      "cell_type": "markdown",
      "metadata": {
        "id": "TGGeZEBh8RaN"
      },
      "source": [
        "A clustering analysis was performed through three different methods: KMeans, Agglomerative Cluster Analysis, and DBSCAN."
      ]
    },
    {
      "cell_type": "markdown",
      "metadata": {
        "id": "PA_e8a7_8LsN"
      },
      "source": [
        "## **KMeans Model**"
      ]
    },
    {
      "cell_type": "markdown",
      "metadata": {
        "id": "2CShWq5T8i7N"
      },
      "source": [
        "Since we do not know how many clusters our data possesses (i.e, how many types of wines it describes) the optimal number of clusters will be determined through the Elbow Method before performing the KMeans clustering analysis. "
      ]
    },
    {
      "cell_type": "code",
      "metadata": {
        "colab": {
          "base_uri": "https://localhost:8080/",
          "height": 465
        },
        "id": "4d5iv5oE2jCh",
        "outputId": "86b35f2a-aecd-40e2-d7a2-ec5d8195e4ff"
      },
      "source": [
        "#busco cantidad óptima de clusters a usar\n",
        "\n",
        "distortions= [] # this corresponds to the calculation of the within clusters sum of space (wcss)\n",
        "K=range(1,10)\n",
        "for k in K:\n",
        "  kmeanModel=KMeans(n_clusters=k)\n",
        "  kmeanModel.fit(WineNorm)\n",
        "  distortions.append(kmeanModel.inertia_)\n",
        "\n",
        "plt.figure(figsize=(10,7))\n",
        "plt.plot(K, distortions, 'bx-')\n",
        "plt.xlabel('k')\n",
        "plt.ylabel('Ditortion') #wcss = indicador de qué tan similares son los individuos dentro de los clusters\n",
        "plt.title('The Elbow Method showing the optimal k for KMeans Model')\n",
        "plt.show()\n",
        "\n",
        "#El valor ideal es 3 ya que wcss dejó de disminuir de manera drástica en ese punto. "
      ],
      "execution_count": 37,
      "outputs": [
        {
          "output_type": "display_data",
          "data": {
            "image/png": "[encoded data removed]",
            "text/plain": [
              "<Figure size 720x504 with 1 Axes>"
            ]
          },
          "metadata": {
            "tags": []
          }
        }
      ]
    },
    {
      "cell_type": "markdown",
      "metadata": {
        "id": "K9L801J8-r-x"
      },
      "source": [
        "The figure above, generated through the Elbow Method, shows that 3 is the ideal number of clusters that should be used to apply the KMeans Model. This was concluded since the graph shows that the rate in which the within clusters sum of space (wcss) is reduced, lowers significantly at k=3. \n",
        "\n",
        "Now that a number of clusters has been obtained, it is possible to proceed to the application of the KMeans Model."
      ]
    },
    {
      "cell_type": "code",
      "metadata": {
        "colab": {
          "base_uri": "https://localhost:8080/"
        },
        "id": "SaGHVMGc6KRS",
        "outputId": "699f5c62-0813-4a11-f223-14fd12db1bbe"
      },
      "source": [
        "#Now that the number of clusters is known, the KMeans Method can be applied to the normalized dataset:\n",
        "\n",
        "clustering=KMeans(n_clusters=3)\n",
        "clustering.fit(WineNorm)"
      ],
      "execution_count": 38,
      "outputs": [
        {
          "output_type": "execute_result",
          "data": {
            "text/plain": [
              "KMeans(algorithm='auto', copy_x=True, init='k-means++', max_iter=300,\n",
              "       n_clusters=3, n_init=10, n_jobs=None, precompute_distances='auto',\n",
              "       random_state=None, tol=0.0001, verbose=0)"
            ]
          },
          "metadata": {
            "tags": []
          },
          "execution_count": 38
        }
      ]
    },
    {
      "cell_type": "code",
      "metadata": {
        "colab": {
          "base_uri": "https://localhost:8080/",
          "height": 473
        },
        "id": "WCYhey966r3P",
        "outputId": "e698982d-06a0-4e42-c670-82a569ad721e"
      },
      "source": [
        "#Since the result of the clusters is saved as a label, a column representing the clusters was added to the original dataset.\n",
        "data2['KMeans_Clusters']=clustering.labels_  \n",
        "data2\n",
        "#An interpretation of these clusters could be that they correspond to different types of wine according to their composition. "
      ],
      "execution_count": 39,
      "outputs": [
        {
          "output_type": "execute_result",
          "data": {
            "text/html": [
              "<div>\n",
              "<style scoped>\n",
              "    .dataframe tbody tr th:only-of-type {\n",
              "        vertical-align: middle;\n",
              "    }\n",
              "\n",
              "    .dataframe tbody tr th {\n",
              "        vertical-align: top;\n",
              "    }\n",
              "\n",
              "    .dataframe thead th {\n",
              "        text-align: right;\n",
              "    }\n",
              "</style>\n",
              "<table border=\"1\" class=\"dataframe\">\n",
              "  <thead>\n",
              "    <tr style=\"text-align: right;\">\n",
              "      <th></th>\n",
              "      <th>Alcohol</th>\n",
              "      <th>Malic acid</th>\n",
              "      <th>Ash</th>\n",
              "      <th>Alcalinity of ash</th>\n",
              "      <th>Magnesium</th>\n",
              "      <th>Total phenols</th>\n",
              "      <th>Flavanoids</th>\n",
              "      <th>Nonflavanoid phenols</th>\n",
              "      <th>Proanthocyanins</th>\n",
              "      <th>Color intensity</th>\n",
              "      <th>Hue</th>\n",
              "      <th>OD280/OD315 of diluted wines</th>\n",
              "      <th>Proline</th>\n",
              "      <th>KMeans_Clusters</th>\n",
              "    </tr>\n",
              "  </thead>\n",
              "  <tbody>\n",
              "    <tr>\n",
              "      <th>0</th>\n",
              "      <td>14.23</td>\n",
              "      <td>1.71</td>\n",
              "      <td>2.43</td>\n",
              "      <td>15.6</td>\n",
              "      <td>127</td>\n",
              "      <td>2.80</td>\n",
              "      <td>3.06</td>\n",
              "      <td>0.28</td>\n",
              "      <td>2.29</td>\n",
              "      <td>5.64</td>\n",
              "      <td>1.04</td>\n",
              "      <td>3.92</td>\n",
              "      <td>1065</td>\n",
              "      <td>0</td>\n",
              "    </tr>\n",
              "    <tr>\n",
              "      <th>1</th>\n",
              "      <td>13.20</td>\n",
              "      <td>1.78</td>\n",
              "      <td>2.14</td>\n",
              "      <td>11.2</td>\n",
              "      <td>100</td>\n",
              "      <td>2.65</td>\n",
              "      <td>2.76</td>\n",
              "      <td>0.26</td>\n",
              "      <td>1.28</td>\n",
              "      <td>4.38</td>\n",
              "      <td>1.05</td>\n",
              "      <td>3.40</td>\n",
              "      <td>1050</td>\n",
              "      <td>0</td>\n",
              "    </tr>\n",
              "    <tr>\n",
              "      <th>2</th>\n",
              "      <td>13.16</td>\n",
              "      <td>2.36</td>\n",
              "      <td>2.67</td>\n",
              "      <td>18.6</td>\n",
              "      <td>101</td>\n",
              "      <td>2.80</td>\n",
              "      <td>3.24</td>\n",
              "      <td>0.30</td>\n",
              "      <td>2.81</td>\n",
              "      <td>5.68</td>\n",
              "      <td>1.03</td>\n",
              "      <td>3.17</td>\n",
              "      <td>1185</td>\n",
              "      <td>0</td>\n",
              "    </tr>\n",
              "    <tr>\n",
              "      <th>3</th>\n",
              "      <td>14.37</td>\n",
              "      <td>1.95</td>\n",
              "      <td>2.50</td>\n",
              "      <td>16.8</td>\n",
              "      <td>113</td>\n",
              "      <td>3.85</td>\n",
              "      <td>3.49</td>\n",
              "      <td>0.24</td>\n",
              "      <td>2.18</td>\n",
              "      <td>7.80</td>\n",
              "      <td>0.86</td>\n",
              "      <td>3.45</td>\n",
              "      <td>1480</td>\n",
              "      <td>0</td>\n",
              "    </tr>\n",
              "    <tr>\n",
              "      <th>4</th>\n",
              "      <td>13.24</td>\n",
              "      <td>2.59</td>\n",
              "      <td>2.87</td>\n",
              "      <td>21.0</td>\n",
              "      <td>118</td>\n",
              "      <td>2.80</td>\n",
              "      <td>2.69</td>\n",
              "      <td>0.39</td>\n",
              "      <td>1.82</td>\n",
              "      <td>4.32</td>\n",
              "      <td>1.04</td>\n",
              "      <td>2.93</td>\n",
              "      <td>735</td>\n",
              "      <td>0</td>\n",
              "    </tr>\n",
              "    <tr>\n",
              "      <th>...</th>\n",
              "      <td>...</td>\n",
              "      <td>...</td>\n",
              "      <td>...</td>\n",
              "      <td>...</td>\n",
              "      <td>...</td>\n",
              "      <td>...</td>\n",
              "      <td>...</td>\n",
              "      <td>...</td>\n",
              "      <td>...</td>\n",
              "      <td>...</td>\n",
              "      <td>...</td>\n",
              "      <td>...</td>\n",
              "      <td>...</td>\n",
              "      <td>...</td>\n",
              "    </tr>\n",
              "    <tr>\n",
              "      <th>173</th>\n",
              "      <td>13.71</td>\n",
              "      <td>5.65</td>\n",
              "      <td>2.45</td>\n",
              "      <td>20.5</td>\n",
              "      <td>95</td>\n",
              "      <td>1.68</td>\n",
              "      <td>0.61</td>\n",
              "      <td>0.52</td>\n",
              "      <td>1.06</td>\n",
              "      <td>7.70</td>\n",
              "      <td>0.64</td>\n",
              "      <td>1.74</td>\n",
              "      <td>740</td>\n",
              "      <td>1</td>\n",
              "    </tr>\n",
              "    <tr>\n",
              "      <th>174</th>\n",
              "      <td>13.40</td>\n",
              "      <td>3.91</td>\n",
              "      <td>2.48</td>\n",
              "      <td>23.0</td>\n",
              "      <td>102</td>\n",
              "      <td>1.80</td>\n",
              "      <td>0.75</td>\n",
              "      <td>0.43</td>\n",
              "      <td>1.41</td>\n",
              "      <td>7.30</td>\n",
              "      <td>0.70</td>\n",
              "      <td>1.56</td>\n",
              "      <td>750</td>\n",
              "      <td>1</td>\n",
              "    </tr>\n",
              "    <tr>\n",
              "      <th>175</th>\n",
              "      <td>13.27</td>\n",
              "      <td>4.28</td>\n",
              "      <td>2.26</td>\n",
              "      <td>20.0</td>\n",
              "      <td>120</td>\n",
              "      <td>1.59</td>\n",
              "      <td>0.69</td>\n",
              "      <td>0.43</td>\n",
              "      <td>1.35</td>\n",
              "      <td>10.20</td>\n",
              "      <td>0.59</td>\n",
              "      <td>1.56</td>\n",
              "      <td>835</td>\n",
              "      <td>1</td>\n",
              "    </tr>\n",
              "    <tr>\n",
              "      <th>176</th>\n",
              "      <td>13.17</td>\n",
              "      <td>2.59</td>\n",
              "      <td>2.37</td>\n",
              "      <td>20.0</td>\n",
              "      <td>120</td>\n",
              "      <td>1.65</td>\n",
              "      <td>0.68</td>\n",
              "      <td>0.53</td>\n",
              "      <td>1.46</td>\n",
              "      <td>9.30</td>\n",
              "      <td>0.60</td>\n",
              "      <td>1.62</td>\n",
              "      <td>840</td>\n",
              "      <td>1</td>\n",
              "    </tr>\n",
              "    <tr>\n",
              "      <th>177</th>\n",
              "      <td>14.13</td>\n",
              "      <td>4.10</td>\n",
              "      <td>2.74</td>\n",
              "      <td>24.5</td>\n",
              "      <td>96</td>\n",
              "      <td>2.05</td>\n",
              "      <td>0.76</td>\n",
              "      <td>0.56</td>\n",
              "      <td>1.35</td>\n",
              "      <td>9.20</td>\n",
              "      <td>0.61</td>\n",
              "      <td>1.60</td>\n",
              "      <td>560</td>\n",
              "      <td>1</td>\n",
              "    </tr>\n",
              "  </tbody>\n",
              "</table>\n",
              "<p>178 rows × 14 columns</p>\n",
              "</div>"
            ],
            "text/plain": [
              "     Alcohol  Malic acid  ...  Proline  KMeans_Clusters\n",
              "0      14.23        1.71  ...     1065                0\n",
              "1      13.20        1.78  ...     1050                0\n",
              "2      13.16        2.36  ...     1185                0\n",
              "3      14.37        1.95  ...     1480                0\n",
              "4      13.24        2.59  ...      735                0\n",
              "..       ...         ...  ...      ...              ...\n",
              "173    13.71        5.65  ...      740                1\n",
              "174    13.40        3.91  ...      750                1\n",
              "175    13.27        4.28  ...      835                1\n",
              "176    13.17        2.59  ...      840                1\n",
              "177    14.13        4.10  ...      560                1\n",
              "\n",
              "[178 rows x 14 columns]"
            ]
          },
          "metadata": {
            "tags": []
          },
          "execution_count": 39
        }
      ]
    },
    {
      "cell_type": "markdown",
      "metadata": {
        "id": "Cs6eMBciQm_9"
      },
      "source": [
        "In ordert to visualize the obtained clusters we can run a PCA to reduce the dataset into two components that can be easily plotted. "
      ]
    },
    {
      "cell_type": "code",
      "metadata": {
        "colab": {
          "base_uri": "https://localhost:8080/",
          "height": 419
        },
        "id": "baHiyjfm7PoW",
        "outputId": "16c36c00-8c47-4558-8e62-32f40732e710"
      },
      "source": [
        "#PCA Analysis\n",
        "from sklearn.decomposition import PCA #utilizo PCA para reducir \n",
        "\n",
        "pca=PCA(n_components=2) #indico que quiero los dos componentes principales\n",
        "pcawine=pca.fit_transform(WineNorm)\n",
        "pcawine_df=pd.DataFrame(data=pcawine, columns= ['Componente_1', 'Componente_2'])\n",
        "pca_nombres_wine=pd.concat([pcawine_df, data2[['KMeans_Clusters']]], axis=1) #pd.concat agrega la columna\n",
        "\n",
        "pca_nombres_wine\n",
        "\n",
        "#As it can be observed below, now we have a data framework composed of two components that describe de dataset and their \n",
        "#corresponding clusters. "
      ],
      "execution_count": 40,
      "outputs": [
        {
          "output_type": "execute_result",
          "data": {
            "text/html": [
              "<div>\n",
              "<style scoped>\n",
              "    .dataframe tbody tr th:only-of-type {\n",
              "        vertical-align: middle;\n",
              "    }\n",
              "\n",
              "    .dataframe tbody tr th {\n",
              "        vertical-align: top;\n",
              "    }\n",
              "\n",
              "    .dataframe thead th {\n",
              "        text-align: right;\n",
              "    }\n",
              "</style>\n",
              "<table border=\"1\" class=\"dataframe\">\n",
              "  <thead>\n",
              "    <tr style=\"text-align: right;\">\n",
              "      <th></th>\n",
              "      <th>Componente_1</th>\n",
              "      <th>Componente_2</th>\n",
              "      <th>KMeans_Clusters</th>\n",
              "    </tr>\n",
              "  </thead>\n",
              "  <tbody>\n",
              "    <tr>\n",
              "      <th>0</th>\n",
              "      <td>-0.706336</td>\n",
              "      <td>-0.253193</td>\n",
              "      <td>0</td>\n",
              "    </tr>\n",
              "    <tr>\n",
              "      <th>1</th>\n",
              "      <td>-0.484977</td>\n",
              "      <td>-0.008823</td>\n",
              "      <td>0</td>\n",
              "    </tr>\n",
              "    <tr>\n",
              "      <th>2</th>\n",
              "      <td>-0.521172</td>\n",
              "      <td>-0.189187</td>\n",
              "      <td>0</td>\n",
              "    </tr>\n",
              "    <tr>\n",
              "      <th>3</th>\n",
              "      <td>-0.821644</td>\n",
              "      <td>-0.580906</td>\n",
              "      <td>0</td>\n",
              "    </tr>\n",
              "    <tr>\n",
              "      <th>4</th>\n",
              "      <td>-0.202546</td>\n",
              "      <td>-0.059467</td>\n",
              "      <td>0</td>\n",
              "    </tr>\n",
              "    <tr>\n",
              "      <th>...</th>\n",
              "      <td>...</td>\n",
              "      <td>...</td>\n",
              "      <td>...</td>\n",
              "    </tr>\n",
              "    <tr>\n",
              "      <th>173</th>\n",
              "      <td>0.739510</td>\n",
              "      <td>-0.471901</td>\n",
              "      <td>1</td>\n",
              "    </tr>\n",
              "    <tr>\n",
              "      <th>174</th>\n",
              "      <td>0.581781</td>\n",
              "      <td>-0.348366</td>\n",
              "      <td>1</td>\n",
              "    </tr>\n",
              "    <tr>\n",
              "      <th>175</th>\n",
              "      <td>0.626313</td>\n",
              "      <td>-0.546857</td>\n",
              "      <td>1</td>\n",
              "    </tr>\n",
              "    <tr>\n",
              "      <th>176</th>\n",
              "      <td>0.572991</td>\n",
              "      <td>-0.425516</td>\n",
              "      <td>1</td>\n",
              "    </tr>\n",
              "    <tr>\n",
              "      <th>177</th>\n",
              "      <td>0.701764</td>\n",
              "      <td>-0.513505</td>\n",
              "      <td>1</td>\n",
              "    </tr>\n",
              "  </tbody>\n",
              "</table>\n",
              "<p>178 rows × 3 columns</p>\n",
              "</div>"
            ],
            "text/plain": [
              "     Componente_1  Componente_2  KMeans_Clusters\n",
              "0       -0.706336     -0.253193                0\n",
              "1       -0.484977     -0.008823                0\n",
              "2       -0.521172     -0.189187                0\n",
              "3       -0.821644     -0.580906                0\n",
              "4       -0.202546     -0.059467                0\n",
              "..            ...           ...              ...\n",
              "173      0.739510     -0.471901                1\n",
              "174      0.581781     -0.348366                1\n",
              "175      0.626313     -0.546857                1\n",
              "176      0.572991     -0.425516                1\n",
              "177      0.701764     -0.513505                1\n",
              "\n",
              "[178 rows x 3 columns]"
            ]
          },
          "metadata": {
            "tags": []
          },
          "execution_count": 40
        }
      ]
    },
    {
      "cell_type": "markdown",
      "metadata": {
        "id": "w2djR3tXi2OW"
      },
      "source": [
        "Now that a data framework cointaing the two main components of the dataset and their corresponding clusters has been obtained, these can be plotted to visualize them."
      ]
    },
    {
      "cell_type": "code",
      "metadata": {
        "colab": {
          "base_uri": "https://localhost:8080/",
          "height": 417
        },
        "id": "EneIfBff84Vc",
        "outputId": "f410038f-0464-4322-bfa8-e8be75570812"
      },
      "source": [
        "#Plot of the principal components, colored according to the cluster to which they belong. \n",
        "\n",
        "fig=plt.figure(figsize=(6,6))\n",
        "\n",
        "ax=fig.add_subplot(1,1,1)\n",
        "ax.set_xlabel('Component 1', fontsize=15)\n",
        "ax.set_ylabel('Component 2', fontsize=15)\n",
        "ax.set_title('Pincipal Components', fontsize=20)\n",
        "\n",
        "color_theme=np.array(['blue', 'purple', 'orange'])\n",
        "ax.scatter(x=pca_nombres_wine.Componente_1, y=pca_nombres_wine.Componente_2, c=color_theme[pca_nombres_wine.KMeans_Clusters], s=50)\n",
        "plt.show() #it can be observed that, in general, the clusters are well defined. "
      ],
      "execution_count": 41,
      "outputs": [
        {
          "output_type": "display_data",
          "data": {
            "image/png": "[encoded data removed]",
            "text/plain": [
              "<Figure size 432x432 with 1 Axes>"
            ]
          },
          "metadata": {
            "tags": []
          }
        }
      ]
    },
    {
      "cell_type": "markdown",
      "metadata": {
        "id": "lJ9H76WdRpit"
      },
      "source": [
        "From the Figure above it can be observed that, in general, the clusters have been well defined."
      ]
    },
    {
      "cell_type": "markdown",
      "metadata": {
        "id": "OCJ8henQS_tP"
      },
      "source": [
        "Afterwards, the silhouette coefficient was calculated to evaluate the model. This coefficient measures the similarity of an object to its own cluster, compared to other clusters."
      ]
    },
    {
      "cell_type": "code",
      "metadata": {
        "colab": {
          "base_uri": "https://localhost:8080/"
        },
        "id": "zprpnCRZTYTw",
        "outputId": "4587ef76-81ea-44d2-baf7-1719478bdc6f"
      },
      "source": [
        "silhouette_score(WineNorm, clustering.labels_)"
      ],
      "execution_count": 42,
      "outputs": [
        {
          "output_type": "execute_result",
          "data": {
            "text/plain": [
              "0.3013463273503232"
            ]
          },
          "metadata": {
            "tags": []
          },
          "execution_count": 42
        }
      ]
    },
    {
      "cell_type": "markdown",
      "metadata": {
        "id": "ZkfePbLdTaZo"
      },
      "source": [
        "A silhouette score of ~0.3 was obtained. Since this score rages from -1 to 1 (being 1 the best score). It can be stated that this result is acceptable, although there might be some data overlapping between clusters (coefficients closer to zero indicate overlapping clusters). "
      ]
    },
    {
      "cell_type": "markdown",
      "metadata": {
        "id": "ruYuboyASAbp"
      },
      "source": [
        "## **DBSCAN Clustering Analysis**"
      ]
    },
    {
      "cell_type": "markdown",
      "metadata": {
        "id": "1Rkon1fZSFXD"
      },
      "source": [
        "A DBSCAN Clustering Analysis was also performed. Since the data had already been analysed and normalized, it was feasible to procede directly to the application of the model. Eps=0.5 was chosen since it is the default value, and a minimun of ten samples was assigned since it showed a highest silhouette score when compared to other amounts. "
      ]
    },
    {
      "cell_type": "code",
      "metadata": {
        "id": "_nMI5Thg_L-L"
      },
      "source": [
        "dbsc = DBSCAN(eps = 0.5, min_samples = 10).fit(WineNorm)"
      ],
      "execution_count": 43,
      "outputs": []
    },
    {
      "cell_type": "code",
      "metadata": {
        "colab": {
          "base_uri": "https://localhost:8080/"
        },
        "id": "SJPndth2_dw5",
        "outputId": "fff486ce-03b6-4c9a-c11a-6f6b49989ebe"
      },
      "source": [
        "silhouette_score(WineNorm, dbsc.labels_) #score de DBSCAN"
      ],
      "execution_count": 44,
      "outputs": [
        {
          "output_type": "execute_result",
          "data": {
            "text/plain": [
              "0.20409978452740918"
            ]
          },
          "metadata": {
            "tags": []
          },
          "execution_count": 44
        }
      ]
    },
    {
      "cell_type": "markdown",
      "metadata": {
        "id": "LpbAtY8-UuoJ"
      },
      "source": [
        "## **Agglomerative Clustering**"
      ]
    },
    {
      "cell_type": "markdown",
      "metadata": {
        "id": "TNXNOcBTU5nZ"
      },
      "source": [
        "An Agglomerative Clustering Analysis was also applied directly to the normalized data. The silhouette score was calculted for the model when two and three clusters were used. The result obtained was practically the same (~0.29). The score was slightly higher when 2 clusters were used, which can be attributed to slightly less clustering overlapping. However, we know that taking into account the characteristics of the dataset, three is the optimal number of clusters to use.  "
      ]
    },
    {
      "cell_type": "code",
      "metadata": {
        "colab": {
          "base_uri": "https://localhost:8080/"
        },
        "id": "mD6a64I__Z3_",
        "outputId": "0d74f05c-76f3-44aa-c1aa-40916f0e91a1"
      },
      "source": [
        "ac2=AgglomerativeClustering(n_clusters=2).fit(WineNorm) #score Agglomerative 2 clusters\n",
        "silhouette_score(WineNorm, ac2.labels_)"
      ],
      "execution_count": 45,
      "outputs": [
        {
          "output_type": "execute_result",
          "data": {
            "text/plain": [
              "0.29666794582183303"
            ]
          },
          "metadata": {
            "tags": []
          },
          "execution_count": 45
        }
      ]
    },
    {
      "cell_type": "code",
      "metadata": {
        "colab": {
          "base_uri": "https://localhost:8080/"
        },
        "id": "AGrzeOfRAXQ9",
        "outputId": "9223f037-8479-4253-92d0-490c036191da"
      },
      "source": [
        "ac3=AgglomerativeClustering(n_clusters=3).fit(WineNorm) #score Agglomerative 3 clusters\n",
        "silhouette_score(WineNorm, ac3.labels_)"
      ],
      "execution_count": 46,
      "outputs": [
        {
          "output_type": "execute_result",
          "data": {
            "text/plain": [
              "0.2948290632158541"
            ]
          },
          "metadata": {
            "tags": []
          },
          "execution_count": 46
        }
      ]
    },
    {
      "cell_type": "markdown",
      "metadata": {
        "id": "1pnuxQBEWC9s"
      },
      "source": [
        "Since the Elbow Method can only be applied when the KMeans model is used, a Dendogram was plotted to corroborate that three is the optimal number of clusters. A dendogram is a tree-shaped diagram that represents every merge occured during the application of the model. The x-axis shows all the points contained in the dataset, and the y-axis represents the distance between these points. The longer the vertical lines are, the bigger the distance between the points is. "
      ]
    },
    {
      "cell_type": "code",
      "metadata": {
        "colab": {
          "base_uri": "https://localhost:8080/",
          "height": 448
        },
        "id": "ZD7hqHHbIEvZ",
        "outputId": "0eedb622-2014-4263-c9b3-da72686f62a4"
      },
      "source": [
        "import scipy.cluster.hierarchy as shc\n",
        "plt.figure(figsize=(10, 7))  \n",
        "plt.title(\"Dendrograms\")  \n",
        "dend = shc.dendrogram(shc.linkage(WineNorm, method='ward'))"
      ],
      "execution_count": 47,
      "outputs": [
        {
          "output_type": "display_data",
          "data": {
            "image/png": "[encoded data removed]",
            "text/plain": [
              "<Figure size 720x504 with 1 Axes>"
            ]
          },
          "metadata": {
            "tags": []
          }
        }
      ]
    },
    {
      "cell_type": "markdown",
      "metadata": {
        "id": "dKECDSRXdkNf"
      },
      "source": [
        "The number of clusters is calculated by drawing a line across the tallest vertical line. The number of clusters corresponds then to the number of vertical lines that the new horizontal line passes through. As shown in the figure below, there are three clusters. \n"
      ]
    },
    {
      "cell_type": "code",
      "metadata": {
        "colab": {
          "base_uri": "https://localhost:8080/",
          "height": 465
        },
        "id": "qnC94eD0ImyJ",
        "outputId": "b5011d0e-27a3-4946-9ddb-d893f20e87df"
      },
      "source": [
        "plt.figure(figsize=(10, 7))  \n",
        "plt.title(\"Dendrograms\")  \n",
        "dend = shc.dendrogram(shc.linkage(WineNorm, method='ward'))\n",
        "plt.axhline(y=5, color='r', linestyle='--') #number of clusters correspond to the number of vertical lines cut by the threshold"
      ],
      "execution_count": 48,
      "outputs": [
        {
          "output_type": "execute_result",
          "data": {
            "text/plain": [
              "<matplotlib.lines.Line2D at 0x7fe37f950048>"
            ]
          },
          "metadata": {
            "tags": []
          },
          "execution_count": 48
        },
        {
          "output_type": "display_data",
          "data": {
            "image/png": "[encoded data removed]",
            "text/plain": [
              "<Figure size 720x504 with 1 Axes>"
            ]
          },
          "metadata": {
            "tags": []
          }
        }
      ]
    },
    {
      "cell_type": "markdown",
      "metadata": {
        "id": "nx0is0p3eV5-"
      },
      "source": [
        "## **Conclusions**"
      ]
    },
    {
      "cell_type": "markdown",
      "metadata": {
        "id": "bRWUCCbCB9pI"
      },
      "source": [
        "According to the obtained results, we can conclude that the dataset describes three diferent types of wine by analysing their chemical compositions. This was shown both by the Elbow Method and the generated Dendogram. Furthermore, the silhouette scores of each model were calculated. Eventhough they are similar between each other, **the KMeans Model showed to be more suitable to process this data**. This is probably due to the fact that this model performs a better measurement of the similarities between each object. The DBSCAN model scored the lowest in the silhouette coefficient, probably because this model is a density-based method and should also be specified a minimum number of samples for a region to be considered dense, as well of an eps, which in some cases can be harder to determine in comparison to a number of clusters in the case of the other two methods. "
      ]
    }
  ]
}